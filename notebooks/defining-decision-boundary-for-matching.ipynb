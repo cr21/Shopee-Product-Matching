{
 "cells": [
  {
   "cell_type": "code",
   "execution_count": 1,
   "id": "10bed942",
   "metadata": {
    "_cell_guid": "b1076dfc-b9ad-4769-8c92-a6c4dae69d19",
    "_uuid": "8f2839f25d086af736a60e9eeb907d3b93b6e0e5",
    "execution": {
     "iopub.execute_input": "2022-09-24T22:11:09.554176Z",
     "iopub.status.busy": "2022-09-24T22:11:09.553519Z",
     "iopub.status.idle": "2022-09-24T22:11:17.631828Z",
     "shell.execute_reply": "2022-09-24T22:11:17.631044Z"
    },
    "papermill": {
     "duration": 8.095842,
     "end_time": "2022-09-24T22:11:17.634170",
     "exception": false,
     "start_time": "2022-09-24T22:11:09.538328",
     "status": "completed"
    },
    "tags": []
   },
   "outputs": [],
   "source": [
    "import sys\n",
    "sys.path.append('../input/timmmaster')\n",
    "import timm"
   ]
  },
  {
   "cell_type": "markdown",
   "id": "ac26848f",
   "metadata": {
    "papermill": {
     "duration": 0.010611,
     "end_time": "2022-09-24T22:11:17.656414",
     "exception": false,
     "start_time": "2022-09-24T22:11:17.645803",
     "status": "completed"
    },
    "tags": []
   },
   "source": [
    "# Introduction:\n",
    "* I have already Trained [Efficient Net Image Model](https://github.com/cr21/Shopee-Product-Matching/blob/main/notebooks/ArcfaceLoss%5Btraining%5D.ipynb) to generate Image Embeddings, I already stored trained Image embeddings to use it for downstreaming task.\n",
    "* I also trained [Multilingual DistilBERT](https://github.com/cr21/Shopee-Product-Matching/blob/main/notebooks/shopee-bert-training.ipynb) Model to generate Text Embeddings\n",
    "* I used [ArcFace Loss](https://arxiv.org/abs/1801.07698) to trained Image Model and Text Model to generate more discriminative embeddings."
   ]
  },
  {
   "cell_type": "markdown",
   "id": "618bae81",
   "metadata": {
    "papermill": {
     "duration": 0.010611,
     "end_time": "2022-09-24T22:11:17.677782",
     "exception": false,
     "start_time": "2022-09-24T22:11:17.667171",
     "status": "completed"
    },
    "tags": []
   },
   "source": [
    "# Better Decision Boundary\n",
    "* We can calculate the probability that two products are matched based on their Image Embeddings cosine distance, and Text Embeddings cosine distance\n"
   ]
  },
  {
   "cell_type": "markdown",
   "id": "c2c1779d",
   "metadata": {
    "papermill": {
     "duration": 0.010613,
     "end_time": "2022-09-24T22:11:17.699149",
     "exception": false,
     "start_time": "2022-09-24T22:11:17.688536",
     "status": "completed"
    },
    "tags": []
   },
   "source": [
    "### Load Libraries"
   ]
  },
  {
   "cell_type": "code",
   "execution_count": 2,
   "id": "53ee9dd4",
   "metadata": {
    "execution": {
     "iopub.execute_input": "2022-09-24T22:11:17.722511Z",
     "iopub.status.busy": "2022-09-24T22:11:17.721782Z",
     "iopub.status.idle": "2022-09-24T22:11:21.278795Z",
     "shell.execute_reply": "2022-09-24T22:11:21.278041Z"
    },
    "papermill": {
     "duration": 3.571067,
     "end_time": "2022-09-24T22:11:21.281116",
     "exception": false,
     "start_time": "2022-09-24T22:11:17.710049",
     "status": "completed"
    },
    "tags": []
   },
   "outputs": [],
   "source": [
    "# Preliminaries\n",
    "from tqdm import tqdm\n",
    "import math\n",
    "import random\n",
    "import os\n",
    "import pandas as pd\n",
    "import numpy as np\n",
    "\n",
    "\n",
    "\n",
    "import gc\n",
    "import matplotlib.pyplot as plt\n",
    "import cudf\n",
    "import cuml\n",
    "import cupy\n",
    "from cuml.feature_extraction.text import TfidfVectorizer\n",
    "from cuml import PCA\n",
    "from cuml.neighbors import NearestNeighbors\n",
    "import seaborn as sns\n"
   ]
  },
  {
   "cell_type": "markdown",
   "id": "3de521a7",
   "metadata": {
    "papermill": {
     "duration": 0.010655,
     "end_time": "2022-09-24T22:11:21.302862",
     "exception": false,
     "start_time": "2022-09-24T22:11:21.292207",
     "status": "completed"
    },
    "tags": []
   },
   "source": [
    "## Loading Data"
   ]
  },
  {
   "cell_type": "code",
   "execution_count": 3,
   "id": "6309d972",
   "metadata": {
    "execution": {
     "iopub.execute_input": "2022-09-24T22:11:21.325396Z",
     "iopub.status.busy": "2022-09-24T22:11:21.325176Z",
     "iopub.status.idle": "2022-09-24T22:11:21.330434Z",
     "shell.execute_reply": "2022-09-24T22:11:21.329796Z"
    },
    "papermill": {
     "duration": 0.0184,
     "end_time": "2022-09-24T22:11:21.332069",
     "exception": false,
     "start_time": "2022-09-24T22:11:21.313669",
     "status": "completed"
    },
    "tags": []
   },
   "outputs": [],
   "source": [
    "def f1_score(y_true, y_pred):\n",
    "    y_true = y_true.apply(lambda x: set(x.split()))\n",
    "    y_pred = y_pred.apply(lambda x: set(x.split()))\n",
    "    intersection = np.array([len(x[0] & x[1]) for x in zip(y_true, y_pred)])\n",
    "    len_y_pred = y_pred.apply(lambda x: len(x)).values\n",
    "    len_y_true = y_true.apply(lambda x: len(x)).values\n",
    "    f1 = 2 * intersection / (len_y_pred + len_y_true)\n",
    "    return f1"
   ]
  },
  {
   "cell_type": "code",
   "execution_count": 4,
   "id": "5a3d76aa",
   "metadata": {
    "execution": {
     "iopub.execute_input": "2022-09-24T22:11:21.354906Z",
     "iopub.status.busy": "2022-09-24T22:11:21.354504Z",
     "iopub.status.idle": "2022-09-24T22:11:23.363856Z",
     "shell.execute_reply": "2022-09-24T22:11:23.361660Z"
    },
    "papermill": {
     "duration": 2.022988,
     "end_time": "2022-09-24T22:11:23.365763",
     "exception": false,
     "start_time": "2022-09-24T22:11:21.342775",
     "status": "completed"
    },
    "tags": []
   },
   "outputs": [
    {
     "name": "stdout",
     "output_type": "stream",
     "text": [
      "Shape Of Image Embeddings (34250, 1536)\n"
     ]
    }
   ],
   "source": [
    "\n",
    "image_embeddings = np.load('../input/multimodal-output/image_embeddings_0.9_training.npy')\n",
    "print(\"Shape Of Image Embeddings\", image_embeddings.shape)"
   ]
  },
  {
   "cell_type": "code",
   "execution_count": 5,
   "id": "1e477440",
   "metadata": {
    "execution": {
     "iopub.execute_input": "2022-09-24T22:11:23.393953Z",
     "iopub.status.busy": "2022-09-24T22:11:23.393351Z",
     "iopub.status.idle": "2022-09-24T22:11:24.115650Z",
     "shell.execute_reply": "2022-09-24T22:11:24.114899Z"
    },
    "papermill": {
     "duration": 0.740218,
     "end_time": "2022-09-24T22:11:24.117924",
     "exception": false,
     "start_time": "2022-09-24T22:11:23.377706",
     "status": "completed"
    },
    "tags": []
   },
   "outputs": [
    {
     "name": "stdout",
     "output_type": "stream",
     "text": [
      "Shape Of Text Embeddings (34250, 768)\n"
     ]
    }
   ],
   "source": [
    "\n",
    "text_embeddings = np.load('../input/multimodal-output/Indonesian_distillbert_emebddings.npy')\n",
    "print(\"Shape Of Text Embeddings\", text_embeddings.shape)"
   ]
  },
  {
   "cell_type": "code",
   "execution_count": 6,
   "id": "95422dac",
   "metadata": {
    "execution": {
     "iopub.execute_input": "2022-09-24T22:11:24.142553Z",
     "iopub.status.busy": "2022-09-24T22:11:24.142145Z",
     "iopub.status.idle": "2022-09-24T22:11:24.153369Z",
     "shell.execute_reply": "2022-09-24T22:11:24.152616Z"
    },
    "papermill": {
     "duration": 0.025579,
     "end_time": "2022-09-24T22:11:24.155067",
     "exception": false,
     "start_time": "2022-09-24T22:11:24.129488",
     "status": "completed"
    },
    "tags": []
   },
   "outputs": [],
   "source": [
    "def cross_validation_threshold(df, image_embeddings,text_embeddings, KNN = 50, metric_param = 'cosine'):\n",
    "    print(\"image_embeddings shape\",image_embeddings.shape)\n",
    "    print(\"text_embeddings shape\",text_embeddings.shape)\n",
    "    # Fit KNN Model on Image Embeddings\n",
    "    imagemodel = NearestNeighbors(n_neighbors = KNN,metric=metric_param)\n",
    "    imagemodel.fit(image_embeddings)\n",
    "    image_distances, image_indices = imagemodel.kneighbors(image_embeddings)\n",
    "    \n",
    "    ## Fit KNN Model on Text Embeddings\n",
    "    textmodel = NearestNeighbors(n_neighbors = KNN,metric=metric_param)\n",
    "    textmodel.fit(text_embeddings)\n",
    "    text_distances, text_indices = textmodel.kneighbors(text_embeddings)\n",
    "    \n",
    "    # define text threshold for Cross validation\n",
    "    text_thresholds = list(np.arange(0.1, 1, 0.1))\n",
    "    # define Image threshold for Cross validation\n",
    "    image_threshold = list(np.arange(0.1, 1, 0.1))\n",
    "    scores = []\n",
    "    image_params = []\n",
    "    text_params = []\n",
    "    \n",
    "    # for each threshold get top k neighbors with in threshold distance \n",
    "    # then get f1 score\n",
    "    \n",
    "    for text_idx, txt_th in enumerate(text_thresholds[::-1]):\n",
    "        print(\"**\"*50)\n",
    "        for img_idx, img_th in enumerate(image_threshold):\n",
    "            predictions = []\n",
    "            # get prediction with current text and image threshold \n",
    "            # get prediction matches \n",
    "            # and get f1 score\n",
    "            \n",
    "            for k in range(image_embeddings.shape[0]):\n",
    "                # Image Predictions\n",
    "                img_idx = np.where(image_distances[k,] < img_th)[0]\n",
    "                image_ids = image_indices[k,img_idx]   \n",
    "                # Text Predictions\n",
    "                txt_idx = np.where(text_distances[k,] < txt_th)[0]\n",
    "                text_ids = text_indices[k,txt_idx]\n",
    "                \n",
    "                # combine text and image predictions\n",
    "                ids = np.concatenate([image_ids,text_ids])\n",
    "                ids = np.unique(ids)\n",
    "                \n",
    "                # get posting ids based on retrival set\n",
    "                posting_ids = ' '.join(df['posting_id'].iloc[ids].values)\n",
    "                predictions.append(posting_ids)\n",
    "                \n",
    "            df['pred_matches'] = predictions\n",
    "            df['f1'] = f1_score(df['matches'], df['pred_matches'])\n",
    "            score = df['f1'].mean()\n",
    "            print(f'Text threshold => {txt_th}  Image Threshold => {img_th}  F1 Score =>  {score}')\n",
    "            scores.append(score)\n",
    "            image_params.append(img_th)\n",
    "            text_params.append(txt_th)\n",
    "            \n",
    "    # create dataframe for all the cross validation results\n",
    "    thresholds_scores = pd.DataFrame({'img_thresholds': image_params, 'scores': scores,'text_thresholds':text_params})\n",
    "    thresholds_scores.round({'img_thresholds': 2, 'text_thresholds': 2,'scores':2})\n",
    "    return scores,image_params,text_params, thresholds_scores"
   ]
  },
  {
   "cell_type": "code",
   "execution_count": 7,
   "id": "863eabb6",
   "metadata": {
    "execution": {
     "iopub.execute_input": "2022-09-24T22:11:24.179118Z",
     "iopub.status.busy": "2022-09-24T22:11:24.178594Z",
     "iopub.status.idle": "2022-09-24T22:11:24.870414Z",
     "shell.execute_reply": "2022-09-24T22:11:24.869629Z"
    },
    "papermill": {
     "duration": 0.706291,
     "end_time": "2022-09-24T22:11:24.872687",
     "exception": false,
     "start_time": "2022-09-24T22:11:24.166396",
     "status": "completed"
    },
    "tags": []
   },
   "outputs": [],
   "source": [
    "def read_dataset():\n",
    "    df = pd.read_csv('../input/shopee-product-matching/train.csv')\n",
    "    tmp = df.groupby(['label_group'])['posting_id'].unique().to_dict()\n",
    "    df['matches'] = df['label_group'].map(tmp)\n",
    "    df['matches'] = df['matches'].apply(lambda x: ' '.join(x))\n",
    "\n",
    "    return df\n",
    "df = read_dataset()\n"
   ]
  },
  {
   "cell_type": "code",
   "execution_count": 8,
   "id": "2c16ed63",
   "metadata": {
    "execution": {
     "iopub.execute_input": "2022-09-24T22:11:24.897600Z",
     "iopub.status.busy": "2022-09-24T22:11:24.896949Z",
     "iopub.status.idle": "2022-09-24T22:17:11.666126Z",
     "shell.execute_reply": "2022-09-24T22:17:11.664957Z"
    },
    "papermill": {
     "duration": 346.784272,
     "end_time": "2022-09-24T22:17:11.668713",
     "exception": false,
     "start_time": "2022-09-24T22:11:24.884441",
     "status": "completed"
    },
    "tags": []
   },
   "outputs": [
    {
     "name": "stdout",
     "output_type": "stream",
     "text": [
      "image_embeddings shape (34250, 1536)\n",
      "text_embeddings shape (34250, 768)\n",
      "****************************************************************************************************\n",
      "Text threshold => 0.9  Image Threshold => 0.1  F1 Score =>  0.18179834575743015\n",
      "Text threshold => 0.9  Image Threshold => 0.2  F1 Score =>  0.18202434515628751\n",
      "Text threshold => 0.9  Image Threshold => 0.30000000000000004  F1 Score =>  0.18219728461309875\n",
      "Text threshold => 0.9  Image Threshold => 0.4  F1 Score =>  0.18237815431608884\n",
      "Text threshold => 0.9  Image Threshold => 0.5  F1 Score =>  0.18258315407338335\n",
      "Text threshold => 0.9  Image Threshold => 0.6  F1 Score =>  0.1825094794015059\n",
      "Text threshold => 0.9  Image Threshold => 0.7000000000000001  F1 Score =>  0.18035818714923957\n",
      "Text threshold => 0.9  Image Threshold => 0.8  F1 Score =>  0.15107097275306886\n",
      "Text threshold => 0.9  Image Threshold => 0.9  F1 Score =>  0.11808008360356759\n",
      "****************************************************************************************************\n",
      "Text threshold => 0.8  Image Threshold => 0.1  F1 Score =>  0.18182470264890396\n",
      "Text threshold => 0.8  Image Threshold => 0.2  F1 Score =>  0.1820507020477613\n",
      "Text threshold => 0.8  Image Threshold => 0.30000000000000004  F1 Score =>  0.18222364150457257\n",
      "Text threshold => 0.8  Image Threshold => 0.4  F1 Score =>  0.18240451120756263\n",
      "Text threshold => 0.8  Image Threshold => 0.5  F1 Score =>  0.18260951096485717\n",
      "Text threshold => 0.8  Image Threshold => 0.6  F1 Score =>  0.1825358362929797\n",
      "Text threshold => 0.8  Image Threshold => 0.7000000000000001  F1 Score =>  0.18038411536704643\n",
      "Text threshold => 0.8  Image Threshold => 0.8  F1 Score =>  0.15108815634759792\n",
      "Text threshold => 0.8  Image Threshold => 0.9  F1 Score =>  0.11808675757430191\n",
      "****************************************************************************************************\n",
      "Text threshold => 0.7000000000000001  Image Threshold => 0.1  F1 Score =>  0.32231192242946316\n",
      "Text threshold => 0.7000000000000001  Image Threshold => 0.2  F1 Score =>  0.3226042919442078\n",
      "Text threshold => 0.7000000000000001  Image Threshold => 0.30000000000000004  F1 Score =>  0.3228260509956245\n",
      "Text threshold => 0.7000000000000001  Image Threshold => 0.4  F1 Score =>  0.3230710605962768\n",
      "Text threshold => 0.7000000000000001  Image Threshold => 0.5  F1 Score =>  0.32330830051759285\n",
      "Text threshold => 0.7000000000000001  Image Threshold => 0.6  F1 Score =>  0.3226652147275427\n",
      "Text threshold => 0.7000000000000001  Image Threshold => 0.7000000000000001  F1 Score =>  0.3142216866013183\n",
      "Text threshold => 0.7000000000000001  Image Threshold => 0.8  F1 Score =>  0.22041331539685385\n",
      "Text threshold => 0.7000000000000001  Image Threshold => 0.9  F1 Score =>  0.14194619682487428\n",
      "****************************************************************************************************\n",
      "Text threshold => 0.6  Image Threshold => 0.1  F1 Score =>  0.6072771102262664\n",
      "Text threshold => 0.6  Image Threshold => 0.2  F1 Score =>  0.6080230341328525\n",
      "Text threshold => 0.6  Image Threshold => 0.30000000000000004  F1 Score =>  0.6087834733148146\n",
      "Text threshold => 0.6  Image Threshold => 0.4  F1 Score =>  0.6093571902389543\n",
      "Text threshold => 0.6  Image Threshold => 0.5  F1 Score =>  0.60951753514464\n",
      "Text threshold => 0.6  Image Threshold => 0.6  F1 Score =>  0.6060564834904074\n",
      "Text threshold => 0.6  Image Threshold => 0.7000000000000001  F1 Score =>  0.574511275229709\n",
      "Text threshold => 0.6  Image Threshold => 0.8  F1 Score =>  0.3200942128213457\n",
      "Text threshold => 0.6  Image Threshold => 0.9  F1 Score =>  0.16716875127905276\n",
      "****************************************************************************************************\n",
      "Text threshold => 0.5  Image Threshold => 0.1  F1 Score =>  0.7766080389527034\n",
      "Text threshold => 0.5  Image Threshold => 0.2  F1 Score =>  0.7783710442896037\n",
      "Text threshold => 0.5  Image Threshold => 0.30000000000000004  F1 Score =>  0.7802752406840117\n",
      "Text threshold => 0.5  Image Threshold => 0.4  F1 Score =>  0.7816227430170147\n",
      "Text threshold => 0.5  Image Threshold => 0.5  F1 Score =>  0.782142186955905\n",
      "Text threshold => 0.5  Image Threshold => 0.6  F1 Score =>  0.7757883220194761\n",
      "Text threshold => 0.5  Image Threshold => 0.7000000000000001  F1 Score =>  0.7232300645844579\n",
      "Text threshold => 0.5  Image Threshold => 0.8  F1 Score =>  0.363351013351926\n",
      "Text threshold => 0.5  Image Threshold => 0.9  F1 Score =>  0.17499094404277915\n",
      "****************************************************************************************************\n",
      "Text threshold => 0.4  Image Threshold => 0.1  F1 Score =>  0.8486259736923525\n",
      "Text threshold => 0.4  Image Threshold => 0.2  F1 Score =>  0.8520532831403287\n",
      "Text threshold => 0.4  Image Threshold => 0.30000000000000004  F1 Score =>  0.855631659223826\n",
      "Text threshold => 0.4  Image Threshold => 0.4  F1 Score =>  0.8588463862135784\n",
      "Text threshold => 0.4  Image Threshold => 0.5  F1 Score =>  0.8606241923731558\n",
      "Text threshold => 0.4  Image Threshold => 0.6  F1 Score =>  0.8530959981785038\n",
      "Text threshold => 0.4  Image Threshold => 0.7000000000000001  F1 Score =>  0.7876940403132158\n",
      "Text threshold => 0.4  Image Threshold => 0.8  F1 Score =>  0.37877260735768287\n",
      "Text threshold => 0.4  Image Threshold => 0.9  F1 Score =>  0.17730172963578983\n",
      "****************************************************************************************************\n",
      "Text threshold => 0.30000000000000004  Image Threshold => 0.1  F1 Score =>  0.8676436996277475\n",
      "Text threshold => 0.30000000000000004  Image Threshold => 0.2  F1 Score =>  0.8743038486776574\n",
      "Text threshold => 0.30000000000000004  Image Threshold => 0.30000000000000004  F1 Score =>  0.8814985863657934\n",
      "Text threshold => 0.30000000000000004  Image Threshold => 0.4  F1 Score =>  0.8877342496125085\n",
      "Text threshold => 0.30000000000000004  Image Threshold => 0.5  F1 Score =>  0.8924839853342962\n",
      "Text threshold => 0.30000000000000004  Image Threshold => 0.6  F1 Score =>  0.8860734070667132\n",
      "Text threshold => 0.30000000000000004  Image Threshold => 0.7000000000000001  F1 Score =>  0.8141054857119728\n",
      "Text threshold => 0.30000000000000004  Image Threshold => 0.8  F1 Score =>  0.38369350279535014\n",
      "Text threshold => 0.30000000000000004  Image Threshold => 0.9  F1 Score =>  0.17767478026918626\n",
      "****************************************************************************************************\n",
      "Text threshold => 0.2  Image Threshold => 0.1  F1 Score =>  0.8536480628129655\n",
      "Text threshold => 0.2  Image Threshold => 0.2  F1 Score =>  0.865877278958982\n",
      "Text threshold => 0.2  Image Threshold => 0.30000000000000004  F1 Score =>  0.8787166329873195\n",
      "Text threshold => 0.2  Image Threshold => 0.4  F1 Score =>  0.8897661506001934\n",
      "Text threshold => 0.2  Image Threshold => 0.5  F1 Score =>  0.8995053750588048\n",
      "Text threshold => 0.2  Image Threshold => 0.6  F1 Score =>  0.8961575650294175\n",
      "Text threshold => 0.2  Image Threshold => 0.7000000000000001  F1 Score =>  0.8227039297150224\n",
      "Text threshold => 0.2  Image Threshold => 0.8  F1 Score =>  0.3840564804152621\n",
      "Text threshold => 0.2  Image Threshold => 0.9  F1 Score =>  0.17701668119940217\n",
      "****************************************************************************************************\n",
      "Text threshold => 0.1  Image Threshold => 0.1  F1 Score =>  0.7945354642747734\n",
      "Text threshold => 0.1  Image Threshold => 0.2  F1 Score =>  0.816775202811165\n",
      "Text threshold => 0.1  Image Threshold => 0.30000000000000004  F1 Score =>  0.8409324745075871\n",
      "Text threshold => 0.1  Image Threshold => 0.4  F1 Score =>  0.8633323726008965\n",
      "Text threshold => 0.1  Image Threshold => 0.5  F1 Score =>  0.8831107023215824\n",
      "Text threshold => 0.1  Image Threshold => 0.6  F1 Score =>  0.8867801878198893\n",
      "Text threshold => 0.1  Image Threshold => 0.7000000000000001  F1 Score =>  0.8174683289272345\n",
      "Text threshold => 0.1  Image Threshold => 0.8  F1 Score =>  0.380410243078164\n",
      "Text threshold => 0.1  Image Threshold => 0.9  F1 Score =>  0.1749136039756895\n"
     ]
    }
   ],
   "source": [
    "\n",
    "scores, img_params, txt_params, result_df = cross_validation_threshold(df, image_embeddings,text_embeddings, KNN = 50, metric_param = 'cosine')\n",
    "    "
   ]
  },
  {
   "cell_type": "markdown",
   "id": "aaa06c6f",
   "metadata": {
    "papermill": {
     "duration": 0.03521,
     "end_time": "2022-09-24T22:17:11.739746",
     "exception": false,
     "start_time": "2022-09-24T22:17:11.704536",
     "status": "completed"
    },
    "tags": []
   },
   "source": [
    "# Plot Decision Boundry"
   ]
  },
  {
   "cell_type": "code",
   "execution_count": 9,
   "id": "d2e367ee",
   "metadata": {
    "execution": {
     "iopub.execute_input": "2022-09-24T22:17:11.811943Z",
     "iopub.status.busy": "2022-09-24T22:17:11.811491Z",
     "iopub.status.idle": "2022-09-24T22:17:11.817948Z",
     "shell.execute_reply": "2022-09-24T22:17:11.817192Z"
    },
    "papermill": {
     "duration": 0.045257,
     "end_time": "2022-09-24T22:17:11.819836",
     "exception": false,
     "start_time": "2022-09-24T22:17:11.774579",
     "status": "completed"
    },
    "tags": []
   },
   "outputs": [],
   "source": [
    "def plot_decision_boundry(results):\n",
    "    results = results.pivot('text_thresholds','img_thresholds','scores')\n",
    "    results.columns = [0.1,0.2,0.3,0.4,0.5,0.6,0.7,0.8,0.9]\n",
    "    results.index = [0.1,0.2,0.3,0.4,0.5,0.6,0.7,0.8,0.9]\n",
    "    sns.set_theme()\n",
    "    sns.set(rc={'figure.figsize':(14.7,11.27)})\n",
    "    ax = sns.heatmap(results, annot=True,cmap=\"Blues\",xticklabels=True,)\n",
    "    ax.set_title('Probability That Two Products Match\\n')\n",
    "    ax.set(ylabel=\"Text Threshold\",xlabel=\"Image Threshold\")\n",
    "    plt.tick_params(axis='both', which='major', labelsize=10, labelbottom = False, bottom=False, top = False, labeltop=True)\n",
    "    ax.xaxis.set_label_position('top')"
   ]
  },
  {
   "cell_type": "code",
   "execution_count": 10,
   "id": "ca4222fa",
   "metadata": {
    "execution": {
     "iopub.execute_input": "2022-09-24T22:17:11.891496Z",
     "iopub.status.busy": "2022-09-24T22:17:11.890858Z",
     "iopub.status.idle": "2022-09-24T22:17:12.720386Z",
     "shell.execute_reply": "2022-09-24T22:17:12.719612Z"
    },
    "papermill": {
     "duration": 0.867273,
     "end_time": "2022-09-24T22:17:12.722373",
     "exception": false,
     "start_time": "2022-09-24T22:17:11.855100",
     "status": "completed"
    },
    "tags": []
   },
   "outputs": [
    {
     "data": {
      "image/png": "[encoded data removed]",
      "text/plain": [
       "<Figure size 1058.4x811.44 with 2 Axes>"
      ]
     },
     "metadata": {},
     "output_type": "display_data"
    }
   ],
   "source": [
    "plot_decision_boundry(result_df)"
   ]
  },
  {
   "cell_type": "markdown",
   "id": "e718f838",
   "metadata": {
    "papermill": {
     "duration": 0.036449,
     "end_time": "2022-09-24T22:17:12.795401",
     "exception": false,
     "start_time": "2022-09-24T22:17:12.758952",
     "status": "completed"
    },
    "tags": []
   },
   "source": [
    "# Observation\n",
    "\n",
    "* From the plot above, we can infer following things \n",
    "* In **My submission** If **cosine Image distance <0.3** and **Text Distance < 0.17**, I consider them a **match**.\n",
    "* Based on Plot we could increasing our matching, i.g. If two products have **cosine image distance <=0.6** and  **cosine text distance  <= 0.5** then we should consider them a **match**. "
   ]
  }
 ],
 "metadata": {
  "kernelspec": {
   "display_name": "Python 3",
   "language": "python",
   "name": "python3"
  },
  "language_info": {
   "codemirror_mode": {
    "name": "ipython",
    "version": 3
   },
   "file_extension": ".py",
   "mimetype": "text/x-python",
   "name": "python",
   "nbconvert_exporter": "python",
   "pygments_lexer": "ipython3",
   "version": "3.7.12"
  },
  "papermill": {
   "default_parameters": {},
   "duration": 374.471174,
   "end_time": "2022-09-24T22:17:16.344542",
   "environment_variables": {},
   "exception": null,
   "input_path": "__notebook__.ipynb",
   "output_path": "__notebook__.ipynb",
   "parameters": {},
   "start_time": "2022-09-24T22:11:01.873368",
   "version": "2.3.4"
  }
 },
 "nbformat": 4,
 "nbformat_minor": 5
}
