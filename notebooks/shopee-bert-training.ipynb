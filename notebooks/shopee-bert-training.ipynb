{
 "cells": [
  {
   "cell_type": "markdown",
   "id": "f41ae4c6",
   "metadata": {
    "papermill": {
     "duration": 0.013582,
     "end_time": "2022-09-24T01:05:38.856036",
     "exception": false,
     "start_time": "2022-09-24T01:05:38.842454",
     "status": "completed"
    },
    "tags": []
   },
   "source": [
    "# Shopee-Product-Matching\n",
    "![Shopee](https://cdn.lynda.com/course/563030/563030-636270778700233910-16x9.jpg)\n"
   ]
  },
  {
   "cell_type": "markdown",
   "id": "2b490028",
   "metadata": {
    "papermill": {
     "duration": 0.007695,
     "end_time": "2022-09-24T01:05:38.872365",
     "exception": false,
     "start_time": "2022-09-24T01:05:38.864670",
     "status": "completed"
    },
    "tags": []
   },
   "source": [
    "* Similar to images, we can use pretrained neural network-based model in order to extract Text embeddings for sentences. One of the popular is for sure **BERT**.\n",
    "\n",
    "* Some High Level Explanation For **ArcFace Loss** borrowed from [eneszvo's notebook](https://www.kaggle.com/code/eneszvo/shopee-summary-efficientnet-arcface-bert#Pretrained-embedding)\n",
    "\n",
    "\n",
    "# ArcFace embedding\n",
    "\n",
    "Modification that forces similar class embeddings to be closer and dissimilar more distant. The simple example with MNIST https://www.kaggle.com/slawekbiel/arcface-explained/.\n",
    "\n",
    "Basically, it modifies the softmax loss function in order to achieve better separation for different classes in the embedding space. To understand the formula lets first recall cross-entropy loss and softmax definition.\n",
    "\n",
    "**Cross-entropy loss** - measures the performance of a classification model whose output is a probability value between 0 and 1. Usually used for multi-class classification. \n",
    "$$CE = -\\sum_{i=1}^{C} t_{i}\\log(a_{i})$$\n",
    "where $C$ is the number of classes, $t$ is mostly a one-hot vector (or binary vector for multi-label classification) representing labels, and $a$ activation function (usually the output function in the NN).\n",
    "\n",
    "**Softmax function** - the activation function in the output layer of neural network models that predict a multinomial probability distribution.\n",
    "$$ softmax(x_{i}) = \\frac{e^{x_{i}}}{\\sum_{j=1}^{n} e^{x_{j}}}$$\n",
    "where $x$ is $n$-dimensional vector.\n",
    "\n",
    "**Softmax loss** - cross-entropy loss applied on softmax activation function,\n",
    "$$CE = -\\sum_{i=1}^{C} t_{i}\\log(a_{i}) = -\\sum_{i=1}^{C} t_{i}\\log(\\frac{e^{x_{i}}}{\\sum_{j=1}^{n} e^{x_{j}}}).$$\n",
    "\n",
    "If $t=(t_{1}, t_{2},..., t_{C})$ is one-hot vector where $t_{i}=1$, then softmax loss becomes\n",
    "$$CE = -\\log(\\frac{e^{x_{i}}}{\\sum_{j=1}^{n} e^{x_{j}}}).$$\n",
    "\n",
    "**Softmax cost** function is the average of the loss functions over the training set (or batch), \n",
    "$$CE = -\\frac{1}{N}\\sum_{i=1}^{N}\\log(\\frac{e^{x_{i}}}{\\sum_{j=1}^{n} e^{x_{j}}}).$$\n",
    "Based on the figure below,\n",
    "\n",
    "**softmax cost** can be written as\n",
    "$$CE = -\\frac{1}{N}\\sum_{i}^{N}\\log(\\frac{e^{W_{y_{i}}^{T}x_{i} + b_{y_{i}}}}{\\sum_{j=1}^{n} e^{W_{j}^{T}x_{i} + b_{j}}}).$$\n",
    "where $x_{i}$ denotes embedding of the $i$-th sample, belonging to the $y_{i}$-th class (from the image above, $y_{i}=2$). $W_{j}$ denotes the $j$-th column of the weight matrix $W$.\n",
    "\n",
    "Lets fix $b=\\mathbf{0}$, normalize all weight columns $\\Vert W_{j}\\Vert=1$ and normalize embedding vector $\\Vert x\\Vert=1$. After normalization, embedding will be distributed on a unit hypersphere. Now we have that \n",
    "$$W_{j}^{T}x + b_{j}=\\frac{W_{j}^{T}x}{\\Vert W_{j}\\Vert\\Vert x\\Vert} = \\cos(\\langle W_{j}^{T}, x\\rangle)=\\cos(\\theta_{j}).$$\n",
    "\n",
    "Further, we can easily get $\\theta$ angle applying $\\arccos$ to both sides and after increase $\\theta$ by penalty $m$. From the ArcFace paper https://arxiv.org/pdf/1801.07698.pdf, autors explained it as:  \n",
    "> We add an additive angular margin penalty $m$ between $x_{i}$ and $W_{y_{i}}$ to simultaneously enhance the intra-class compactness and inter-class discrepancy.\n",
    "\n",
    "After all, the softmax cost becomes \n",
    "$$CE = -\\frac{1}{N}\\sum_{i}^{N}\\log(\\frac{e^{s \\cos(\\theta_{y_{i}}+m)}}{e^{s \\cos(\\theta_{y_{i}}+m)} + \\sum_{j=1, j\\neq y_{i}}^{n} e^{s \\cos(\\theta_{j})}})$$\n",
    "where $s$ is a scaler that defines the radius of hypersphere where embeddings are distributed. "
   ]
  },
  {
   "cell_type": "markdown",
   "id": "16c0f438",
   "metadata": {
    "papermill": {
     "duration": 0.008078,
     "end_time": "2022-09-24T01:05:38.888572",
     "exception": false,
     "start_time": "2022-09-24T01:05:38.880494",
     "status": "completed"
    },
    "tags": []
   },
   "source": [
    "* I already trained Image Model using ArcFace Module, Please check this Training notebook [ArcFace Training Image Model](https://github.com/cr21/Shopee-Product-Matching/blob/main/notebooks/ArcfaceLoss%5Btraining%5D.ipynb)"
   ]
  },
  {
   "cell_type": "code",
   "execution_count": 1,
   "id": "afc6c734",
   "metadata": {
    "execution": {
     "iopub.execute_input": "2022-09-24T01:05:38.906780Z",
     "iopub.status.busy": "2022-09-24T01:05:38.906272Z",
     "iopub.status.idle": "2022-09-24T01:05:38.925223Z",
     "shell.execute_reply": "2022-09-24T01:05:38.924284Z"
    },
    "papermill": {
     "duration": 0.030603,
     "end_time": "2022-09-24T01:05:38.927212",
     "exception": false,
     "start_time": "2022-09-24T01:05:38.896609",
     "status": "completed"
    },
    "tags": []
   },
   "outputs": [],
   "source": [
    "%config Completer.use_jedi = False"
   ]
  },
  {
   "cell_type": "markdown",
   "id": "3a4939d8",
   "metadata": {
    "papermill": {
     "duration": 0.008087,
     "end_time": "2022-09-24T01:05:38.944132",
     "exception": false,
     "start_time": "2022-09-24T01:05:38.936045",
     "status": "completed"
    },
    "tags": []
   },
   "source": [
    "# Import Packages"
   ]
  },
  {
   "cell_type": "code",
   "execution_count": 2,
   "id": "1863b4e1",
   "metadata": {
    "_cell_guid": "b1076dfc-b9ad-4769-8c92-a6c4dae69d19",
    "_uuid": "8f2839f25d086af736a60e9eeb907d3b93b6e0e5",
    "execution": {
     "iopub.execute_input": "2022-09-24T01:05:38.970701Z",
     "iopub.status.busy": "2022-09-24T01:05:38.970310Z",
     "iopub.status.idle": "2022-09-24T01:05:43.191578Z",
     "shell.execute_reply": "2022-09-24T01:05:43.190533Z"
    },
    "papermill": {
     "duration": 4.241686,
     "end_time": "2022-09-24T01:05:43.194346",
     "exception": false,
     "start_time": "2022-09-24T01:05:38.952660",
     "status": "completed"
    },
    "tags": []
   },
   "outputs": [],
   "source": [
    "import sys\n",
    "sys.path.append('../input/timmmaster')\n",
    "import timm"
   ]
  },
  {
   "cell_type": "code",
   "execution_count": 3,
   "id": "09fb5737",
   "metadata": {
    "execution": {
     "iopub.execute_input": "2022-09-24T01:05:43.213045Z",
     "iopub.status.busy": "2022-09-24T01:05:43.212518Z",
     "iopub.status.idle": "2022-09-24T01:05:45.479061Z",
     "shell.execute_reply": "2022-09-24T01:05:45.478100Z"
    },
    "papermill": {
     "duration": 2.278289,
     "end_time": "2022-09-24T01:05:45.481443",
     "exception": false,
     "start_time": "2022-09-24T01:05:43.203154",
     "status": "completed"
    },
    "tags": []
   },
   "outputs": [],
   "source": [
    "import math\n",
    "import os\n",
    "import gc\n",
    "from sklearn.metrics import f1_score\n",
    "import numpy as np\n",
    "import cv2\n",
    "import pandas as pd\n",
    "from sklearn.preprocessing import LabelEncoder,OneHotEncoder\n",
    "from sklearn.model_selection import StratifiedKFold\n",
    "import timm\n",
    "import torch\n",
    "from torch import nn \n",
    "from torch.utils.data import Dataset, DataLoader\n",
    "import torch.nn.functional as F \n",
    "import albumentations\n",
    "from albumentations.pytorch.transforms import ToTensorV2\n",
    "from torch.optim import lr_scheduler\n",
    "from tqdm import tqdm\n",
    "import matplotlib.pyplot as plt\n",
    "from sklearn import metrics\n",
    "from datetime import date\n",
    "from sklearn.metrics import f1_score, accuracy_score\n",
    "from collections  import Counter\n",
    "import math\n",
    "import random\n",
    "\n",
    "import torch.nn.functional as F \n",
    "from transformers import AutoTokenizer, AutoModel\n",
    "\n",
    "import warnings\n",
    "warnings.filterwarnings('ignore')\n",
    "from sklearn.neighbors import NearestNeighbors"
   ]
  },
  {
   "cell_type": "code",
   "execution_count": 4,
   "id": "103379d4",
   "metadata": {
    "execution": {
     "iopub.execute_input": "2022-09-24T01:05:45.501246Z",
     "iopub.status.busy": "2022-09-24T01:05:45.499822Z",
     "iopub.status.idle": "2022-09-24T01:05:45.505584Z",
     "shell.execute_reply": "2022-09-24T01:05:45.504452Z"
    },
    "papermill": {
     "duration": 0.017491,
     "end_time": "2022-09-24T01:05:45.507944",
     "exception": false,
     "start_time": "2022-09-24T01:05:45.490453",
     "status": "completed"
    },
    "tags": []
   },
   "outputs": [],
   "source": [
    "# class ArcFaceClassifier(nn.Module):\n",
    "#     def __init__(self, emb_size, output_classes):\n",
    "#         super().__init__()\n",
    "#         self.W = nn.Parameter(torch.Tensor(emb_size, output_classes))\n",
    "#         nn.init.kaiming_uniform_(self.W)\n",
    "#     def forward(self, x):\n",
    "#         # Step 1:\n",
    "#         x_norm = F.normalize(x)\n",
    "#         W_norm = F.normalize(self.W, dim=0)\n",
    "#         # Step 2:\n",
    "#         return x_norm @ W_norm\n",
    "    \n",
    "# def arcface_loss(cosine, targ, m=.4):\n",
    "#     # this prevents nan when a value slightly crosses 1.0 due to numerical error\n",
    "#     cosine = cosine.clip(-1+1e-7, 1-1e-7) \n",
    "#     # Step 3:\n",
    "#     arcosine = cosine.arccos()\n",
    "#     # Step 4:\n",
    "#     print(arcosine)\n",
    "#     print(\" ***\",F.one_hot(targ, num_classes = output_classes))\n",
    "#     arcosine += F.one_hot(targ, num_classes = output_classes) * m\n",
    "#     # Step 5:\n",
    "#     cosine2 = arcosine.cos()\n",
    "#     # Step 6:\n",
    "#     return F.cross_entropy(cosine2, targ)"
   ]
  },
  {
   "cell_type": "markdown",
   "id": "c744fa7c",
   "metadata": {
    "papermill": {
     "duration": 0.007887,
     "end_time": "2022-09-24T01:05:45.523928",
     "exception": false,
     "start_time": "2022-09-24T01:05:45.516041",
     "status": "completed"
    },
    "tags": []
   },
   "source": [
    "# Configuration Options\n"
   ]
  },
  {
   "cell_type": "code",
   "execution_count": 5,
   "id": "f9afb850",
   "metadata": {
    "execution": {
     "iopub.execute_input": "2022-09-24T01:05:45.542734Z",
     "iopub.status.busy": "2022-09-24T01:05:45.541224Z",
     "iopub.status.idle": "2022-09-24T01:05:45.617469Z",
     "shell.execute_reply": "2022-09-24T01:05:45.616812Z"
    },
    "papermill": {
     "duration": 0.087337,
     "end_time": "2022-09-24T01:05:45.619342",
     "exception": false,
     "start_time": "2022-09-24T01:05:45.532005",
     "status": "completed"
    },
    "tags": []
   },
   "outputs": [],
   "source": [
    "TRAIN_DIR = '../input/shopee-product-matching/train_images'\n",
    "TEST_DIR = '../input/shopee-product-matching/test_images'\n",
    "TRAIN_CSV = '../input/shopee-product-matching/train.csv'\n",
    "TEST_CSV='../input/shopee-product-matching/test.csv'\n",
    "MODEL_PATH = './'\n",
    "\n",
    "\n",
    "class CFG:\n",
    "    seed = 1890780 \n",
    "    num_workers = 3\n",
    "    bert_model_name = '../input/bertmodel/paraphrase-xlm-r-multilingual-v1'\n",
    "    #     bert_model_name = 'sentence-transformers/paraphrase-xlm-r-multilingual-v1'\n",
    "    device = 'cuda' if torch.cuda.is_available() else 'cpu'\n",
    "    \n",
    "    \n",
    "    ## ARCFACE\n",
    "\n",
    "    scale = 30\n",
    "    margin = 0.5\n",
    "    fc_dim = 768\n",
    "    seed = 412\n",
    "    classes = 11014\n",
    "    \n",
    "    n_splits = 4  # GroupKFold(n_splits)\n",
    "    batch_size = 16\n",
    "    accum_iter = 1  # 1 if use_sam = True\n",
    "    epochs = 7\n",
    "    min_save_epoch = epochs // 3\n",
    "    max_length=128\n",
    "    ### NearestNeighbors\n",
    "    bert_knn = 50\n",
    "    bert_knn_threshold = 0.4  # Cosine distance threshold\n",
    "    \n",
    "    ### GradualWarmupSchedulerV2（lr_start -> lr_max -> lr_min）\n",
    "    bert_scheduler_params = {\n",
    "        \"lr_start\": 7.5e-6,\n",
    "        \"lr_max\": 1e-4,\n",
    "        \"lr_min\": 2.74e-5, # 1.5e-5,\n",
    "    }\n",
    "    multiplier = bert_scheduler_params['lr_max'] / bert_scheduler_params['lr_start']\n",
    "    eta_min = bert_scheduler_params['lr_min']  # last minimum learning rate\n",
    "    freeze_epo = 0\n",
    "    warmup_epo = 2\n",
    "    COMPUTE_CV=True\n",
    "    use_auto_mix_precision=False\n",
    "    save_model_path =  f\"./{bert_model_name.rsplit('/', 1)[-1]}_epoch{epochs}-bs{batch_size}x{accum_iter}.pt\""
   ]
  },
  {
   "cell_type": "code",
   "execution_count": 6,
   "id": "c9c63919",
   "metadata": {
    "execution": {
     "iopub.execute_input": "2022-09-24T01:05:45.637916Z",
     "iopub.status.busy": "2022-09-24T01:05:45.637217Z",
     "iopub.status.idle": "2022-09-24T01:05:45.645767Z",
     "shell.execute_reply": "2022-09-24T01:05:45.644775Z"
    },
    "papermill": {
     "duration": 0.019787,
     "end_time": "2022-09-24T01:05:45.647775",
     "exception": false,
     "start_time": "2022-09-24T01:05:45.627988",
     "status": "completed"
    },
    "tags": []
   },
   "outputs": [],
   "source": [
    "def seed_everything(seed):\n",
    "    random.seed(seed)\n",
    "    os.environ['PYTHONHASHSEED'] = str(seed)\n",
    "    np.random.seed(seed)\n",
    "    torch.manual_seed(seed)\n",
    "    torch.cuda.manual_seed(seed)\n",
    "    torch.backends.cudnn.deterministic = True\n",
    "    torch.backends.cudnn.benchmark = True # set True to be faster\n",
    "\n",
    "seed_everything(CFG.seed)"
   ]
  },
  {
   "cell_type": "markdown",
   "id": "331f0357",
   "metadata": {
    "papermill": {
     "duration": 0.007806,
     "end_time": "2022-09-24T01:05:45.663675",
     "exception": false,
     "start_time": "2022-09-24T01:05:45.655869",
     "status": "completed"
    },
    "tags": []
   },
   "source": [
    "# Solution Approach\n",
    "\n",
    "* In this competition it is given that,if two or more images have **same label group** then they are **similar products.** \n",
    "* Basically we can use this information to transfer the business problem into **multi class classification** problem.\n",
    "* From Image EDA, I found out that we have **11014** different classes, and dataset is **not balanced dataset**\n",
    "* If you see below plot, we can clearly see that there are **hardly 1000 data points having more than 10 products per label.*\n",
    "* In this notebook I used **Weighted Sampler technique used in pytorch for handling imbalanced classification problem**\n"
   ]
  },
  {
   "cell_type": "code",
   "execution_count": 7,
   "id": "0a5b15a7",
   "metadata": {
    "execution": {
     "iopub.execute_input": "2022-09-24T01:05:45.682089Z",
     "iopub.status.busy": "2022-09-24T01:05:45.681137Z",
     "iopub.status.idle": "2022-09-24T01:05:46.086715Z",
     "shell.execute_reply": "2022-09-24T01:05:46.085776Z"
    },
    "papermill": {
     "duration": 0.417764,
     "end_time": "2022-09-24T01:05:46.089501",
     "exception": false,
     "start_time": "2022-09-24T01:05:45.671737",
     "status": "completed"
    },
    "tags": []
   },
   "outputs": [
    {
     "data": {
      "image/png": "[encoded data removed]",
      "text/plain": [
       "<Figure size 1080x360 with 1 Axes>"
      ]
     },
     "metadata": {
      "needs_background": "light"
     },
     "output_type": "display_data"
    }
   ],
   "source": [
    "train_df=pd.read_csv('../input/shopee-product-matching/train.csv')\n",
    "labelGroups = train_df.label_group.value_counts()\n",
    "# print(labelGroups)\n",
    "plt.figure(figsize=(15,5))\n",
    "plt.plot(np.arange(len(labelGroups)), labelGroups.values)\n",
    "plt.xlabel(\"Index for unique label_group_item\", size=12)\n",
    "plt.ylabel(\"Number of product data for label \", size=12)\n",
    "plt.title(\"label vs label frequency\", size=15)\n",
    "plt.show()"
   ]
  },
  {
   "cell_type": "code",
   "execution_count": 8,
   "id": "246e2efb",
   "metadata": {
    "execution": {
     "iopub.execute_input": "2022-09-24T01:05:46.109758Z",
     "iopub.status.busy": "2022-09-24T01:05:46.108130Z",
     "iopub.status.idle": "2022-09-24T01:05:46.114264Z",
     "shell.execute_reply": "2022-09-24T01:05:46.113347Z"
    },
    "papermill": {
     "duration": 0.018342,
     "end_time": "2022-09-24T01:05:46.116597",
     "exception": false,
     "start_time": "2022-09-24T01:05:46.098255",
     "status": "completed"
    },
    "tags": []
   },
   "outputs": [
    {
     "name": "stdout",
     "output_type": "stream",
     "text": [
      "2022-09-24 01:05:46.110987\n"
     ]
    }
   ],
   "source": [
    "import time\n",
    "import datetime\n",
    "start_time = time.time()\n",
    "print(datetime.datetime.now())"
   ]
  },
  {
   "cell_type": "markdown",
   "id": "722ab16f",
   "metadata": {
    "papermill": {
     "duration": 0.008264,
     "end_time": "2022-09-24T01:05:46.133198",
     "exception": false,
     "start_time": "2022-09-24T01:05:46.124934",
     "status": "completed"
    },
    "tags": []
   },
   "source": [
    "# Create Custom DataSet"
   ]
  },
  {
   "cell_type": "code",
   "execution_count": 9,
   "id": "7ee4dcd4",
   "metadata": {
    "execution": {
     "iopub.execute_input": "2022-09-24T01:05:46.152588Z",
     "iopub.status.busy": "2022-09-24T01:05:46.151149Z",
     "iopub.status.idle": "2022-09-24T01:05:46.158922Z",
     "shell.execute_reply": "2022-09-24T01:05:46.158052Z"
    },
    "papermill": {
     "duration": 0.019197,
     "end_time": "2022-09-24T01:05:46.160833",
     "exception": false,
     "start_time": "2022-09-24T01:05:46.141636",
     "status": "completed"
    },
    "tags": []
   },
   "outputs": [],
   "source": [
    "class ShopeeTitleDataset(Dataset):\n",
    "    \n",
    "    def __init__(self, df,text_col,label_col, COMPUTE_CV=False, transform=None):\n",
    "        self.df = df        \n",
    "        texts = df[text_col]\n",
    "        self.labels = df[label_col].values\n",
    "        self.titles = []\n",
    "        \n",
    "        for title in texts:\n",
    "            title = title.encode('utf-8').decode(\"unicode_escape\")\n",
    "            title = title.encode('ascii', 'ignore').decode(\"unicode_escape\")\n",
    "            title = title.lower()\n",
    "            self.titles.append(title)\n",
    "    \n",
    "    def __len__(self):\n",
    "        return len(self.titles)\n",
    "    \n",
    "    def __getitem__(self, idx):       \n",
    "        text = self.titles[idx]\n",
    "        label = torch.tensor(self.labels[idx])\n",
    "        return text, label\n",
    "            \n",
    "\n",
    "\n"
   ]
  },
  {
   "cell_type": "markdown",
   "id": "57ce07de",
   "metadata": {
    "papermill": {
     "duration": 0.008366,
     "end_time": "2022-09-24T01:05:46.177647",
     "exception": false,
     "start_time": "2022-09-24T01:05:46.169281",
     "status": "completed"
    },
    "tags": []
   },
   "source": [
    "# Build Model"
   ]
  },
  {
   "cell_type": "code",
   "execution_count": 10,
   "id": "eedd4b8f",
   "metadata": {
    "execution": {
     "iopub.execute_input": "2022-09-24T01:05:46.196517Z",
     "iopub.status.busy": "2022-09-24T01:05:46.195713Z",
     "iopub.status.idle": "2022-09-24T01:05:46.207820Z",
     "shell.execute_reply": "2022-09-24T01:05:46.206963Z"
    },
    "papermill": {
     "duration": 0.023414,
     "end_time": "2022-09-24T01:05:46.209724",
     "exception": false,
     "start_time": "2022-09-24T01:05:46.186310",
     "status": "completed"
    },
    "tags": []
   },
   "outputs": [],
   "source": [
    "class ArcFaceModule(nn.Module):\n",
    "    def __init__(self, in_features, out_features, scale=30, margin=0.5, easy_margin=False, ls_eps=0.0 ):\n",
    "        super(ArcFaceModule, self).__init__()\n",
    "        self.in_features = in_features\n",
    "        self.out_features = out_features\n",
    "        self.scale = scale\n",
    "        self.margin = margin\n",
    "        self.weight = nn.Parameter(torch.FloatTensor(out_features, in_features))\n",
    "        nn.init.xavier_uniform_(self.weight)\n",
    "        self.easy_margin=easy_margin\n",
    "        self.ls_eps=ls_eps\n",
    "        self.cos_m = math.cos(margin)\n",
    "        self.sin_m = math.sin(margin)\n",
    "        self.th = math.cos(math.pi - margin)\n",
    "        self.mm = math.sin(math.pi - margin) * margin\n",
    "        \n",
    "        \n",
    "        \n",
    "    \n",
    "    def forward(self, input, label):\n",
    "        \n",
    "        # cosine = X.W = ||X|| .||W|| . cos(theta) \n",
    "        # if X and W are normalize then dot product X, W = will be cos theta\n",
    "        cosine = F.linear(F.normalize(input), F.normalize(self.weight))\n",
    "        # sin(theta)^2 = 1 - cos(theta)^2\n",
    "        sine = torch.sqrt(1.0 - torch.pow(cosine, 2))\n",
    "        # phi = cos(theta + margin) = cos theta . cos(margin) -  sine theta .  sin(margin)\n",
    "        phi = cosine * self.cos_m - sine * self.sin_m\n",
    "        if self.easy_margin:\n",
    "            phi = torch.where(cosine > 0, phi, cosine)\n",
    "        else:\n",
    "#             print(type(cosine), type(phi), type(self.mm), type(self.th))\n",
    "#             print(cosine.dtype, phi.dtype, self.mm.dtype, self.th.dtype)\n",
    "            # torch.tensor(a,dtype=torch.float16)\n",
    "            phi = torch.where(cosine > self.th, phi, cosine - self.mm)\n",
    "            \n",
    "        \n",
    "        one_hot = torch.zeros(cosine.size(), device=CFG.device)\n",
    "        # one hot encoded\n",
    "        one_hot.scatter_(1, label.view(-1, 1).long(), 1)\n",
    "        if self.ls_eps > 0:\n",
    "            one_hot = (1 - self.ls_eps) * one_hot + self.ls_eps / self.out_features\n",
    "        #  output = label == True ? phi : cosine  \n",
    "        # Add Margin to true label direction only \n",
    "        # Add normal cosine to other class weight direction\n",
    "        output = (one_hot * phi) + ((1.0 - one_hot) * cosine)\n",
    "        # scale the output\n",
    "        output *= self.scale\n",
    "        # return cross entropy loss on scalled output\n",
    "        return output, nn.CrossEntropyLoss()(output,label)"
   ]
  },
  {
   "cell_type": "code",
   "execution_count": 11,
   "id": "c9ce17c9",
   "metadata": {
    "execution": {
     "iopub.execute_input": "2022-09-24T01:05:46.228684Z",
     "iopub.status.busy": "2022-09-24T01:05:46.227936Z",
     "iopub.status.idle": "2022-09-24T01:05:46.233646Z",
     "shell.execute_reply": "2022-09-24T01:05:46.232796Z"
    },
    "papermill": {
     "duration": 0.017384,
     "end_time": "2022-09-24T01:05:46.235829",
     "exception": false,
     "start_time": "2022-09-24T01:05:46.218445",
     "status": "completed"
    },
    "tags": []
   },
   "outputs": [],
   "source": [
    "# Mean Pooling - Take attention mask into account for correct averaging\n",
    "def mean_pooling(model_output, attention_mask):\n",
    "    # First element of model_output contains all token embeddings\n",
    "    token_embeddings = model_output[0]  \n",
    "    input_mask_expanded = attention_mask.unsqueeze(-1).expand(token_embeddings.size()).float()\n",
    "    sum_embeddings = torch.sum(token_embeddings * input_mask_expanded, 1)\n",
    "    sum_mask = torch.clamp(input_mask_expanded.sum(1), min=1e-9)\n",
    "    return sum_embeddings / sum_mask"
   ]
  },
  {
   "cell_type": "code",
   "execution_count": 12,
   "id": "3a53b9aa",
   "metadata": {
    "execution": {
     "iopub.execute_input": "2022-09-24T01:05:46.255238Z",
     "iopub.status.busy": "2022-09-24T01:05:46.254366Z",
     "iopub.status.idle": "2022-09-24T01:05:46.268457Z",
     "shell.execute_reply": "2022-09-24T01:05:46.267619Z"
    },
    "papermill": {
     "duration": 0.026261,
     "end_time": "2022-09-24T01:05:46.270360",
     "exception": false,
     "start_time": "2022-09-24T01:05:46.244099",
     "status": "completed"
    },
    "tags": []
   },
   "outputs": [],
   "source": [
    "   \n",
    "    \n",
    "    \n",
    "class ShopeeBertEncoder(nn.Module):\n",
    "    \n",
    "    def __init__(self,\n",
    "                     model_name=CFG.bert_model_name,\n",
    "                     loss_fn='ArcFace',\n",
    "                     classes = CFG.classes,\n",
    "                     fc_dim = CFG.fc_dim,\n",
    "                     pretrained=True,\n",
    "                     use_fc=True,\n",
    "                     COMPUTE_CV=CFG.COMPUTE_CV,\n",
    "                     margin = CFG.margin,\n",
    "                    scale = CFG.scale,\n",
    "                ):\n",
    "        \n",
    "        super(ShopeeBertEncoder,self).__init__()\n",
    "        print(\"Building Model Backbone for {}\".format(model_name))\n",
    "        \n",
    "        self.tokenizer = AutoTokenizer.from_pretrained(model_name)\n",
    "        # create bottlenack backbone network from pretrained model \n",
    "        self.backbone = AutoModel.from_pretrained(model_name).to(CFG.device)\n",
    "        in_features = 768\n",
    "        self.use_fc = use_fc\n",
    "        \n",
    "        \n",
    "        # build top fc layers\n",
    "        # (Embedding that we are looking at testing time to represent the entire Text)\n",
    "        if use_fc:\n",
    "            self.dropout = nn.Dropout(p=0.0)\n",
    "            self.classifier = nn.Linear(in_features, fc_dim)\n",
    "            self.bn = nn.BatchNorm1d(fc_dim)\n",
    "            self.init_params()\n",
    "            in_features = fc_dim\n",
    "\n",
    "        if loss_fn=='softmax':\n",
    "            self.final = nn.Linear(in_features, CFG.classes)\n",
    "        elif loss_fn =='ArcFace':\n",
    "            self.final = ArcFaceModule( in_features,\n",
    "                                        CFG.classes,\n",
    "                                        scale = scale,\n",
    "                                        margin = margin,\n",
    "                                        easy_margin = False,\n",
    "                                        ls_eps = 0.0)\n",
    "            \n",
    "    def forward(self, texts, labels=torch.tensor([0])):\n",
    "        features = self.get_features(texts)\n",
    "        if self.training:\n",
    "            logits = self.final(features,  labels.to(CFG.device))\n",
    "            return logits\n",
    "        else:\n",
    "            return features\n",
    "    \n",
    "    def init_params(self):\n",
    "        nn.init.xavier_normal_(self.classifier.weight)\n",
    "        nn.init.constant_(self.classifier.bias,0)\n",
    "        nn.init.constant_(self.bn.weight, 1)\n",
    "        nn.init.constant_(self.bn.bias, 0)\n",
    "        \n",
    "        \n",
    "    def get_features(self,texts):\n",
    "        \n",
    "        encoding = self.tokenizer(texts, \n",
    "                                  padding=True,\n",
    "                                  truncation=True,\n",
    "                                  max_length = CFG.max_length,\n",
    "                                  return_tensors='pt').to(CFG.device)\n",
    "        input_ids = encoding['input_ids']\n",
    "        attention_mask = encoding['attention_mask']\n",
    "        \n",
    "        embedding = self.backbone(input_ids, attention_mask=attention_mask)\n",
    "        x = mean_pooling(embedding, attention_mask)\n",
    "        \n",
    "        if self.use_fc and self.training:\n",
    "            x = self.dropout(x)\n",
    "            x = self.classifier(x)\n",
    "            x = self.bn(x)\n",
    "            \n",
    "        return x\n",
    "    \n",
    "    \n",
    "# shoppe_label_classfier = ShopeeLabelGroupClassfier()\n"
   ]
  },
  {
   "cell_type": "markdown",
   "id": "338267b5",
   "metadata": {
    "papermill": {
     "duration": 0.008441,
     "end_time": "2022-09-24T01:05:46.287291",
     "exception": false,
     "start_time": "2022-09-24T01:05:46.278850",
     "status": "completed"
    },
    "tags": []
   },
   "source": [
    "# Custom Learning Rate Scheduler"
   ]
  },
  {
   "cell_type": "code",
   "execution_count": 13,
   "id": "aa0a114f",
   "metadata": {
    "execution": {
     "iopub.execute_input": "2022-09-24T01:05:46.306692Z",
     "iopub.status.busy": "2022-09-24T01:05:46.306022Z",
     "iopub.status.idle": "2022-09-24T01:05:46.316283Z",
     "shell.execute_reply": "2022-09-24T01:05:46.315372Z"
    },
    "papermill": {
     "duration": 0.022383,
     "end_time": "2022-09-24T01:05:46.318343",
     "exception": false,
     "start_time": "2022-09-24T01:05:46.295960",
     "status": "completed"
    },
    "tags": []
   },
   "outputs": [],
   "source": [
    "import torch \n",
    "from torch.optim.lr_scheduler import _LRScheduler\n",
    "\n",
    "\n",
    "class ShopeeScheduler(_LRScheduler):\n",
    "    def __init__(self, optimizer, lr_start=5e-6, lr_max=1e-5,\n",
    "                 lr_min=1e-6, lr_ramp_ep=5, lr_sus_ep=0, lr_decay=0.4,\n",
    "                 last_epoch=-1):\n",
    "        self.lr_start = lr_start\n",
    "        self.lr_max = lr_max\n",
    "        self.lr_min = lr_min\n",
    "        self.lr_ramp_ep = lr_ramp_ep\n",
    "        self.lr_sus_ep = lr_sus_ep\n",
    "        self.lr_decay = lr_decay\n",
    "        super(ShopeeScheduler, self).__init__(optimizer, last_epoch)\n",
    "        \n",
    "    def get_lr(self):\n",
    "        if not self._get_lr_called_within_step:\n",
    "            warnings.warn(\"To get the last learning rate computed by the scheduler, \"\n",
    "                          \"please use `get_last_lr()`.\", UserWarning)\n",
    "        if self.last_epoch == 0:\n",
    "            self.last_epoch += 1\n",
    "            return [self.lr_start for _ in self.optimizer.param_groups]\n",
    "        lr = self._compute_lr_from_epoch()\n",
    "        self.last_epoch += 1\n",
    "        return [lr for _ in self.optimizer.param_groups]\n",
    "    \n",
    "    def _get_closed_form_lr(self):\n",
    "        return self.base_lrs\n",
    "    \n",
    "    def _compute_lr_from_epoch(self):\n",
    "        if self.last_epoch < self.lr_ramp_ep:\n",
    "            lr = ((self.lr_max - self.lr_start) / \n",
    "                  self.lr_ramp_ep * self.last_epoch + \n",
    "                  self.lr_start)\n",
    "        elif self.last_epoch < self.lr_ramp_ep + self.lr_sus_ep:\n",
    "            lr = self.lr_max\n",
    "        else:\n",
    "            lr = ((self.lr_max - self.lr_min) * self.lr_decay**\n",
    "                  (self.last_epoch - self.lr_ramp_ep - self.lr_sus_ep) + \n",
    "                  self.lr_min)\n",
    "        return lr"
   ]
  },
  {
   "cell_type": "markdown",
   "id": "b6e94ced",
   "metadata": {
    "papermill": {
     "duration": 0.008194,
     "end_time": "2022-09-24T01:05:46.335174",
     "exception": false,
     "start_time": "2022-09-24T01:05:46.326980",
     "status": "completed"
    },
    "tags": []
   },
   "source": [
    "# SetUp : Data"
   ]
  },
  {
   "cell_type": "code",
   "execution_count": 14,
   "id": "d5b0549f",
   "metadata": {
    "execution": {
     "iopub.execute_input": "2022-09-24T01:05:46.353206Z",
     "iopub.status.busy": "2022-09-24T01:05:46.352949Z",
     "iopub.status.idle": "2022-09-24T01:05:46.948424Z",
     "shell.execute_reply": "2022-09-24T01:05:46.947491Z"
    },
    "papermill": {
     "duration": 0.606951,
     "end_time": "2022-09-24T01:05:46.950525",
     "exception": false,
     "start_time": "2022-09-24T01:05:46.343574",
     "status": "completed"
    },
    "tags": []
   },
   "outputs": [
    {
     "data": {
      "text/html": [
       "<div>\n",
       "<style scoped>\n",
       "    .dataframe tbody tr th:only-of-type {\n",
       "        vertical-align: middle;\n",
       "    }\n",
       "\n",
       "    .dataframe tbody tr th {\n",
       "        vertical-align: top;\n",
       "    }\n",
       "\n",
       "    .dataframe thead th {\n",
       "        text-align: right;\n",
       "    }\n",
       "</style>\n",
       "<table border=\"1\" class=\"dataframe\">\n",
       "  <thead>\n",
       "    <tr style=\"text-align: right;\">\n",
       "      <th></th>\n",
       "      <th>posting_id</th>\n",
       "      <th>image</th>\n",
       "      <th>image_phash</th>\n",
       "      <th>title</th>\n",
       "      <th>label_group</th>\n",
       "      <th>target</th>\n",
       "    </tr>\n",
       "  </thead>\n",
       "  <tbody>\n",
       "    <tr>\n",
       "      <th>0</th>\n",
       "      <td>train_129225211</td>\n",
       "      <td>0000a68812bc7e98c42888dfb1c07da0.jpg</td>\n",
       "      <td>94974f937d4c2433</td>\n",
       "      <td>Paper Bag Victoria Secret</td>\n",
       "      <td>249114794</td>\n",
       "      <td>[train_129225211, train_2278313361]</td>\n",
       "    </tr>\n",
       "    <tr>\n",
       "      <th>1</th>\n",
       "      <td>train_3386243561</td>\n",
       "      <td>00039780dfc94d01db8676fe789ecd05.jpg</td>\n",
       "      <td>af3f9460c2838f0f</td>\n",
       "      <td>Double Tape 3M VHB 12 mm x 4,5 m ORIGINAL / DO...</td>\n",
       "      <td>2937985045</td>\n",
       "      <td>[train_3386243561, train_3423213080]</td>\n",
       "    </tr>\n",
       "    <tr>\n",
       "      <th>2</th>\n",
       "      <td>train_2288590299</td>\n",
       "      <td>000a190fdd715a2a36faed16e2c65df7.jpg</td>\n",
       "      <td>b94cb00ed3e50f78</td>\n",
       "      <td>Maling TTS Canned Pork Luncheon Meat 397 gr</td>\n",
       "      <td>2395904891</td>\n",
       "      <td>[train_2288590299, train_3803689425]</td>\n",
       "    </tr>\n",
       "    <tr>\n",
       "      <th>3</th>\n",
       "      <td>train_2406599165</td>\n",
       "      <td>00117e4fc239b1b641ff08340b429633.jpg</td>\n",
       "      <td>8514fc58eafea283</td>\n",
       "      <td>Daster Batik Lengan pendek - Motif Acak / Camp...</td>\n",
       "      <td>4093212188</td>\n",
       "      <td>[train_2406599165, train_3342059966]</td>\n",
       "    </tr>\n",
       "    <tr>\n",
       "      <th>4</th>\n",
       "      <td>train_3369186413</td>\n",
       "      <td>00136d1cf4edede0203f32f05f660588.jpg</td>\n",
       "      <td>a6f319f924ad708c</td>\n",
       "      <td>Nescafe \\xc3\\x89clair Latte 220ml</td>\n",
       "      <td>3648931069</td>\n",
       "      <td>[train_3369186413, train_921438619]</td>\n",
       "    </tr>\n",
       "  </tbody>\n",
       "</table>\n",
       "</div>"
      ],
      "text/plain": [
       "         posting_id                                 image       image_phash  \\\n",
       "0   train_129225211  0000a68812bc7e98c42888dfb1c07da0.jpg  94974f937d4c2433   \n",
       "1  train_3386243561  00039780dfc94d01db8676fe789ecd05.jpg  af3f9460c2838f0f   \n",
       "2  train_2288590299  000a190fdd715a2a36faed16e2c65df7.jpg  b94cb00ed3e50f78   \n",
       "3  train_2406599165  00117e4fc239b1b641ff08340b429633.jpg  8514fc58eafea283   \n",
       "4  train_3369186413  00136d1cf4edede0203f32f05f660588.jpg  a6f319f924ad708c   \n",
       "\n",
       "                                               title  label_group  \\\n",
       "0                          Paper Bag Victoria Secret    249114794   \n",
       "1  Double Tape 3M VHB 12 mm x 4,5 m ORIGINAL / DO...   2937985045   \n",
       "2        Maling TTS Canned Pork Luncheon Meat 397 gr   2395904891   \n",
       "3  Daster Batik Lengan pendek - Motif Acak / Camp...   4093212188   \n",
       "4                  Nescafe \\xc3\\x89clair Latte 220ml   3648931069   \n",
       "\n",
       "                                 target  \n",
       "0   [train_129225211, train_2278313361]  \n",
       "1  [train_3386243561, train_3423213080]  \n",
       "2  [train_2288590299, train_3803689425]  \n",
       "3  [train_2406599165, train_3342059966]  \n",
       "4   [train_3369186413, train_921438619]  "
      ]
     },
     "execution_count": 14,
     "metadata": {},
     "output_type": "execute_result"
    }
   ],
   "source": [
    "df = pd.read_csv(TRAIN_CSV)\n",
    "# df['target']=\n",
    "grp_dict=df.groupby('label_group').posting_id.agg('unique').to_dict()\n",
    "df['target'] = df.label_group.map(grp_dict)\n",
    "df.head()"
   ]
  },
  {
   "cell_type": "code",
   "execution_count": 15,
   "id": "64c2820e",
   "metadata": {
    "execution": {
     "iopub.execute_input": "2022-09-24T01:05:46.971425Z",
     "iopub.status.busy": "2022-09-24T01:05:46.969772Z",
     "iopub.status.idle": "2022-09-24T01:05:47.027066Z",
     "shell.execute_reply": "2022-09-24T01:05:47.026150Z"
    },
    "papermill": {
     "duration": 0.069481,
     "end_time": "2022-09-24T01:05:47.029186",
     "exception": false,
     "start_time": "2022-09-24T01:05:46.959705",
     "status": "completed"
    },
    "tags": []
   },
   "outputs": [
    {
     "data": {
      "text/html": [
       "<div>\n",
       "<style scoped>\n",
       "    .dataframe tbody tr th:only-of-type {\n",
       "        vertical-align: middle;\n",
       "    }\n",
       "\n",
       "    .dataframe tbody tr th {\n",
       "        vertical-align: top;\n",
       "    }\n",
       "\n",
       "    .dataframe thead th {\n",
       "        text-align: right;\n",
       "    }\n",
       "</style>\n",
       "<table border=\"1\" class=\"dataframe\">\n",
       "  <thead>\n",
       "    <tr style=\"text-align: right;\">\n",
       "      <th></th>\n",
       "      <th>posting_id</th>\n",
       "      <th>image</th>\n",
       "      <th>image_phash</th>\n",
       "      <th>title</th>\n",
       "      <th>label_group</th>\n",
       "      <th>target</th>\n",
       "      <th>fold</th>\n",
       "    </tr>\n",
       "  </thead>\n",
       "  <tbody>\n",
       "    <tr>\n",
       "      <th>0</th>\n",
       "      <td>train_129225211</td>\n",
       "      <td>0000a68812bc7e98c42888dfb1c07da0.jpg</td>\n",
       "      <td>94974f937d4c2433</td>\n",
       "      <td>Paper Bag Victoria Secret</td>\n",
       "      <td>666</td>\n",
       "      <td>[train_129225211, train_2278313361]</td>\n",
       "      <td>0</td>\n",
       "    </tr>\n",
       "    <tr>\n",
       "      <th>1</th>\n",
       "      <td>train_3386243561</td>\n",
       "      <td>00039780dfc94d01db8676fe789ecd05.jpg</td>\n",
       "      <td>af3f9460c2838f0f</td>\n",
       "      <td>Double Tape 3M VHB 12 mm x 4,5 m ORIGINAL / DO...</td>\n",
       "      <td>7572</td>\n",
       "      <td>[train_3386243561, train_3423213080]</td>\n",
       "      <td>1</td>\n",
       "    </tr>\n",
       "    <tr>\n",
       "      <th>2</th>\n",
       "      <td>train_2288590299</td>\n",
       "      <td>000a190fdd715a2a36faed16e2c65df7.jpg</td>\n",
       "      <td>b94cb00ed3e50f78</td>\n",
       "      <td>Maling TTS Canned Pork Luncheon Meat 397 gr</td>\n",
       "      <td>6172</td>\n",
       "      <td>[train_2288590299, train_3803689425]</td>\n",
       "      <td>0</td>\n",
       "    </tr>\n",
       "    <tr>\n",
       "      <th>3</th>\n",
       "      <td>train_2406599165</td>\n",
       "      <td>00117e4fc239b1b641ff08340b429633.jpg</td>\n",
       "      <td>8514fc58eafea283</td>\n",
       "      <td>Daster Batik Lengan pendek - Motif Acak / Camp...</td>\n",
       "      <td>10509</td>\n",
       "      <td>[train_2406599165, train_3342059966]</td>\n",
       "      <td>2</td>\n",
       "    </tr>\n",
       "    <tr>\n",
       "      <th>4</th>\n",
       "      <td>train_3369186413</td>\n",
       "      <td>00136d1cf4edede0203f32f05f660588.jpg</td>\n",
       "      <td>a6f319f924ad708c</td>\n",
       "      <td>Nescafe \\xc3\\x89clair Latte 220ml</td>\n",
       "      <td>9425</td>\n",
       "      <td>[train_3369186413, train_921438619]</td>\n",
       "      <td>0</td>\n",
       "    </tr>\n",
       "  </tbody>\n",
       "</table>\n",
       "</div>"
      ],
      "text/plain": [
       "         posting_id                                 image       image_phash  \\\n",
       "0   train_129225211  0000a68812bc7e98c42888dfb1c07da0.jpg  94974f937d4c2433   \n",
       "1  train_3386243561  00039780dfc94d01db8676fe789ecd05.jpg  af3f9460c2838f0f   \n",
       "2  train_2288590299  000a190fdd715a2a36faed16e2c65df7.jpg  b94cb00ed3e50f78   \n",
       "3  train_2406599165  00117e4fc239b1b641ff08340b429633.jpg  8514fc58eafea283   \n",
       "4  train_3369186413  00136d1cf4edede0203f32f05f660588.jpg  a6f319f924ad708c   \n",
       "\n",
       "                                               title  label_group  \\\n",
       "0                          Paper Bag Victoria Secret          666   \n",
       "1  Double Tape 3M VHB 12 mm x 4,5 m ORIGINAL / DO...         7572   \n",
       "2        Maling TTS Canned Pork Luncheon Meat 397 gr         6172   \n",
       "3  Daster Batik Lengan pendek - Motif Acak / Camp...        10509   \n",
       "4                  Nescafe \\xc3\\x89clair Latte 220ml         9425   \n",
       "\n",
       "                                 target  fold  \n",
       "0   [train_129225211, train_2278313361]     0  \n",
       "1  [train_3386243561, train_3423213080]     1  \n",
       "2  [train_2288590299, train_3803689425]     0  \n",
       "3  [train_2406599165, train_3342059966]     2  \n",
       "4   [train_3369186413, train_921438619]     0  "
      ]
     },
     "execution_count": 15,
     "metadata": {},
     "output_type": "execute_result"
    }
   ],
   "source": [
    "from sklearn.model_selection import GroupKFold\n",
    "gkf = GroupKFold(n_splits=CFG.n_splits)\n",
    "\n",
    "df['fold'] = -1\n",
    "\n",
    "for i, (train_ids, valid_ids) in enumerate(gkf.split(X=df, groups=df['label_group'])):\n",
    "    df.loc[valid_ids,'fold'] =  i\n",
    "    \n",
    "labelencoder= LabelEncoder()\n",
    "df['label_group'] = labelencoder.fit_transform(df['label_group'])\n",
    "df.head(5)\n",
    "\n",
    "\n"
   ]
  },
  {
   "cell_type": "code",
   "execution_count": 16,
   "id": "bb8ac877",
   "metadata": {
    "execution": {
     "iopub.execute_input": "2022-09-24T01:05:47.048899Z",
     "iopub.status.busy": "2022-09-24T01:05:47.048618Z",
     "iopub.status.idle": "2022-09-24T01:05:47.078280Z",
     "shell.execute_reply": "2022-09-24T01:05:47.077104Z"
    },
    "papermill": {
     "duration": 0.042854,
     "end_time": "2022-09-24T01:05:47.081288",
     "exception": false,
     "start_time": "2022-09-24T01:05:47.038434",
     "status": "completed"
    },
    "tags": []
   },
   "outputs": [
    {
     "name": "stdout",
     "output_type": "stream",
     "text": [
      "Train Data length = 25687\n",
      "Train Data classes = 8260\n",
      "Valid Data length = 8563\n",
      "Valid Data classes = 2754\n"
     ]
    }
   ],
   "source": [
    "if CFG.COMPUTE_CV:\n",
    "    fold = 3\n",
    "    train_df = df[df['fold']!=fold].reset_index(drop=True)\n",
    "    valid_df = df[df['fold']==fold].reset_index(drop=True)\n",
    "    print(\"Train Data length =\", len(train_df))\n",
    "    print(\"Train Data classes =\", len(train_df['label_group'].unique()))\n",
    "    print(\"Valid Data length =\", len(valid_df))\n",
    "    print(\"Valid Data classes =\", len(valid_df['label_group'].unique()))\n",
    "else:\n",
    "    train_df = df.copy()\n",
    "    valid_df = pd.DataFrame()\n",
    "    print(\"Train Data length =\", len(train_df))\n",
    "    print(\"Train Data classes =\", len(train_df['label_group'].unique()))"
   ]
  },
  {
   "cell_type": "code",
   "execution_count": 17,
   "id": "4bc78ffc",
   "metadata": {
    "execution": {
     "iopub.execute_input": "2022-09-24T01:05:47.101950Z",
     "iopub.status.busy": "2022-09-24T01:05:47.101621Z",
     "iopub.status.idle": "2022-09-24T01:05:47.183791Z",
     "shell.execute_reply": "2022-09-24T01:05:47.182830Z"
    },
    "papermill": {
     "duration": 0.094918,
     "end_time": "2022-09-24T01:05:47.186307",
     "exception": false,
     "start_time": "2022-09-24T01:05:47.091389",
     "status": "completed"
    },
    "tags": []
   },
   "outputs": [],
   "source": [
    "train_dataset = ShopeeTitleDataset(train_df,'title','label_group')\n",
    "\n",
    "train_dataloader = DataLoader(train_dataset, batch_size=CFG.batch_size,\n",
    "                          drop_last=True,pin_memory=True, shuffle = True)\n",
    "\n",
    "if CFG.COMPUTE_CV:\n",
    "    valid_dataset = ShopeeTitleDataset(valid_df,'title','label_group')\n",
    "\n",
    "    valid_dataloader = DataLoader(valid_dataset, batch_size=CFG.batch_size,\n",
    "                          drop_last=False,pin_memory=True, shuffle = False)\n",
    "    "
   ]
  },
  {
   "cell_type": "markdown",
   "id": "f789ef43",
   "metadata": {
    "papermill": {
     "duration": 0.009101,
     "end_time": "2022-09-24T01:05:47.204329",
     "exception": false,
     "start_time": "2022-09-24T01:05:47.195228",
     "status": "completed"
    },
    "tags": []
   },
   "source": [
    "# Training  Single Epoch\n"
   ]
  },
  {
   "cell_type": "code",
   "execution_count": 18,
   "id": "794cf392",
   "metadata": {
    "execution": {
     "iopub.execute_input": "2022-09-24T01:05:47.224145Z",
     "iopub.status.busy": "2022-09-24T01:05:47.223342Z",
     "iopub.status.idle": "2022-09-24T01:05:47.234619Z",
     "shell.execute_reply": "2022-09-24T01:05:47.233750Z"
    },
    "papermill": {
     "duration": 0.023522,
     "end_time": "2022-09-24T01:05:47.236768",
     "exception": false,
     "start_time": "2022-09-24T01:05:47.213246",
     "status": "completed"
    },
    "tags": []
   },
   "outputs": [],
   "source": [
    "def training_one_epoch(epoch,model, dataloader,optimizer, scheduler, device, loss_criteria):\n",
    "    avg_trian_loss = 0.0\n",
    "    # put model in traning model\n",
    "    model.train()\n",
    "    \n",
    "    if CFG.use_auto_mix_precision:\n",
    "        scaler = torch.cuda.amp.GradScaler()\n",
    "    \n",
    "    tq = tqdm(enumerate(dataloader), total=len(dataloader), desc = \"Training epoch: \" + str(epoch+1), ncols=100)\n",
    "    y_true=[]\n",
    "    y_pred=[]\n",
    "    for idx, (texts, labels) in tq:\n",
    "        texts = list(texts)\n",
    "        # zero out gradient\n",
    "        optimizer.zero_grad()\n",
    "        if CFG.use_auto_mix_precision:\n",
    "            with torch.cuda.amp.autocast():\n",
    "                # forward pass\n",
    "                output, loss = model(texts, labels)\n",
    "                # backward pass loss\n",
    "                scaler.scale(loss).backward()\n",
    "                avg_trian_loss+=loss.item()\n",
    "                # batch accumulation of update\n",
    "                if (idx+1) % CFG.accum_iter == 0 :\n",
    "                    scaler.step(optimizer)\n",
    "                    scaler.update()\n",
    "        else:\n",
    "            output, loss = model(texts, labels)\n",
    "            # backward pass loss\n",
    "            loss.backward()\n",
    "            avg_trian_loss+=loss.item()\n",
    "            # batch accumulation of update\n",
    "            if (idx+1) % CFG.accum_iter == 0 :\n",
    "                optimizer.step()\n",
    "                \n",
    "        tq.set_postfix({'loss' : '%.6f' %float(avg_trian_loss/(idx+1)), 'LR' : optimizer.param_groups[0]['lr']})            \n",
    "         \n",
    "    scheduler.step()\n",
    "    \n",
    "    return  model, avg_trian_loss / len(dataloader)\n",
    "        \n",
    "\n",
    "    \n",
    "    "
   ]
  },
  {
   "cell_type": "markdown",
   "id": "890a1739",
   "metadata": {
    "papermill": {
     "duration": 0.008631,
     "end_time": "2022-09-24T01:05:47.254320",
     "exception": false,
     "start_time": "2022-09-24T01:05:47.245689",
     "status": "completed"
    },
    "tags": []
   },
   "source": [
    "# Get BERT Embeddings"
   ]
  },
  {
   "cell_type": "code",
   "execution_count": 19,
   "id": "98ca7b9c",
   "metadata": {
    "execution": {
     "iopub.execute_input": "2022-09-24T01:05:47.273431Z",
     "iopub.status.busy": "2022-09-24T01:05:47.273150Z",
     "iopub.status.idle": "2022-09-24T01:05:47.281970Z",
     "shell.execute_reply": "2022-09-24T01:05:47.281026Z"
    },
    "papermill": {
     "duration": 0.020897,
     "end_time": "2022-09-24T01:05:47.284203",
     "exception": false,
     "start_time": "2022-09-24T01:05:47.263306",
     "status": "completed"
    },
    "tags": []
   },
   "outputs": [],
   "source": [
    "def get_bert_Embeddings(df, col, model, chunk=32):\n",
    "    \n",
    "    # this is costly GPU operation so we need to be very careful\n",
    "    # put model in evalution mode\n",
    "    model.eval()\n",
    "    bert_embeddings = torch.zeros((df.shape[0], 768)).to(CFG.device)\n",
    "    for i in tqdm(list(range(0, df.shape[0], chunk)) + [df.shape[0]-chunk], desc=\"get_bert_embeddings\", ncols=80):\n",
    "        \n",
    "        titles = []\n",
    "        \n",
    "        # get title chunk wise\n",
    "        for title in df[col][i:i+chunk].values:\n",
    "            try:\n",
    "                # preprocess title before passing through tokenization part\n",
    "                title = title.encode('utf-8').decode(\"unicode_escape\")\n",
    "                title = title.encode('ascii', 'ignore').decode(\"unicode_escape\")\n",
    "                \n",
    "            except Exception:\n",
    "                raise Exception(\"Title Processing Error\")\n",
    "                \n",
    "            title = title.lower()\n",
    "            titles.append(title)\n",
    "        # get bert embedding by forward pass chunk by chunk\n",
    "        with torch.no_grad():\n",
    "            if CFG.use_auto_mix_precision:\n",
    "                with torch.cuda.amp.autocast():\n",
    "                    model_output = model(titles)\n",
    "            else:\n",
    "                model_output = model(titles)\n",
    "        \n",
    "        bert_embeddings[i:i+chunk] = model_output  \n",
    "        \n",
    "    del model, titles, model_output\n",
    "\n",
    "    gc.collect()\n",
    "    torch.cuda.empty_cache()\n",
    "\n",
    "    return bert_embeddings\n",
    "                    \n",
    "    \n",
    "    "
   ]
  },
  {
   "cell_type": "code",
   "execution_count": 20,
   "id": "1ed2ee4b",
   "metadata": {
    "execution": {
     "iopub.execute_input": "2022-09-24T01:05:47.303326Z",
     "iopub.status.busy": "2022-09-24T01:05:47.303055Z",
     "iopub.status.idle": "2022-09-24T01:05:47.309884Z",
     "shell.execute_reply": "2022-09-24T01:05:47.308995Z"
    },
    "papermill": {
     "duration": 0.018774,
     "end_time": "2022-09-24T01:05:47.311839",
     "exception": false,
     "start_time": "2022-09-24T01:05:47.293065",
     "status": "completed"
    },
    "tags": []
   },
   "outputs": [],
   "source": [
    "def get_neighbors(df, embeddings, k=15,threshold=0.0, metric='cosine'):\n",
    "    \n",
    "    knn_model = NearestNeighbors( n_neighbors=k, metric=metric)\n",
    "    knn_model.fit(embeddings)\n",
    "    # For each of the Posting get top 50 nearest neighbors, it's distances and indices\n",
    "    distances, indices = knn_model.kneighbors(embeddings)\n",
    "    preds = []\n",
    "    \n",
    "    for i in range(embeddings.shape[0]):\n",
    "        # get all the neighbors which has distance less than some threshold\n",
    "        idx = np.where(distances[i,] < threshold)[0]\n",
    "        # get all indices for current posting \n",
    "        ids = indices[i,idx] \n",
    "        # retrive posting ids from ids\n",
    "        posting_ids = df['posting_id'].iloc[ids].values\n",
    "        preds.append(posting_ids)\n",
    "        \n",
    "    del knn_model, distances, indices\n",
    "    gc.collect()\n",
    "    return preds\n",
    "        \n",
    "    "
   ]
  },
  {
   "cell_type": "code",
   "execution_count": 21,
   "id": "692efb66",
   "metadata": {
    "execution": {
     "iopub.execute_input": "2022-09-24T01:05:47.331507Z",
     "iopub.status.busy": "2022-09-24T01:05:47.330750Z",
     "iopub.status.idle": "2022-09-24T01:05:47.336183Z",
     "shell.execute_reply": "2022-09-24T01:05:47.335274Z"
    },
    "papermill": {
     "duration": 0.017356,
     "end_time": "2022-09-24T01:05:47.338108",
     "exception": false,
     "start_time": "2022-09-24T01:05:47.320752",
     "status": "completed"
    },
    "tags": []
   },
   "outputs": [],
   "source": [
    "def getMetric(col):\n",
    "    # intersection over union\n",
    "    def f1score(row):\n",
    "        n = len(np.intersect1d(row.target, row[col]))\n",
    "        return 2 * n / (len(row.target) + len(row[col]))\n",
    "    return f1score"
   ]
  },
  {
   "cell_type": "markdown",
   "id": "d157e33c",
   "metadata": {
    "papermill": {
     "duration": 0.008838,
     "end_time": "2022-09-24T01:05:47.356011",
     "exception": false,
     "start_time": "2022-09-24T01:05:47.347173",
     "status": "completed"
    },
    "tags": []
   },
   "source": [
    "# Training Loop"
   ]
  },
  {
   "cell_type": "code",
   "execution_count": 22,
   "id": "8c416422",
   "metadata": {
    "execution": {
     "iopub.execute_input": "2022-09-24T01:05:47.375179Z",
     "iopub.status.busy": "2022-09-24T01:05:47.374878Z",
     "iopub.status.idle": "2022-09-24T01:05:47.379310Z",
     "shell.execute_reply": "2022-09-24T01:05:47.378310Z"
    },
    "papermill": {
     "duration": 0.016129,
     "end_time": "2022-09-24T01:05:47.381246",
     "exception": false,
     "start_time": "2022-09-24T01:05:47.365117",
     "status": "completed"
    },
    "tags": []
   },
   "outputs": [],
   "source": [
    "CFG.epochs =7\n",
    "max_f1_valid=0\n"
   ]
  },
  {
   "cell_type": "code",
   "execution_count": 23,
   "id": "ad76facd",
   "metadata": {
    "execution": {
     "iopub.execute_input": "2022-09-24T01:05:47.400946Z",
     "iopub.status.busy": "2022-09-24T01:05:47.400456Z",
     "iopub.status.idle": "2022-09-24T01:05:47.414376Z",
     "shell.execute_reply": "2022-09-24T01:05:47.413436Z"
    },
    "papermill": {
     "duration": 0.02627,
     "end_time": "2022-09-24T01:05:47.416518",
     "exception": false,
     "start_time": "2022-09-24T01:05:47.390248",
     "status": "completed"
    },
    "tags": []
   },
   "outputs": [],
   "source": [
    "def run_training(model=None, history=None):\n",
    "    \n",
    "    # define loss function\n",
    "    loss_criteria = nn.CrossEntropyLoss()\n",
    "    loss_criteria.to(CFG.device)\n",
    "    # define model\n",
    "    \n",
    "    if not model:\n",
    "        model = ShopeeBertEncoder()\n",
    "        model.to(CFG.device);\n",
    "    \n",
    "    # define optimzer\n",
    "    optimizer_grouped_parameters = [\n",
    "    {'params': model.backbone.parameters(), 'lr': CFG.bert_scheduler_params['lr_start']},\n",
    "    {'params': model.classifier.parameters(), 'lr': CFG.bert_scheduler_params['lr_start'] * 2},\n",
    "    {'params': model.bn.parameters(), 'lr': CFG.bert_scheduler_params['lr_start'] * 2},\n",
    "    {'params': model.final.parameters(), 'lr': CFG.bert_scheduler_params['lr_start'] * 2},\n",
    "]\n",
    "\n",
    "    optimizer = torch.optim.Adam(optimizer_grouped_parameters,lr= CFG.bert_scheduler_params['lr_start'])\n",
    "\n",
    "    # learning rate scheudler\n",
    "    #scheduler = lr_scheduler.CosineAnnealingWarmRestarts(optimizer, T_0=7, T_mult=1, eta_min=1e-6, last_epoch=-1)\n",
    "    scheduler = ShopeeScheduler(optimizer, **CFG.bert_scheduler_params)\n",
    "    if not history:\n",
    "        history = {'train_loss':[],'validation_loss':[],'train_f1_score':[],'scheduler':[], 'valid_f1_score':[]}\n",
    "    max_f1_valid = 0\n",
    "    for epoch in range(CFG.epochs):\n",
    "        \n",
    "        # get current epoch training loss\n",
    "        model, avg_train_loss = training_one_epoch(epoch = epoch,\n",
    "                                           model = model,\n",
    "                                           dataloader = train_dataloader,\n",
    "                                           optimizer = optimizer,\n",
    "                                           scheduler = scheduler,\n",
    "                                           device = CFG.device, \n",
    "                                           loss_criteria = loss_criteria)\n",
    "        \n",
    "        \n",
    "        # Validation part\n",
    "        if CFG.COMPUTE_CV:\n",
    "            valid_embeddings = get_bert_Embeddings(valid_df, 'title', model)\n",
    "            valid_predictions =get_neighbors(valid_df, valid_embeddings.detach().cpu().numpy(),\n",
    "                                          k=CFG.bert_knn if len(df) > 3 else 3, threshold=CFG.bert_knn_threshold)\n",
    "            \n",
    "            valid_df['oob'] = valid_predictions\n",
    "\n",
    "            valid_df['f1'] = valid_df.apply(getMetric('oob'), axis=1)\n",
    "            valid_f1 = valid_df.f1.mean()\n",
    "            valid_df['oob'] = 0\n",
    "            print('Valid f1 score =', valid_f1)\n",
    "            if (epoch >= CFG.min_save_epoch) and (valid_f1 > max_f1_valid):\n",
    "                print(f\"[{datetime.datetime.now()}] Valid f1 score improved. Saving model weights to {CFG.save_model_path}\")\n",
    "                max_f1_valid = valid_f1\n",
    "                torch.save(model.state_dict(), CFG.save_model_path)\n",
    "            \n",
    "        else:\n",
    "            if (epoch == CFG.epochs - 1):\n",
    "                print(f\"[{datetime.datetime.now()}] Saving model weights to {CFG.save_model_path}\")\n",
    "                torch.save(model.state_dict(), CFG.save_model_path)\n",
    "\n",
    "\n",
    "            \n",
    "        \n",
    "        print(\"Epoch : {} avg Validation f1 {}\".format(epoch+1,valid_f1))\n",
    "        \n",
    "        history['train_loss'].append(avg_train_loss)\n",
    "        history['valid_f1_score'].append(valid_f1)\n",
    "        history['scheduler'].append(scheduler.state_dict())\n",
    "        \n",
    "    \n",
    "        \n",
    "        \n",
    "    return model, history"
   ]
  },
  {
   "cell_type": "code",
   "execution_count": 24,
   "id": "32e2e200",
   "metadata": {
    "execution": {
     "iopub.execute_input": "2022-09-24T01:05:47.436821Z",
     "iopub.status.busy": "2022-09-24T01:05:47.435286Z",
     "iopub.status.idle": "2022-09-24T01:28:59.044736Z",
     "shell.execute_reply": "2022-09-24T01:28:59.041927Z"
    },
    "papermill": {
     "duration": 1391.623615,
     "end_time": "2022-09-24T01:28:59.049137",
     "exception": false,
     "start_time": "2022-09-24T01:05:47.425522",
     "status": "completed"
    },
    "tags": []
   },
   "outputs": [
    {
     "name": "stdout",
     "output_type": "stream",
     "text": [
      "Building Model Backbone for ../input/bertmodel/paraphrase-xlm-r-multilingual-v1\n"
     ]
    },
    {
     "name": "stderr",
     "output_type": "stream",
     "text": [
      "Training epoch: 1: 100%|█████████████| 1605/1605 [03:01<00:00,  8.85it/s, loss=23.384874, LR=7.5e-6]\n",
      "get_bert_embeddings: 100%|████████████████████| 269/269 [00:09<00:00, 29.06it/s]\n"
     ]
    },
    {
     "name": "stdout",
     "output_type": "stream",
     "text": [
      "Valid f1 score = 0.18228139336725555\n",
      "Epoch : 1 avg Validation f1 0.18228139336725555\n"
     ]
    },
    {
     "name": "stderr",
     "output_type": "stream",
     "text": [
      "Training epoch: 2: 100%|████████████| 1605/1605 [03:00<00:00,  8.89it/s, loss=20.643764, LR=4.45e-5]\n",
      "get_bert_embeddings: 100%|████████████████████| 269/269 [00:09<00:00, 29.01it/s]\n"
     ]
    },
    {
     "name": "stdout",
     "output_type": "stream",
     "text": [
      "Valid f1 score = 0.5780710548126888\n",
      "Epoch : 2 avg Validation f1 0.5780710548126888\n"
     ]
    },
    {
     "name": "stderr",
     "output_type": "stream",
     "text": [
      "Training epoch: 3: 100%|████████████| 1605/1605 [03:00<00:00,  8.87it/s, loss=16.568609, LR=8.15e-5]\n",
      "get_bert_embeddings: 100%|████████████████████| 269/269 [00:09<00:00, 29.06it/s]\n"
     ]
    },
    {
     "name": "stdout",
     "output_type": "stream",
     "text": [
      "Valid f1 score = 0.6892369347154987\n",
      "[2022-09-24 01:15:48.054117] Valid f1 score improved. Saving model weights to ./paraphrase-xlm-r-multilingual-v1_epoch7-bs16x1.pt\n",
      "Epoch : 3 avg Validation f1 0.6892369347154987\n"
     ]
    },
    {
     "name": "stderr",
     "output_type": "stream",
     "text": [
      "Training epoch: 4: 100%|████████████| 1605/1605 [03:00<00:00,  8.88it/s, loss=12.010120, LR=5.64e-5]\n",
      "get_bert_embeddings: 100%|████████████████████| 269/269 [00:09<00:00, 29.01it/s]\n"
     ]
    },
    {
     "name": "stdout",
     "output_type": "stream",
     "text": [
      "Valid f1 score = 0.7635640788573648\n",
      "[2022-09-24 01:19:04.481020] Valid f1 score improved. Saving model weights to ./paraphrase-xlm-r-multilingual-v1_epoch7-bs16x1.pt\n",
      "Epoch : 4 avg Validation f1 0.7635640788573648\n"
     ]
    },
    {
     "name": "stderr",
     "output_type": "stream",
     "text": [
      "Training epoch: 5: 100%|██████████████| 1605/1605 [03:00<00:00,  8.89it/s, loss=8.871876, LR=3.2e-5]\n",
      "get_bert_embeddings: 100%|████████████████████| 269/269 [00:09<00:00, 28.99it/s]\n"
     ]
    },
    {
     "name": "stdout",
     "output_type": "stream",
     "text": [
      "Valid f1 score = 0.7904548216197691\n",
      "[2022-09-24 01:22:21.123945] Valid f1 score improved. Saving model weights to ./paraphrase-xlm-r-multilingual-v1_epoch7-bs16x1.pt\n",
      "Epoch : 5 avg Validation f1 0.7904548216197691\n"
     ]
    },
    {
     "name": "stderr",
     "output_type": "stream",
     "text": [
      "Training epoch: 6: 100%|█████████████| 1605/1605 [03:00<00:00,  8.87it/s, loss=7.133473, LR=2.81e-5]\n",
      "get_bert_embeddings: 100%|████████████████████| 269/269 [00:09<00:00, 28.99it/s]\n"
     ]
    },
    {
     "name": "stdout",
     "output_type": "stream",
     "text": [
      "Valid f1 score = 0.7948752105661129\n",
      "[2022-09-24 01:25:38.137379] Valid f1 score improved. Saving model weights to ./paraphrase-xlm-r-multilingual-v1_epoch7-bs16x1.pt\n",
      "Epoch : 6 avg Validation f1 0.7948752105661129\n"
     ]
    },
    {
     "name": "stderr",
     "output_type": "stream",
     "text": [
      "Training epoch: 7: 100%|█████████████| 1605/1605 [03:00<00:00,  8.88it/s, loss=5.847034, LR=2.75e-5]\n",
      "get_bert_embeddings: 100%|████████████████████| 269/269 [00:09<00:00, 29.03it/s]\n"
     ]
    },
    {
     "name": "stdout",
     "output_type": "stream",
     "text": [
      "Valid f1 score = 0.7973646848031729\n",
      "[2022-09-24 01:28:55.261423] Valid f1 score improved. Saving model weights to ./paraphrase-xlm-r-multilingual-v1_epoch7-bs16x1.pt\n",
      "Epoch : 7 avg Validation f1 0.7973646848031729\n"
     ]
    }
   ],
   "source": [
    "model, history = run_training()"
   ]
  },
  {
   "cell_type": "markdown",
   "id": "780e85e3",
   "metadata": {
    "papermill": {
     "duration": 1.304732,
     "end_time": "2022-09-24T01:29:01.663428",
     "exception": false,
     "start_time": "2022-09-24T01:29:00.358696",
     "status": "completed"
    },
    "tags": []
   },
   "source": [
    "# Cross Validation To Find :  Best K and Best Threshold Value"
   ]
  },
  {
   "cell_type": "code",
   "execution_count": 25,
   "id": "f2a1b611",
   "metadata": {
    "execution": {
     "iopub.execute_input": "2022-09-24T01:29:04.137157Z",
     "iopub.status.busy": "2022-09-24T01:29:04.136718Z",
     "iopub.status.idle": "2022-09-24T01:30:16.776733Z",
     "shell.execute_reply": "2022-09-24T01:30:16.775527Z"
    },
    "papermill": {
     "duration": 73.820581,
     "end_time": "2022-09-24T01:30:16.779503",
     "exception": false,
     "start_time": "2022-09-24T01:29:02.958922",
     "status": "completed"
    },
    "tags": []
   },
   "outputs": [
    {
     "name": "stderr",
     "output_type": "stream",
     "text": [
      "get_bert_embeddings: 100%|████████████████████| 269/269 [00:09<00:00, 29.00it/s]\n"
     ]
    },
    {
     "name": "stdout",
     "output_type": "stream",
     "text": [
      " Threshold = 0.3 => F1 Score = 0.7973646848031729\n",
      " Threshold = 0.31 => F1 Score = 0.7973646848031729\n",
      " Threshold = 0.32 => F1 Score = 0.7973646848031729\n",
      " Threshold = 0.33 => F1 Score = 0.7973646848031729\n",
      " Threshold = 0.34 => F1 Score = 0.7973646848031729\n",
      " Threshold = 0.35 => F1 Score = 0.7973646848031729\n",
      " Threshold = 0.36 => F1 Score = 0.7973646848031729\n",
      " Threshold = 0.37 => F1 Score = 0.7973646848031729\n",
      " Threshold = 0.38 => F1 Score = 0.7973646848031729\n",
      " Threshold = 0.39 => F1 Score = 0.7973646848031729\n",
      " Threshold = 0.4 => F1 Score = 0.7973646848031729\n",
      " Threshold = 0.41 => F1 Score = 0.7973646848031729\n",
      " Threshold = 0.42 => F1 Score = 0.7973646848031729\n",
      " Threshold = 0.43 => F1 Score = 0.7973646848031729\n",
      " Threshold = 0.44 => F1 Score = 0.7973646848031729\n",
      " Threshold = 0.45 => F1 Score = 0.7973646848031729\n",
      " Threshold = 0.46 => F1 Score = 0.7973646848031729\n",
      " Threshold = 0.47 => F1 Score = 0.7973646848031729\n",
      " Threshold = 0.48 => F1 Score = 0.7973646848031729\n",
      " Threshold = 0.49 => F1 Score = 0.7973646848031729\n",
      "Best threshold = 0.3\n",
      "Best f1 score = 0.7973646848031729\n"
     ]
    }
   ],
   "source": [
    "## SEARCH FOR BEST THRESHOLD VALUE\n",
    "#\n",
    "if CFG.COMPUTE_CV:\n",
    "    search_range = range(30,50,1)\n",
    "    \n",
    "#     model.load_state_dict(torch.load(CFG.save_model_path, map_location=CFG.device))\n",
    "    \n",
    "    valid_embeddings = get_bert_Embeddings(valid_df, 'title', model)\n",
    "    best_f1_valid = 0.\n",
    "    best_threshold = 0.\n",
    "    for search_threshold in search_range:\n",
    "        search_threshold = search_threshold / 100\n",
    "        valid_predictions = get_neighbors(valid_df, \n",
    "                                          valid_embeddings.detach().cpu().numpy(),\n",
    "                                          k=CFG.bert_knn if len(df) > 3 else 3, \n",
    "                                          threshold=search_threshold\n",
    "                                         )\n",
    "        valid_df['oob'] = valid_predictions\n",
    "        valid_f1 = valid_df.apply(getMetric('oob'), axis=1)\n",
    "        valid_f1 = valid_df.f1.mean()\n",
    "        valid_df['oob'] = 0\n",
    "        \n",
    "        print(f\" Threshold = {search_threshold} => F1 Score = {valid_f1}\" )\n",
    "        if valid_f1 > best_f1_valid:\n",
    "            best_f1_valid = valid_f1\n",
    "            best_threshold = search_threshold\n",
    "            \n",
    "    print(\"Best threshold =\", best_threshold)\n",
    "    print(\"Best f1 score =\", best_f1_valid)\n",
    "    BEST_THRESHOLD = best_threshold\n",
    "            "
   ]
  },
  {
   "cell_type": "code",
   "execution_count": 26,
   "id": "150bd2db",
   "metadata": {
    "execution": {
     "iopub.execute_input": "2022-09-24T01:30:19.280276Z",
     "iopub.status.busy": "2022-09-24T01:30:19.279922Z",
     "iopub.status.idle": "2022-09-24T01:31:32.388756Z",
     "shell.execute_reply": "2022-09-24T01:31:32.387157Z"
    },
    "papermill": {
     "duration": 74.3644,
     "end_time": "2022-09-24T01:31:32.390916",
     "exception": false,
     "start_time": "2022-09-24T01:30:18.026516",
     "status": "completed"
    },
    "tags": []
   },
   "outputs": [
    {
     "name": "stderr",
     "output_type": "stream",
     "text": [
      "get_bert_embeddings: 100%|████████████████████| 269/269 [00:09<00:00, 28.86it/s]\n"
     ]
    },
    {
     "name": "stdout",
     "output_type": "stream",
     "text": [
      " K = 40 =>  F1 Score 0.7973646848031729\n",
      " K = 42 =>  F1 Score 0.7973646848031729\n",
      " K = 44 =>  F1 Score 0.7973646848031729\n",
      " K = 46 =>  F1 Score 0.7973646848031729\n",
      " K = 48 =>  F1 Score 0.7973646848031729\n",
      " K = 50 =>  F1 Score 0.7973646848031729\n",
      " K = 52 =>  F1 Score 0.7973646848031729\n",
      " K = 54 =>  F1 Score 0.7973646848031729\n",
      " K = 56 =>  F1 Score 0.7973646848031729\n",
      " K = 58 =>  F1 Score 0.7973646848031729\n",
      " K = 60 =>  F1 Score 0.7973646848031729\n",
      " K = 62 =>  F1 Score 0.7973646848031729\n",
      " K = 64 =>  F1 Score 0.7973646848031729\n",
      " K = 66 =>  F1 Score 0.7973646848031729\n",
      " K = 68 =>  F1 Score 0.7973646848031729\n",
      " K = 70 =>  F1 Score 0.7973646848031729\n",
      " K = 72 =>  F1 Score 0.7973646848031729\n",
      " K = 74 =>  F1 Score 0.7973646848031729\n",
      " K = 76 =>  F1 Score 0.7973646848031729\n",
      " K = 78 =>  F1 Score 0.7973646848031729\n",
      "Best K Value = 40\n",
      "Best f1 score = 0.7973646848031729\n"
     ]
    }
   ],
   "source": [
    "## SEARCH FOR BEST K VALUE\n",
    "BEST_THRESHOLD  = 0\n",
    "if CFG.COMPUTE_CV:\n",
    "    search_range = range(40,80,2)\n",
    "    \n",
    "#     model.load_state_dict(torch.load(CFG.save_model_path, map_location=CFG.device))\n",
    "    \n",
    "    valid_embeddings = get_bert_Embeddings(valid_df, 'title', model)\n",
    "    best_f1_valid = 0.\n",
    "    best_knn = 0.\n",
    "    for k in search_range:\n",
    "        \n",
    "        valid_predictions = get_neighbors(valid_df, \n",
    "                                          valid_embeddings.detach().cpu().numpy(),\n",
    "                                          k, \n",
    "                                          threshold=BEST_THRESHOLD\n",
    "                                         )\n",
    "        valid_df['oob'] = valid_predictions\n",
    "        valid_f1 = valid_df.apply(getMetric('oob'), axis=1)\n",
    "        valid_f1 = valid_df.f1.mean()\n",
    "        valid_df['oob'] = 0\n",
    "        \n",
    "        print(f\" K = {k} =>  F1 Score {valid_f1}\" )\n",
    "        if valid_f1 > best_f1_valid:\n",
    "            best_f1_valid = valid_f1\n",
    "            best_knn = k\n",
    "            \n",
    "    print(\"Best K Value =\", best_knn)\n",
    "    print(\"Best f1 score =\", best_f1_valid)\n",
    "    BEST_K = best_knn\n",
    "            "
   ]
  },
  {
   "cell_type": "code",
   "execution_count": 27,
   "id": "5b3cf76d",
   "metadata": {
    "execution": {
     "iopub.execute_input": "2022-09-24T01:31:34.882631Z",
     "iopub.status.busy": "2022-09-24T01:31:34.882200Z",
     "iopub.status.idle": "2022-09-24T01:31:34.887974Z",
     "shell.execute_reply": "2022-09-24T01:31:34.887018Z"
    },
    "papermill": {
     "duration": 1.244806,
     "end_time": "2022-09-24T01:31:34.890360",
     "exception": false,
     "start_time": "2022-09-24T01:31:33.645554",
     "status": "completed"
    },
    "tags": []
   },
   "outputs": [
    {
     "name": "stdout",
     "output_type": "stream",
     "text": [
      "Elapsed time: 25 min 49 sec\n",
      "2022-09-24 01:31:34.884433\n"
     ]
    }
   ],
   "source": [
    "end_time = time.time()\n",
    "time_elapsed=end_time - start_time\n",
    "print('Elapsed time: {:.0f} min {:.0f} sec'.format(time_elapsed // 60, time_elapsed % 60))\n",
    "print(datetime.datetime.now())"
   ]
  },
  {
   "cell_type": "markdown",
   "id": "f5acd7f7",
   "metadata": {
    "papermill": {
     "duration": 1.232267,
     "end_time": "2022-09-24T01:31:37.364701",
     "exception": false,
     "start_time": "2022-09-24T01:31:36.132434",
     "status": "completed"
    },
    "tags": []
   },
   "source": [
    "# Plot Training and Validation Loss and Accuracy"
   ]
  },
  {
   "cell_type": "code",
   "execution_count": 28,
   "id": "5742439e",
   "metadata": {
    "execution": {
     "iopub.execute_input": "2022-09-24T01:31:39.849173Z",
     "iopub.status.busy": "2022-09-24T01:31:39.848813Z",
     "iopub.status.idle": "2022-09-24T01:31:40.044849Z",
     "shell.execute_reply": "2022-09-24T01:31:40.043933Z"
    },
    "papermill": {
     "duration": 1.506879,
     "end_time": "2022-09-24T01:31:40.046797",
     "exception": false,
     "start_time": "2022-09-24T01:31:38.539918",
     "status": "completed"
    },
    "tags": []
   },
   "outputs": [
    {
     "data": {
      "image/png": "[encoded data removed]",
      "text/plain": [
       "<Figure size 432x288 with 1 Axes>"
      ]
     },
     "metadata": {
      "needs_background": "light"
     },
     "output_type": "display_data"
    }
   ],
   "source": [
    "if CFG.COMPUTE_CV:\n",
    "    epoch_lst = [ i+1 for i in range(CFG.epochs)]\n",
    "    plt.plot(epoch_lst,history['train_loss'])\n",
    "\n",
    "    plt.xlabel(\"Epoch number\")\n",
    "    plt.ylabel('Training Loss')\n",
    "    plt.title('Training Loss ArcFace Loss Function')\n",
    "    plt.show()"
   ]
  },
  {
   "cell_type": "code",
   "execution_count": 29,
   "id": "f2b1cb74",
   "metadata": {
    "execution": {
     "iopub.execute_input": "2022-09-24T01:31:42.475797Z",
     "iopub.status.busy": "2022-09-24T01:31:42.475405Z",
     "iopub.status.idle": "2022-09-24T01:31:42.718721Z",
     "shell.execute_reply": "2022-09-24T01:31:42.717466Z"
    },
    "papermill": {
     "duration": 1.499162,
     "end_time": "2022-09-24T01:31:42.721568",
     "exception": false,
     "start_time": "2022-09-24T01:31:41.222406",
     "status": "completed"
    },
    "tags": []
   },
   "outputs": [
    {
     "data": {
      "image/png": "[encoded data removed]",
      "text/plain": [
       "<Figure size 432x288 with 1 Axes>"
      ]
     },
     "metadata": {
      "needs_background": "light"
     },
     "output_type": "display_data"
    }
   ],
   "source": [
    "if CFG.COMPUTE_CV:\n",
    "    plt.plot(epoch_lst,history['valid_f1_score'])\n",
    "    plt.xlabel(\"Epoch number\")\n",
    "    plt.ylabel('valid_f1_score ')\n",
    "    plt.title('valid_f1_score Loss ArcFace Loss Function')\n",
    "    plt.show()"
   ]
  }
 ],
 "metadata": {
  "kernelspec": {
   "display_name": "Python 3",
   "language": "python",
   "name": "python3"
  },
  "language_info": {
   "codemirror_mode": {
    "name": "ipython",
    "version": 3
   },
   "file_extension": ".py",
   "mimetype": "text/x-python",
   "name": "python",
   "nbconvert_exporter": "python",
   "pygments_lexer": "ipython3",
   "version": "3.7.12"
  },
  "papermill": {
   "default_parameters": {},
   "duration": 1575.593208,
   "end_time": "2022-09-24T01:31:46.608439",
   "environment_variables": {},
   "exception": null,
   "input_path": "__notebook__.ipynb",
   "output_path": "__notebook__.ipynb",
   "parameters": {},
   "start_time": "2022-09-24T01:05:31.015231",
   "version": "2.3.4"
  }
 },
 "nbformat": 4,
 "nbformat_minor": 5
}
