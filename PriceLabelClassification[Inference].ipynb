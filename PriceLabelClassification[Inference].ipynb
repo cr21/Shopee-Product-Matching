{
 "cells": [
  {
   "cell_type": "code",
   "execution_count": 1,
   "id": "4a536863",
   "metadata": {
    "execution": {
     "iopub.execute_input": "2022-03-15T00:01:20.313120Z",
     "iopub.status.busy": "2022-03-15T00:01:20.311663Z",
     "iopub.status.idle": "2022-03-15T00:01:20.328574Z",
     "shell.execute_reply": "2022-03-15T00:01:20.328059Z",
     "shell.execute_reply.started": "2022-03-14T22:55:28.838069Z"
    },
    "papermill": {
     "duration": 0.039531,
     "end_time": "2022-03-15T00:01:20.328730",
     "exception": false,
     "start_time": "2022-03-15T00:01:20.289199",
     "status": "completed"
    },
    "tags": []
   },
   "outputs": [],
   "source": [
    "%config Completer.use_jedi = False"
   ]
  },
  {
   "cell_type": "code",
   "execution_count": 2,
   "id": "2a88838a",
   "metadata": {
    "execution": {
     "iopub.execute_input": "2022-03-15T00:01:20.386905Z",
     "iopub.status.busy": "2022-03-15T00:01:20.386019Z",
     "iopub.status.idle": "2022-03-15T00:01:23.771595Z",
     "shell.execute_reply": "2022-03-15T00:01:23.771128Z",
     "shell.execute_reply.started": "2022-03-14T22:55:28.862757Z"
    },
    "papermill": {
     "duration": 3.419483,
     "end_time": "2022-03-15T00:01:23.771747",
     "exception": false,
     "start_time": "2022-03-15T00:01:20.352264",
     "status": "completed"
    },
    "tags": []
   },
   "outputs": [],
   "source": [
    "import sys\n",
    "sys.path.append('../input/timmmaster')\n",
    "import timm"
   ]
  },
  {
   "cell_type": "code",
   "execution_count": 3,
   "id": "09323f74",
   "metadata": {
    "execution": {
     "iopub.execute_input": "2022-03-15T00:01:23.811553Z",
     "iopub.status.busy": "2022-03-15T00:01:23.810001Z",
     "iopub.status.idle": "2022-03-15T00:01:23.812163Z",
     "shell.execute_reply": "2022-03-15T00:01:23.812557Z",
     "shell.execute_reply.started": "2022-03-14T22:55:28.870447Z"
    },
    "papermill": {
     "duration": 0.023508,
     "end_time": "2022-03-15T00:01:23.812697",
     "exception": false,
     "start_time": "2022-03-15T00:01:23.789189",
     "status": "completed"
    },
    "tags": []
   },
   "outputs": [],
   "source": [
    "# import sys\n",
    "# !cp ../input/rapids/rapids.21.06 /opt/conda/envs/rapids.tar.gz\n",
    "# !cd /opt/conda/envs/ && tar -xzvf rapids.tar.gz > /dev/null\n",
    "# sys.path = [\"/opt/conda/envs/rapids/lib/python3.7/site-packages\"] + sys.path\n",
    "# sys.path = [\"/opt/conda/envs/rapids/lib/python3.7\"] + sys.path\n",
    "# sys.path = [\"/opt/conda/envs/rapids/lib\"] + sys.path \n",
    "# !cp /opt/conda/envs/rapids/lib/libxgboost.so /opt/conda/lib/"
   ]
  },
  {
   "cell_type": "code",
   "execution_count": 4,
   "id": "58fe3935",
   "metadata": {
    "execution": {
     "iopub.execute_input": "2022-03-15T00:01:23.853724Z",
     "iopub.status.busy": "2022-03-15T00:01:23.853139Z",
     "iopub.status.idle": "2022-03-15T00:01:28.760142Z",
     "shell.execute_reply": "2022-03-15T00:01:28.759503Z",
     "shell.execute_reply.started": "2022-03-14T22:55:28.883576Z"
    },
    "papermill": {
     "duration": 4.930716,
     "end_time": "2022-03-15T00:01:28.760278",
     "exception": false,
     "start_time": "2022-03-15T00:01:23.829562",
     "status": "completed"
    },
    "tags": []
   },
   "outputs": [],
   "source": [
    "import math\n",
    "import os\n",
    "import numpy as np\n",
    "import cv2\n",
    "import pandas as pd\n",
    "from sklearn.preprocessing import LabelEncoder\n",
    "from sklearn.model_selection import StratifiedKFold\n",
    "import timm\n",
    "import torch\n",
    "from torch import nn \n",
    "from torch.utils.data import Dataset, DataLoader\n",
    "import torch.nn.functional as F \n",
    "import albumentations\n",
    "from albumentations.pytorch.transforms import ToTensorV2\n",
    "from torch.optim import lr_scheduler\n",
    "from tqdm import tqdm\n",
    "import matplotlib.pyplot as plt\n",
    "from sklearn import metrics\n",
    "\n",
    "\n",
    "import gc\n",
    "import matplotlib.pyplot as plt\n",
    "import cudf\n",
    "import cuml\n",
    "import cupy\n",
    "from cuml.feature_extraction.text import TfidfVectorizer\n",
    "from cuml import PCA\n",
    "from cuml.neighbors import NearestNeighbors\n",
    "\n",
    "import random"
   ]
  },
  {
   "cell_type": "code",
   "execution_count": 5,
   "id": "28948f11",
   "metadata": {
    "execution": {
     "iopub.execute_input": "2022-03-15T00:01:28.797285Z",
     "iopub.status.busy": "2022-03-15T00:01:28.796237Z",
     "iopub.status.idle": "2022-03-15T00:01:28.802691Z",
     "shell.execute_reply": "2022-03-15T00:01:28.803103Z",
     "shell.execute_reply.started": "2022-03-14T22:55:28.898341Z"
    },
    "papermill": {
     "duration": 0.026017,
     "end_time": "2022-03-15T00:01:28.803225",
     "exception": false,
     "start_time": "2022-03-15T00:01:28.777208",
     "status": "completed"
    },
    "tags": []
   },
   "outputs": [],
   "source": [
    "TRAIN_DIR = '../input/shopee-product-matching/train_images/'\n",
    "TEST_DIR = '../input/shopee-product-matching/test_images/'\n",
    "TRAIN_CSV = '../input/crossvalidationfolds/folds.csv/'\n",
    "MODEL_PATH = './'\n",
    "\n",
    "class CFG:\n",
    "    seed = 123\n",
    "    classes = 11014 \n",
    "    scale = 30 \n",
    "    margin = 0.5\n",
    "    model_name =  'tf_efficientnet_b4'\n",
    "    fc_dim = 512\n",
    "    img_size = 512\n",
    "    batch_size = 20\n",
    "    num_workers = 4\n",
    "    device = device = 'cuda' if torch.cuda.is_available() else 'cpu'\n",
    "    model_path = '../input/trained-bg-softmax-512-512/softmax_512x512_tf_efficientnet_b4.pt'\n",
    "    isTraining=False\n",
    "    "
   ]
  },
  {
   "cell_type": "code",
   "execution_count": 6,
   "id": "2bfe5b86",
   "metadata": {
    "execution": {
     "iopub.execute_input": "2022-03-15T00:01:28.841597Z",
     "iopub.status.busy": "2022-03-15T00:01:28.840824Z",
     "iopub.status.idle": "2022-03-15T00:01:28.843209Z",
     "shell.execute_reply": "2022-03-15T00:01:28.842790Z",
     "shell.execute_reply.started": "2022-03-14T22:55:28.911619Z"
    },
    "papermill": {
     "duration": 0.023169,
     "end_time": "2022-03-15T00:01:28.843309",
     "exception": false,
     "start_time": "2022-03-15T00:01:28.820140",
     "status": "completed"
    },
    "tags": []
   },
   "outputs": [],
   "source": [
    "# Read test dataset\n",
    "\n",
    "def read_test_dataset():\n",
    "    test_df = pd.read_csv('../input/shopee-product-matching/test.csv')\n",
    "    cu_df = cudf.DataFrame(test_df)\n",
    "    image_paths = '../input/shopee-product-matching/test_images/' + test_df['image']\n",
    "    return image_paths, cu_df, test_df"
   ]
  },
  {
   "cell_type": "code",
   "execution_count": 7,
   "id": "89dbc412",
   "metadata": {
    "execution": {
     "iopub.execute_input": "2022-03-15T00:01:28.881606Z",
     "iopub.status.busy": "2022-03-15T00:01:28.880923Z",
     "iopub.status.idle": "2022-03-15T00:01:28.885694Z",
     "shell.execute_reply": "2022-03-15T00:01:28.885273Z",
     "shell.execute_reply.started": "2022-03-14T22:55:28.92245Z"
    },
    "papermill": {
     "duration": 0.025923,
     "end_time": "2022-03-15T00:01:28.885803",
     "exception": false,
     "start_time": "2022-03-15T00:01:28.859880",
     "status": "completed"
    },
    "tags": []
   },
   "outputs": [],
   "source": [
    "def seed_torch(seed=10042):\n",
    "    random.seed(seed)\n",
    "    os.environ['PYTHONHASHSEED'] = str(seed)\n",
    "    np.random.seed(seed)\n",
    "    torch.manual_seed(seed)\n",
    "    torch.cuda.manual_seed(seed)\n",
    "    torch.backends.cudnn.deterministic = True\n",
    "    \n",
    "seed_torch(CFG.seed)"
   ]
  },
  {
   "cell_type": "markdown",
   "id": "e91b9e8b",
   "metadata": {
    "papermill": {
     "duration": 0.016509,
     "end_time": "2022-03-15T00:01:28.919274",
     "exception": false,
     "start_time": "2022-03-15T00:01:28.902765",
     "status": "completed"
    },
    "tags": []
   },
   "source": [
    "# Image Predictions "
   ]
  },
  {
   "cell_type": "markdown",
   "id": "d715da1f",
   "metadata": {
    "papermill": {
     "duration": 0.016354,
     "end_time": "2022-03-15T00:01:28.952260",
     "exception": false,
     "start_time": "2022-03-15T00:01:28.935906",
     "status": "completed"
    },
    "tags": []
   },
   "source": [
    "## Create Custom Dataset"
   ]
  },
  {
   "cell_type": "code",
   "execution_count": 8,
   "id": "6cf12d93",
   "metadata": {
    "execution": {
     "iopub.execute_input": "2022-03-15T00:01:28.994850Z",
     "iopub.status.busy": "2022-03-15T00:01:28.994082Z",
     "iopub.status.idle": "2022-03-15T00:01:28.996463Z",
     "shell.execute_reply": "2022-03-15T00:01:28.996051Z",
     "shell.execute_reply.started": "2022-03-14T22:55:28.938351Z"
    },
    "papermill": {
     "duration": 0.027549,
     "end_time": "2022-03-15T00:01:28.996562",
     "exception": false,
     "start_time": "2022-03-15T00:01:28.969013",
     "status": "completed"
    },
    "tags": []
   },
   "outputs": [],
   "source": [
    "class ShopeeDataset(Dataset):\n",
    "    \n",
    "    def __init__(self,image_path_lst,isTraining=False, transform=None):\n",
    "        self.image_paths = image_path_lst\n",
    "        self.transform = transform\n",
    "    \n",
    "    def __len__(self):\n",
    "        return self.image_paths.shape[0]\n",
    "    \n",
    "    def __getitem__(self, idx):\n",
    "        image_path = self.image_paths[idx]\n",
    "        # read image convert to RGB and apply augmentation\n",
    "        image = cv2.imread(image_path)\n",
    "#         print(image_path)\n",
    "        image = cv2.cvtColor(image, cv2.COLOR_BGR2RGB)\n",
    "        if self.transform:\n",
    "            aug = self.transform(image=image)\n",
    "            image = aug['image']\n",
    "        \n",
    "        return image, torch.tensor(1)\n",
    "            "
   ]
  },
  {
   "cell_type": "code",
   "execution_count": 9,
   "id": "ac5aa4d7",
   "metadata": {
    "execution": {
     "iopub.execute_input": "2022-03-15T00:01:29.034755Z",
     "iopub.status.busy": "2022-03-15T00:01:29.034178Z",
     "iopub.status.idle": "2022-03-15T00:01:29.036842Z",
     "shell.execute_reply": "2022-03-15T00:01:29.036398Z",
     "shell.execute_reply.started": "2022-03-14T22:55:28.950786Z"
    },
    "papermill": {
     "duration": 0.02353,
     "end_time": "2022-03-15T00:01:29.036957",
     "exception": false,
     "start_time": "2022-03-15T00:01:29.013427",
     "status": "completed"
    },
    "tags": []
   },
   "outputs": [],
   "source": [
    "def getTestAugmentation(IMG_SIZE, isTraining=False):\n",
    "    \n",
    "    \n",
    "    return albumentations.Compose([\n",
    "        albumentations.Resize(IMG_SIZE, IMG_SIZE, always_apply=True),\n",
    "        albumentations.Normalize(),\n",
    "        ToTensorV2(p=1.0)\n",
    "    ])"
   ]
  },
  {
   "cell_type": "markdown",
   "id": "65d2e239",
   "metadata": {
    "papermill": {
     "duration": 0.016422,
     "end_time": "2022-03-15T00:01:29.070100",
     "exception": false,
     "start_time": "2022-03-15T00:01:29.053678",
     "status": "completed"
    },
    "tags": []
   },
   "source": [
    "## Build Model"
   ]
  },
  {
   "cell_type": "code",
   "execution_count": 10,
   "id": "7dd19aa7",
   "metadata": {
    "execution": {
     "iopub.execute_input": "2022-03-15T00:01:29.117728Z",
     "iopub.status.busy": "2022-03-15T00:01:29.117181Z",
     "iopub.status.idle": "2022-03-15T00:01:29.120499Z",
     "shell.execute_reply": "2022-03-15T00:01:29.120897Z",
     "shell.execute_reply.started": "2022-03-14T22:55:28.961353Z"
    },
    "papermill": {
     "duration": 0.034094,
     "end_time": "2022-03-15T00:01:29.121030",
     "exception": false,
     "start_time": "2022-03-15T00:01:29.086936",
     "status": "completed"
    },
    "tags": []
   },
   "outputs": [],
   "source": [
    "class ShopeeLabelGroupClassfier(nn.Module):\n",
    "    \n",
    "    def __init__(self,\n",
    "                     model_name='tf_efficientnet_b0',\n",
    "                     loss_fn='softmax',\n",
    "                     classes = CFG.classes,\n",
    "                     fc_dim = CFG.fc_dim,\n",
    "                     pretrained=True,\n",
    "                     use_fc=True,\n",
    "                     isTraining=False\n",
    "                ):\n",
    "        \n",
    "        \n",
    "        super(ShopeeLabelGroupClassfier,self).__init__()\n",
    "        \n",
    "        # create bottlenack backbone network from pretrained model \n",
    "        self.backbone = timm.create_model(model_name, pretrained=pretrained)\n",
    "        in_features = self.backbone.classifier.in_features\n",
    "        # we will put FC layers over backbone to classfy images based on label groups\n",
    "        self.backbone.classifier = nn.Identity()\n",
    "        self.backbone.global_pool = nn.Identity()\n",
    "        self.pooling = nn.AdaptiveAvgPool2d(1)\n",
    "        self.use_fc = use_fc\n",
    "        self.loss_fn =loss_fn\n",
    "        \n",
    "        # build top fc layers\n",
    "        if self.use_fc:\n",
    "            self.dropout = nn.Dropout(0.2)\n",
    "            self.fc = nn.Linear(in_features,fc_dim )\n",
    "            self.bn = nn.BatchNorm1d(fc_dim)\n",
    "            in_features = fc_dim\n",
    "        self.loss_fn = loss_fn\n",
    "        \n",
    "        if self.loss_fn=='softmax':\n",
    "            self.final = nn.Linear(in_features, CFG.classes)\n",
    "    \n",
    "    def forward(self, image, label):\n",
    "        features = self.get_features(image)\n",
    "        \n",
    "        if self.loss_fn=='softmax' and CFG.isTraining:\n",
    "            logits = self.final(features)\n",
    "            return logits\n",
    "        else:\n",
    "            return features\n",
    "    \n",
    "    def get_features(self,inp):\n",
    "        batch_dim = inp.shape[0]\n",
    "        inp = self.backbone(inp)\n",
    "        inp = self.pooling(inp).view(batch_dim, -1)\n",
    "        if self.use_fc:\n",
    "            inp = self.dropout(inp)\n",
    "            inp = self.fc(inp)\n",
    "            inp = self.bn(inp)\n",
    "        \n",
    "        return inp\n",
    "    \n",
    "    "
   ]
  },
  {
   "cell_type": "markdown",
   "id": "94d19331",
   "metadata": {
    "papermill": {
     "duration": 0.017853,
     "end_time": "2022-03-15T00:01:29.155934",
     "exception": false,
     "start_time": "2022-03-15T00:01:29.138081",
     "status": "completed"
    },
    "tags": []
   },
   "source": [
    "## Generate Image Embeddings"
   ]
  },
  {
   "cell_type": "code",
   "execution_count": 11,
   "id": "dc23d971",
   "metadata": {
    "execution": {
     "iopub.execute_input": "2022-03-15T00:01:29.197844Z",
     "iopub.status.busy": "2022-03-15T00:01:29.197229Z",
     "iopub.status.idle": "2022-03-15T00:01:29.199994Z",
     "shell.execute_reply": "2022-03-15T00:01:29.199485Z",
     "shell.execute_reply.started": "2022-03-14T22:55:28.981333Z"
    },
    "papermill": {
     "duration": 0.026725,
     "end_time": "2022-03-15T00:01:29.200111",
     "exception": false,
     "start_time": "2022-03-15T00:01:29.173386",
     "status": "completed"
    },
    "tags": []
   },
   "outputs": [],
   "source": [
    "def generateImageEmbeddings(images):\n",
    "    model = ShopeeLabelGroupClassfier(pretrained=False).to(CFG.device)\n",
    "    model.load_state_dict(torch.load(CFG.model_path))\n",
    "    model.eval()\n",
    "    \n",
    "    # create dataset\n",
    "    test_aug = getTestAugmentation(CFG.img_size, CFG.isTraining)\n",
    "    test_dataset = ShopeeDataset(image_path_lst=images, isTraining=CFG.isTraining, transform = test_aug)\n",
    "    \n",
    "    test_data_loader = torch.utils.data.DataLoader(\n",
    "                                                test_dataset,\n",
    "        batch_size=CFG.batch_size,\n",
    "        num_workers =CFG.num_workers\n",
    "    )\n",
    "    \n",
    "    embeddings = []\n",
    "    \n",
    "    with torch.no_grad():\n",
    "        \n",
    "        for image, label  in (test_data_loader):\n",
    "            image = image.cuda()\n",
    "            label = label.cuda()\n",
    "            features = model(image, label)\n",
    "            image_embeddings = features.detach().cpu().numpy()\n",
    "            embeddings.append(image_embeddings)\n",
    "            \n",
    "    del model\n",
    "    image_embeddings = np.concatenate(embeddings)\n",
    "    print(\"Final Embedding shape {}\".format(image_embeddings.shape))\n",
    "    \n",
    "    del embeddings\n",
    "    gc.collect()\n",
    "    \n",
    "            \n",
    "    return image_embeddings"
   ]
  },
  {
   "cell_type": "markdown",
   "id": "217401c0",
   "metadata": {
    "papermill": {
     "duration": 0.016404,
     "end_time": "2022-03-15T00:01:29.233284",
     "exception": false,
     "start_time": "2022-03-15T00:01:29.216880",
     "status": "completed"
    },
    "tags": []
   },
   "source": [
    "## get top K neighbors"
   ]
  },
  {
   "cell_type": "code",
   "execution_count": 12,
   "id": "dbe11e1d",
   "metadata": {
    "execution": {
     "iopub.execute_input": "2022-03-15T00:01:29.273098Z",
     "iopub.status.busy": "2022-03-15T00:01:29.272382Z",
     "iopub.status.idle": "2022-03-15T00:01:29.274741Z",
     "shell.execute_reply": "2022-03-15T00:01:29.274316Z",
     "shell.execute_reply.started": "2022-03-14T22:55:29.000901Z"
    },
    "papermill": {
     "duration": 0.02495,
     "end_time": "2022-03-15T00:01:29.274862",
     "exception": false,
     "start_time": "2022-03-15T00:01:29.249912",
     "status": "completed"
    },
    "tags": []
   },
   "outputs": [],
   "source": [
    "def get_topk_neighbors(data, embeddings, KNN=50):\n",
    "\n",
    "    model = NearestNeighbors(n_neighbors = KNN)\n",
    "    model.fit(embeddings)\n",
    "    distances, indices = model.kneighbors(embeddings)\n",
    "    \n",
    "    threshold = 4.5\n",
    "    predictions = []\n",
    "    for k in tqdm(range(embeddings.shape[0])):\n",
    "#         print(k)\n",
    "        idx = np.where(distances[k,] < threshold)[0]\n",
    "        ids = indices[k,idx]\n",
    "#         print(ids)\n",
    "        posting_ids = data['posting_id'].iloc[ids].values\n",
    "        predictions.append(posting_ids)\n",
    "        \n",
    "    del model, distances, indices\n",
    "    gc.collect()\n",
    "    return data, predictions"
   ]
  },
  {
   "cell_type": "code",
   "execution_count": 13,
   "id": "7f24aa45",
   "metadata": {
    "execution": {
     "iopub.execute_input": "2022-03-15T00:01:29.313250Z",
     "iopub.status.busy": "2022-03-15T00:01:29.312472Z",
     "iopub.status.idle": "2022-03-15T00:01:35.614316Z",
     "shell.execute_reply": "2022-03-15T00:01:35.614741Z",
     "shell.execute_reply.started": "2022-03-14T22:55:29.01584Z"
    },
    "papermill": {
     "duration": 6.321834,
     "end_time": "2022-03-15T00:01:35.614885",
     "exception": false,
     "start_time": "2022-03-15T00:01:29.293051",
     "status": "completed"
    },
    "tags": []
   },
   "outputs": [
    {
     "data": {
      "text/html": [
       "<div>\n",
       "<style scoped>\n",
       "    .dataframe tbody tr th:only-of-type {\n",
       "        vertical-align: middle;\n",
       "    }\n",
       "\n",
       "    .dataframe tbody tr th {\n",
       "        vertical-align: top;\n",
       "    }\n",
       "\n",
       "    .dataframe thead th {\n",
       "        text-align: right;\n",
       "    }\n",
       "</style>\n",
       "<table border=\"1\" class=\"dataframe\">\n",
       "  <thead>\n",
       "    <tr style=\"text-align: right;\">\n",
       "      <th></th>\n",
       "      <th>posting_id</th>\n",
       "      <th>image</th>\n",
       "      <th>image_phash</th>\n",
       "      <th>title</th>\n",
       "    </tr>\n",
       "  </thead>\n",
       "  <tbody>\n",
       "    <tr>\n",
       "      <th>0</th>\n",
       "      <td>test_2255846744</td>\n",
       "      <td>0006c8e5462ae52167402bac1c2e916e.jpg</td>\n",
       "      <td>ecc292392dc7687a</td>\n",
       "      <td>Edufuntoys - CHARACTER PHONE ada lampu dan mus...</td>\n",
       "    </tr>\n",
       "    <tr>\n",
       "      <th>1</th>\n",
       "      <td>test_3588702337</td>\n",
       "      <td>0007585c4d0f932859339129f709bfdc.jpg</td>\n",
       "      <td>e9968f60d2699e2c</td>\n",
       "      <td>(Beli 1 Free Spatula) Masker Komedo | Blackhea...</td>\n",
       "    </tr>\n",
       "    <tr>\n",
       "      <th>2</th>\n",
       "      <td>test_4015706929</td>\n",
       "      <td>0008377d3662e83ef44e1881af38b879.jpg</td>\n",
       "      <td>ba81c17e3581cabe</td>\n",
       "      <td>READY Lemonilo Mie instant sehat kuah dan goreng</td>\n",
       "    </tr>\n",
       "  </tbody>\n",
       "</table>\n",
       "</div>"
      ],
      "text/plain": [
       "        posting_id                                 image       image_phash  \\\n",
       "0  test_2255846744  0006c8e5462ae52167402bac1c2e916e.jpg  ecc292392dc7687a   \n",
       "1  test_3588702337  0007585c4d0f932859339129f709bfdc.jpg  e9968f60d2699e2c   \n",
       "2  test_4015706929  0008377d3662e83ef44e1881af38b879.jpg  ba81c17e3581cabe   \n",
       "\n",
       "                                               title  \n",
       "0  Edufuntoys - CHARACTER PHONE ada lampu dan mus...  \n",
       "1  (Beli 1 Free Spatula) Masker Komedo | Blackhea...  \n",
       "2   READY Lemonilo Mie instant sehat kuah dan goreng  "
      ]
     },
     "execution_count": 13,
     "metadata": {},
     "output_type": "execute_result"
    }
   ],
   "source": [
    "image_paths, cu_df, test_df = read_test_dataset()\n",
    "test_df.head()"
   ]
  },
  {
   "cell_type": "code",
   "execution_count": 14,
   "id": "6ac31f92",
   "metadata": {
    "execution": {
     "iopub.execute_input": "2022-03-15T00:01:35.656586Z",
     "iopub.status.busy": "2022-03-15T00:01:35.656087Z",
     "iopub.status.idle": "2022-03-15T00:01:42.730666Z",
     "shell.execute_reply": "2022-03-15T00:01:42.731103Z",
     "shell.execute_reply.started": "2022-03-14T22:55:29.045493Z"
    },
    "papermill": {
     "duration": 7.098267,
     "end_time": "2022-03-15T00:01:42.731251",
     "exception": false,
     "start_time": "2022-03-15T00:01:35.632984",
     "status": "completed"
    },
    "tags": []
   },
   "outputs": [
    {
     "name": "stderr",
     "output_type": "stream",
     "text": [
      "/opt/conda/lib/python3.7/site-packages/torch/utils/data/dataloader.py:481: UserWarning: This DataLoader will create 4 worker processes in total. Our suggested max number of worker in current system is 2, which is smaller than what this DataLoader is going to create. Please be aware that excessive worker creation might get DataLoader running slow or even freeze, lower the worker number to avoid potential slowness/freeze if necessary.\n",
      "  cpuset_checked))\n"
     ]
    },
    {
     "name": "stdout",
     "output_type": "stream",
     "text": [
      "Final Embedding shape (3, 512)\n"
     ]
    }
   ],
   "source": [
    "image_embeddings = generateImageEmbeddings(image_paths.values)\n"
   ]
  },
  {
   "cell_type": "code",
   "execution_count": 15,
   "id": "71539dc4",
   "metadata": {
    "execution": {
     "iopub.execute_input": "2022-03-15T00:01:42.778358Z",
     "iopub.status.busy": "2022-03-15T00:01:42.777615Z",
     "iopub.status.idle": "2022-03-15T00:01:43.152566Z",
     "shell.execute_reply": "2022-03-15T00:01:43.153033Z",
     "shell.execute_reply.started": "2022-03-14T22:55:30.020922Z"
    },
    "papermill": {
     "duration": 0.401255,
     "end_time": "2022-03-15T00:01:43.153193",
     "exception": false,
     "start_time": "2022-03-15T00:01:42.751938",
     "status": "completed"
    },
    "tags": []
   },
   "outputs": [
    {
     "name": "stderr",
     "output_type": "stream",
     "text": [
      "100%|██████████| 3/3 [00:00<00:00, 2796.82it/s]\n"
     ]
    },
    {
     "data": {
      "text/html": [
       "<div>\n",
       "<style scoped>\n",
       "    .dataframe tbody tr th:only-of-type {\n",
       "        vertical-align: middle;\n",
       "    }\n",
       "\n",
       "    .dataframe tbody tr th {\n",
       "        vertical-align: top;\n",
       "    }\n",
       "\n",
       "    .dataframe thead th {\n",
       "        text-align: right;\n",
       "    }\n",
       "</style>\n",
       "<table border=\"1\" class=\"dataframe\">\n",
       "  <thead>\n",
       "    <tr style=\"text-align: right;\">\n",
       "      <th></th>\n",
       "      <th>posting_id</th>\n",
       "      <th>image</th>\n",
       "      <th>image_phash</th>\n",
       "      <th>title</th>\n",
       "    </tr>\n",
       "  </thead>\n",
       "  <tbody>\n",
       "    <tr>\n",
       "      <th>0</th>\n",
       "      <td>test_2255846744</td>\n",
       "      <td>0006c8e5462ae52167402bac1c2e916e.jpg</td>\n",
       "      <td>ecc292392dc7687a</td>\n",
       "      <td>Edufuntoys - CHARACTER PHONE ada lampu dan mus...</td>\n",
       "    </tr>\n",
       "    <tr>\n",
       "      <th>1</th>\n",
       "      <td>test_3588702337</td>\n",
       "      <td>0007585c4d0f932859339129f709bfdc.jpg</td>\n",
       "      <td>e9968f60d2699e2c</td>\n",
       "      <td>(Beli 1 Free Spatula) Masker Komedo | Blackhea...</td>\n",
       "    </tr>\n",
       "    <tr>\n",
       "      <th>2</th>\n",
       "      <td>test_4015706929</td>\n",
       "      <td>0008377d3662e83ef44e1881af38b879.jpg</td>\n",
       "      <td>ba81c17e3581cabe</td>\n",
       "      <td>READY Lemonilo Mie instant sehat kuah dan goreng</td>\n",
       "    </tr>\n",
       "  </tbody>\n",
       "</table>\n",
       "</div>"
      ],
      "text/plain": [
       "        posting_id                                 image       image_phash  \\\n",
       "0  test_2255846744  0006c8e5462ae52167402bac1c2e916e.jpg  ecc292392dc7687a   \n",
       "1  test_3588702337  0007585c4d0f932859339129f709bfdc.jpg  e9968f60d2699e2c   \n",
       "2  test_4015706929  0008377d3662e83ef44e1881af38b879.jpg  ba81c17e3581cabe   \n",
       "\n",
       "                                               title  \n",
       "0  Edufuntoys - CHARACTER PHONE ada lampu dan mus...  \n",
       "1  (Beli 1 Free Spatula) Masker Komedo | Blackhea...  \n",
       "2   READY Lemonilo Mie instant sehat kuah dan goreng  "
      ]
     },
     "execution_count": 15,
     "metadata": {},
     "output_type": "execute_result"
    }
   ],
   "source": [
    "data, image_predictions = get_topk_neighbors(test_df, image_embeddings, KNN=50 if len(test_df)>3 else 3)\n",
    "data.head()"
   ]
  },
  {
   "cell_type": "code",
   "execution_count": 16,
   "id": "5619f9eb",
   "metadata": {
    "execution": {
     "iopub.execute_input": "2022-03-15T00:01:43.208222Z",
     "iopub.status.busy": "2022-03-15T00:01:43.207380Z",
     "iopub.status.idle": "2022-03-15T00:01:43.212345Z",
     "shell.execute_reply": "2022-03-15T00:01:43.211873Z",
     "shell.execute_reply.started": "2022-03-14T22:55:30.421899Z"
    },
    "papermill": {
     "duration": 0.036575,
     "end_time": "2022-03-15T00:01:43.212470",
     "exception": false,
     "start_time": "2022-03-15T00:01:43.175895",
     "status": "completed"
    },
    "tags": []
   },
   "outputs": [],
   "source": [
    "data['matches'] = image_predictions\n",
    "data[['posting_id', 'matches']].to_csv('submission.csv', index=False)"
   ]
  }
 ],
 "metadata": {
  "kernelspec": {
   "display_name": "Python 3",
   "language": "python",
   "name": "python3"
  },
  "language_info": {
   "codemirror_mode": {
    "name": "ipython",
    "version": 3
   },
   "file_extension": ".py",
   "mimetype": "text/x-python",
   "name": "python",
   "nbconvert_exporter": "python",
   "pygments_lexer": "ipython3",
   "version": "3.7.12"
  },
  "papermill": {
   "default_parameters": {},
   "duration": 34.360722,
   "end_time": "2022-03-15T00:01:46.274331",
   "environment_variables": {},
   "exception": null,
   "input_path": "__notebook__.ipynb",
   "output_path": "__notebook__.ipynb",
   "parameters": {},
   "start_time": "2022-03-15T00:01:11.913609",
   "version": "2.3.3"
  }
 },
 "nbformat": 4,
 "nbformat_minor": 5
}
