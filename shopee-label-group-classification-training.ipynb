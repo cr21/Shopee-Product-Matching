{
 "cells": [
  {
   "cell_type": "code",
   "execution_count": 1,
   "id": "b8403c99",
   "metadata": {
    "execution": {
     "iopub.execute_input": "2022-03-14T03:48:47.164298Z",
     "iopub.status.busy": "2022-03-14T03:48:47.162606Z",
     "iopub.status.idle": "2022-03-14T03:48:47.190589Z",
     "shell.execute_reply": "2022-03-14T03:48:47.191160Z",
     "shell.execute_reply.started": "2022-03-13T21:53:43.395057Z"
    },
    "papermill": {
     "duration": 0.054334,
     "end_time": "2022-03-14T03:48:47.191464",
     "exception": false,
     "start_time": "2022-03-14T03:48:47.137130",
     "status": "completed"
    },
    "tags": []
   },
   "outputs": [],
   "source": [
    "%config Completer.use_jedi = False"
   ]
  },
  {
   "cell_type": "markdown",
   "id": "a0252bd8",
   "metadata": {
    "papermill": {
     "duration": 0.025637,
     "end_time": "2022-03-14T03:48:47.256868",
     "exception": false,
     "start_time": "2022-03-14T03:48:47.231231",
     "status": "completed"
    },
    "tags": []
   },
   "source": [
    "# Import Packages"
   ]
  },
  {
   "cell_type": "code",
   "execution_count": 2,
   "id": "0ee4beb0",
   "metadata": {
    "_cell_guid": "b1076dfc-b9ad-4769-8c92-a6c4dae69d19",
    "_uuid": "8f2839f25d086af736a60e9eeb907d3b93b6e0e5",
    "execution": {
     "iopub.execute_input": "2022-03-14T03:48:47.299856Z",
     "iopub.status.busy": "2022-03-14T03:48:47.299260Z",
     "iopub.status.idle": "2022-03-14T03:48:50.654035Z",
     "shell.execute_reply": "2022-03-14T03:48:50.654470Z",
     "shell.execute_reply.started": "2022-03-13T21:53:45.110465Z"
    },
    "papermill": {
     "duration": 3.378005,
     "end_time": "2022-03-14T03:48:50.654636",
     "exception": false,
     "start_time": "2022-03-14T03:48:47.276631",
     "status": "completed"
    },
    "tags": []
   },
   "outputs": [],
   "source": [
    "import sys\n",
    "sys.path.append('../input/timmmaster')\n",
    "import timm"
   ]
  },
  {
   "cell_type": "code",
   "execution_count": 3,
   "id": "8ba6ce66",
   "metadata": {
    "execution": {
     "iopub.execute_input": "2022-03-14T03:48:50.697758Z",
     "iopub.status.busy": "2022-03-14T03:48:50.697139Z",
     "iopub.status.idle": "2022-03-14T03:48:52.624988Z",
     "shell.execute_reply": "2022-03-14T03:48:52.624083Z",
     "shell.execute_reply.started": "2022-03-14T03:13:24.834274Z"
    },
    "papermill": {
     "duration": 1.952391,
     "end_time": "2022-03-14T03:48:52.625132",
     "exception": false,
     "start_time": "2022-03-14T03:48:50.672741",
     "status": "completed"
    },
    "tags": []
   },
   "outputs": [],
   "source": [
    "import math\n",
    "import os\n",
    "import numpy as np\n",
    "import cv2\n",
    "import pandas as pd\n",
    "from sklearn.preprocessing import LabelEncoder\n",
    "from sklearn.model_selection import StratifiedKFold\n",
    "import timm\n",
    "import torch\n",
    "from torch import nn \n",
    "from torch.utils.data import Dataset, DataLoader\n",
    "import torch.nn.functional as F \n",
    "import albumentations\n",
    "from albumentations.pytorch.transforms import ToTensorV2\n",
    "from torch.optim import lr_scheduler\n",
    "from tqdm import tqdm\n",
    "import matplotlib.pyplot as plt\n",
    "from sklearn import metrics"
   ]
  },
  {
   "cell_type": "markdown",
   "id": "ae0e78be",
   "metadata": {
    "papermill": {
     "duration": 0.017392,
     "end_time": "2022-03-14T03:48:52.660446",
     "exception": false,
     "start_time": "2022-03-14T03:48:52.643054",
     "status": "completed"
    },
    "tags": []
   },
   "source": [
    "# Load Dataset\n"
   ]
  },
  {
   "cell_type": "code",
   "execution_count": 4,
   "id": "f74abe0b",
   "metadata": {
    "execution": {
     "iopub.execute_input": "2022-03-14T03:48:52.700596Z",
     "iopub.status.busy": "2022-03-14T03:48:52.699799Z",
     "iopub.status.idle": "2022-03-14T03:48:52.865394Z",
     "shell.execute_reply": "2022-03-14T03:48:52.864595Z",
     "shell.execute_reply.started": "2022-03-13T21:53:49.344651Z"
    },
    "papermill": {
     "duration": 0.187647,
     "end_time": "2022-03-14T03:48:52.865523",
     "exception": false,
     "start_time": "2022-03-14T03:48:52.677876",
     "status": "completed"
    },
    "tags": []
   },
   "outputs": [
    {
     "data": {
      "text/html": [
       "<div>\n",
       "<style scoped>\n",
       "    .dataframe tbody tr th:only-of-type {\n",
       "        vertical-align: middle;\n",
       "    }\n",
       "\n",
       "    .dataframe tbody tr th {\n",
       "        vertical-align: top;\n",
       "    }\n",
       "\n",
       "    .dataframe thead th {\n",
       "        text-align: right;\n",
       "    }\n",
       "</style>\n",
       "<table border=\"1\" class=\"dataframe\">\n",
       "  <thead>\n",
       "    <tr style=\"text-align: right;\">\n",
       "      <th></th>\n",
       "      <th>posting_id</th>\n",
       "      <th>image</th>\n",
       "      <th>image_phash</th>\n",
       "      <th>title</th>\n",
       "      <th>label_group</th>\n",
       "    </tr>\n",
       "  </thead>\n",
       "  <tbody>\n",
       "    <tr>\n",
       "      <th>0</th>\n",
       "      <td>train_129225211</td>\n",
       "      <td>0000a68812bc7e98c42888dfb1c07da0.jpg</td>\n",
       "      <td>94974f937d4c2433</td>\n",
       "      <td>Paper Bag Victoria Secret</td>\n",
       "      <td>249114794</td>\n",
       "    </tr>\n",
       "    <tr>\n",
       "      <th>1</th>\n",
       "      <td>train_3386243561</td>\n",
       "      <td>00039780dfc94d01db8676fe789ecd05.jpg</td>\n",
       "      <td>af3f9460c2838f0f</td>\n",
       "      <td>Double Tape 3M VHB 12 mm x 4,5 m ORIGINAL / DO...</td>\n",
       "      <td>2937985045</td>\n",
       "    </tr>\n",
       "    <tr>\n",
       "      <th>2</th>\n",
       "      <td>train_2288590299</td>\n",
       "      <td>000a190fdd715a2a36faed16e2c65df7.jpg</td>\n",
       "      <td>b94cb00ed3e50f78</td>\n",
       "      <td>Maling TTS Canned Pork Luncheon Meat 397 gr</td>\n",
       "      <td>2395904891</td>\n",
       "    </tr>\n",
       "    <tr>\n",
       "      <th>3</th>\n",
       "      <td>train_2406599165</td>\n",
       "      <td>00117e4fc239b1b641ff08340b429633.jpg</td>\n",
       "      <td>8514fc58eafea283</td>\n",
       "      <td>Daster Batik Lengan pendek - Motif Acak / Camp...</td>\n",
       "      <td>4093212188</td>\n",
       "    </tr>\n",
       "    <tr>\n",
       "      <th>4</th>\n",
       "      <td>train_3369186413</td>\n",
       "      <td>00136d1cf4edede0203f32f05f660588.jpg</td>\n",
       "      <td>a6f319f924ad708c</td>\n",
       "      <td>Nescafe \\xc3\\x89clair Latte 220ml</td>\n",
       "      <td>3648931069</td>\n",
       "    </tr>\n",
       "  </tbody>\n",
       "</table>\n",
       "</div>"
      ],
      "text/plain": [
       "         posting_id                                 image       image_phash  \\\n",
       "0   train_129225211  0000a68812bc7e98c42888dfb1c07da0.jpg  94974f937d4c2433   \n",
       "1  train_3386243561  00039780dfc94d01db8676fe789ecd05.jpg  af3f9460c2838f0f   \n",
       "2  train_2288590299  000a190fdd715a2a36faed16e2c65df7.jpg  b94cb00ed3e50f78   \n",
       "3  train_2406599165  00117e4fc239b1b641ff08340b429633.jpg  8514fc58eafea283   \n",
       "4  train_3369186413  00136d1cf4edede0203f32f05f660588.jpg  a6f319f924ad708c   \n",
       "\n",
       "                                               title  label_group  \n",
       "0                          Paper Bag Victoria Secret    249114794  \n",
       "1  Double Tape 3M VHB 12 mm x 4,5 m ORIGINAL / DO...   2937985045  \n",
       "2        Maling TTS Canned Pork Luncheon Meat 397 gr   2395904891  \n",
       "3  Daster Batik Lengan pendek - Motif Acak / Camp...   4093212188  \n",
       "4                  Nescafe \\xc3\\x89clair Latte 220ml   3648931069  "
      ]
     },
     "execution_count": 4,
     "metadata": {},
     "output_type": "execute_result"
    }
   ],
   "source": [
    "train_df = pd.read_csv('../input/shopee-product-matching/train.csv')\n",
    "train_df.head()"
   ]
  },
  {
   "cell_type": "code",
   "execution_count": 5,
   "id": "a7c43e0e",
   "metadata": {
    "execution": {
     "iopub.execute_input": "2022-03-14T03:48:52.907887Z",
     "iopub.status.busy": "2022-03-14T03:48:52.907341Z",
     "iopub.status.idle": "2022-03-14T03:48:52.918617Z",
     "shell.execute_reply": "2022-03-14T03:48:52.919063Z"
    },
    "papermill": {
     "duration": 0.033359,
     "end_time": "2022-03-14T03:48:52.919196",
     "exception": false,
     "start_time": "2022-03-14T03:48:52.885837",
     "status": "completed"
    },
    "tags": []
   },
   "outputs": [
    {
     "data": {
      "text/html": [
       "<div>\n",
       "<style scoped>\n",
       "    .dataframe tbody tr th:only-of-type {\n",
       "        vertical-align: middle;\n",
       "    }\n",
       "\n",
       "    .dataframe tbody tr th {\n",
       "        vertical-align: top;\n",
       "    }\n",
       "\n",
       "    .dataframe thead th {\n",
       "        text-align: right;\n",
       "    }\n",
       "</style>\n",
       "<table border=\"1\" class=\"dataframe\">\n",
       "  <thead>\n",
       "    <tr style=\"text-align: right;\">\n",
       "      <th></th>\n",
       "      <th>posting_id</th>\n",
       "      <th>image</th>\n",
       "      <th>image_phash</th>\n",
       "      <th>title</th>\n",
       "    </tr>\n",
       "  </thead>\n",
       "  <tbody>\n",
       "    <tr>\n",
       "      <th>0</th>\n",
       "      <td>test_2255846744</td>\n",
       "      <td>0006c8e5462ae52167402bac1c2e916e.jpg</td>\n",
       "      <td>ecc292392dc7687a</td>\n",
       "      <td>Edufuntoys - CHARACTER PHONE ada lampu dan mus...</td>\n",
       "    </tr>\n",
       "    <tr>\n",
       "      <th>1</th>\n",
       "      <td>test_3588702337</td>\n",
       "      <td>0007585c4d0f932859339129f709bfdc.jpg</td>\n",
       "      <td>e9968f60d2699e2c</td>\n",
       "      <td>(Beli 1 Free Spatula) Masker Komedo | Blackhea...</td>\n",
       "    </tr>\n",
       "    <tr>\n",
       "      <th>2</th>\n",
       "      <td>test_4015706929</td>\n",
       "      <td>0008377d3662e83ef44e1881af38b879.jpg</td>\n",
       "      <td>ba81c17e3581cabe</td>\n",
       "      <td>READY Lemonilo Mie instant sehat kuah dan goreng</td>\n",
       "    </tr>\n",
       "  </tbody>\n",
       "</table>\n",
       "</div>"
      ],
      "text/plain": [
       "        posting_id                                 image       image_phash  \\\n",
       "0  test_2255846744  0006c8e5462ae52167402bac1c2e916e.jpg  ecc292392dc7687a   \n",
       "1  test_3588702337  0007585c4d0f932859339129f709bfdc.jpg  e9968f60d2699e2c   \n",
       "2  test_4015706929  0008377d3662e83ef44e1881af38b879.jpg  ba81c17e3581cabe   \n",
       "\n",
       "                                               title  \n",
       "0  Edufuntoys - CHARACTER PHONE ada lampu dan mus...  \n",
       "1  (Beli 1 Free Spatula) Masker Komedo | Blackhea...  \n",
       "2   READY Lemonilo Mie instant sehat kuah dan goreng  "
      ]
     },
     "execution_count": 5,
     "metadata": {},
     "output_type": "execute_result"
    }
   ],
   "source": [
    "test_df = pd.read_csv('../input/shopee-product-matching/test.csv')\n",
    "test_df.head()"
   ]
  },
  {
   "cell_type": "markdown",
   "id": "1c019f38",
   "metadata": {
    "papermill": {
     "duration": 0.018397,
     "end_time": "2022-03-14T03:48:52.956308",
     "exception": false,
     "start_time": "2022-03-14T03:48:52.937911",
     "status": "completed"
    },
    "tags": []
   },
   "source": [
    "# Load Cross Validation Folds"
   ]
  },
  {
   "cell_type": "code",
   "execution_count": 6,
   "id": "9e0ed720",
   "metadata": {
    "execution": {
     "iopub.execute_input": "2022-03-14T03:48:52.997014Z",
     "iopub.status.busy": "2022-03-14T03:48:52.995625Z",
     "iopub.status.idle": "2022-03-14T03:48:53.150279Z",
     "shell.execute_reply": "2022-03-14T03:48:53.150690Z"
    },
    "papermill": {
     "duration": 0.176041,
     "end_time": "2022-03-14T03:48:53.150849",
     "exception": false,
     "start_time": "2022-03-14T03:48:52.974808",
     "status": "completed"
    },
    "tags": []
   },
   "outputs": [
    {
     "data": {
      "text/html": [
       "<div>\n",
       "<style scoped>\n",
       "    .dataframe tbody tr th:only-of-type {\n",
       "        vertical-align: middle;\n",
       "    }\n",
       "\n",
       "    .dataframe tbody tr th {\n",
       "        vertical-align: top;\n",
       "    }\n",
       "\n",
       "    .dataframe thead th {\n",
       "        text-align: right;\n",
       "    }\n",
       "</style>\n",
       "<table border=\"1\" class=\"dataframe\">\n",
       "  <thead>\n",
       "    <tr style=\"text-align: right;\">\n",
       "      <th></th>\n",
       "      <th>posting_id</th>\n",
       "      <th>image</th>\n",
       "      <th>image_phash</th>\n",
       "      <th>title</th>\n",
       "      <th>label_group</th>\n",
       "      <th>fold</th>\n",
       "    </tr>\n",
       "  </thead>\n",
       "  <tbody>\n",
       "    <tr>\n",
       "      <th>0</th>\n",
       "      <td>train_129225211</td>\n",
       "      <td>0000a68812bc7e98c42888dfb1c07da0.jpg</td>\n",
       "      <td>94974f937d4c2433</td>\n",
       "      <td>Paper Bag Victoria Secret</td>\n",
       "      <td>249114794</td>\n",
       "      <td>0</td>\n",
       "    </tr>\n",
       "    <tr>\n",
       "      <th>1</th>\n",
       "      <td>train_3386243561</td>\n",
       "      <td>00039780dfc94d01db8676fe789ecd05.jpg</td>\n",
       "      <td>af3f9460c2838f0f</td>\n",
       "      <td>Double Tape 3M VHB 12 mm x 4,5 m ORIGINAL / DO...</td>\n",
       "      <td>2937985045</td>\n",
       "      <td>2</td>\n",
       "    </tr>\n",
       "    <tr>\n",
       "      <th>2</th>\n",
       "      <td>train_2288590299</td>\n",
       "      <td>000a190fdd715a2a36faed16e2c65df7.jpg</td>\n",
       "      <td>b94cb00ed3e50f78</td>\n",
       "      <td>Maling TTS Canned Pork Luncheon Meat 397 gr</td>\n",
       "      <td>2395904891</td>\n",
       "      <td>0</td>\n",
       "    </tr>\n",
       "    <tr>\n",
       "      <th>3</th>\n",
       "      <td>train_2406599165</td>\n",
       "      <td>00117e4fc239b1b641ff08340b429633.jpg</td>\n",
       "      <td>8514fc58eafea283</td>\n",
       "      <td>Daster Batik Lengan pendek - Motif Acak / Camp...</td>\n",
       "      <td>4093212188</td>\n",
       "      <td>1</td>\n",
       "    </tr>\n",
       "    <tr>\n",
       "      <th>4</th>\n",
       "      <td>train_3369186413</td>\n",
       "      <td>00136d1cf4edede0203f32f05f660588.jpg</td>\n",
       "      <td>a6f319f924ad708c</td>\n",
       "      <td>Nescafe \\xc3\\x89clair Latte 220ml</td>\n",
       "      <td>3648931069</td>\n",
       "      <td>3</td>\n",
       "    </tr>\n",
       "    <tr>\n",
       "      <th>5</th>\n",
       "      <td>train_2464356923</td>\n",
       "      <td>0013e7355ffc5ff8fb1ccad3e42d92fe.jpg</td>\n",
       "      <td>bbd097a7870f4a50</td>\n",
       "      <td>CELANA WANITA  (BB 45-84 KG)Harem wanita (bisa...</td>\n",
       "      <td>2660605217</td>\n",
       "      <td>0</td>\n",
       "    </tr>\n",
       "    <tr>\n",
       "      <th>6</th>\n",
       "      <td>train_1802986387</td>\n",
       "      <td>00144a49c56599d45354a1c28104c039.jpg</td>\n",
       "      <td>f815c9bb833ab4c8</td>\n",
       "      <td>Jubah anak size 1-12 thn</td>\n",
       "      <td>1835033137</td>\n",
       "      <td>0</td>\n",
       "    </tr>\n",
       "    <tr>\n",
       "      <th>7</th>\n",
       "      <td>train_1806152124</td>\n",
       "      <td>0014f61389cbaa687a58e38a97b6383d.jpg</td>\n",
       "      <td>eea7e1c0c04da33d</td>\n",
       "      <td>KULOT PLISKET SALUR /CANDY PLISKET /WISH KULOT...</td>\n",
       "      <td>1565741687</td>\n",
       "      <td>0</td>\n",
       "    </tr>\n",
       "    <tr>\n",
       "      <th>8</th>\n",
       "      <td>train_86570404</td>\n",
       "      <td>0019a3c6755a194cb2e2c12bfc63972e.jpg</td>\n",
       "      <td>ea9af4f483249972</td>\n",
       "      <td>[LOGU] Tempelan kulkas magnet angka, tempelan ...</td>\n",
       "      <td>2359912463</td>\n",
       "      <td>2</td>\n",
       "    </tr>\n",
       "    <tr>\n",
       "      <th>9</th>\n",
       "      <td>train_831680791</td>\n",
       "      <td>001be52b2beec40ddc1d2d7fc7a68f08.jpg</td>\n",
       "      <td>e1ce953d1a70618f</td>\n",
       "      <td>BIG SALE SEPATU PANTOFEL KULIT KEREN KERJA KAN...</td>\n",
       "      <td>2630990665</td>\n",
       "      <td>0</td>\n",
       "    </tr>\n",
       "  </tbody>\n",
       "</table>\n",
       "</div>"
      ],
      "text/plain": [
       "         posting_id                                 image       image_phash  \\\n",
       "0   train_129225211  0000a68812bc7e98c42888dfb1c07da0.jpg  94974f937d4c2433   \n",
       "1  train_3386243561  00039780dfc94d01db8676fe789ecd05.jpg  af3f9460c2838f0f   \n",
       "2  train_2288590299  000a190fdd715a2a36faed16e2c65df7.jpg  b94cb00ed3e50f78   \n",
       "3  train_2406599165  00117e4fc239b1b641ff08340b429633.jpg  8514fc58eafea283   \n",
       "4  train_3369186413  00136d1cf4edede0203f32f05f660588.jpg  a6f319f924ad708c   \n",
       "5  train_2464356923  0013e7355ffc5ff8fb1ccad3e42d92fe.jpg  bbd097a7870f4a50   \n",
       "6  train_1802986387  00144a49c56599d45354a1c28104c039.jpg  f815c9bb833ab4c8   \n",
       "7  train_1806152124  0014f61389cbaa687a58e38a97b6383d.jpg  eea7e1c0c04da33d   \n",
       "8    train_86570404  0019a3c6755a194cb2e2c12bfc63972e.jpg  ea9af4f483249972   \n",
       "9   train_831680791  001be52b2beec40ddc1d2d7fc7a68f08.jpg  e1ce953d1a70618f   \n",
       "\n",
       "                                               title  label_group  fold  \n",
       "0                          Paper Bag Victoria Secret    249114794     0  \n",
       "1  Double Tape 3M VHB 12 mm x 4,5 m ORIGINAL / DO...   2937985045     2  \n",
       "2        Maling TTS Canned Pork Luncheon Meat 397 gr   2395904891     0  \n",
       "3  Daster Batik Lengan pendek - Motif Acak / Camp...   4093212188     1  \n",
       "4                  Nescafe \\xc3\\x89clair Latte 220ml   3648931069     3  \n",
       "5  CELANA WANITA  (BB 45-84 KG)Harem wanita (bisa...   2660605217     0  \n",
       "6                           Jubah anak size 1-12 thn   1835033137     0  \n",
       "7  KULOT PLISKET SALUR /CANDY PLISKET /WISH KULOT...   1565741687     0  \n",
       "8  [LOGU] Tempelan kulkas magnet angka, tempelan ...   2359912463     2  \n",
       "9  BIG SALE SEPATU PANTOFEL KULIT KEREN KERJA KAN...   2630990665     0  "
      ]
     },
     "execution_count": 6,
     "metadata": {},
     "output_type": "execute_result"
    }
   ],
   "source": [
    "# Somebody uploaded this folds in notebook, I am not able to recall his or her name, this saved time for me\n",
    "data = pd.read_csv('../input/crossvalidationfolds/folds.csv')\n",
    "data.head(10)"
   ]
  },
  {
   "cell_type": "code",
   "execution_count": 7,
   "id": "f8e0d750",
   "metadata": {
    "execution": {
     "iopub.execute_input": "2022-03-14T03:48:53.197720Z",
     "iopub.status.busy": "2022-03-14T03:48:53.196969Z",
     "iopub.status.idle": "2022-03-14T03:48:53.203555Z",
     "shell.execute_reply": "2022-03-14T03:48:53.202915Z"
    },
    "papermill": {
     "duration": 0.032831,
     "end_time": "2022-03-14T03:48:53.203702",
     "exception": false,
     "start_time": "2022-03-14T03:48:53.170871",
     "status": "completed"
    },
    "tags": []
   },
   "outputs": [
    {
     "name": "stdout",
     "output_type": "stream",
     "text": [
      "11014\n"
     ]
    }
   ],
   "source": [
    "# number of unique classes in dataset\n",
    "print(len(np.unique(data['label_group'])))"
   ]
  },
  {
   "cell_type": "markdown",
   "id": "ef98fc01",
   "metadata": {
    "papermill": {
     "duration": 0.01949,
     "end_time": "2022-03-14T03:48:53.243895",
     "exception": false,
     "start_time": "2022-03-14T03:48:53.224405",
     "status": "completed"
    },
    "tags": []
   },
   "source": [
    "# Configuration Options\n"
   ]
  },
  {
   "cell_type": "code",
   "execution_count": 8,
   "id": "9824048c",
   "metadata": {
    "execution": {
     "iopub.execute_input": "2022-03-14T03:48:53.328489Z",
     "iopub.status.busy": "2022-03-14T03:48:53.327634Z",
     "iopub.status.idle": "2022-03-14T03:48:53.330240Z",
     "shell.execute_reply": "2022-03-14T03:48:53.329773Z",
     "shell.execute_reply.started": "2022-03-14T03:07:08.281534Z"
    },
    "papermill": {
     "duration": 0.066704,
     "end_time": "2022-03-14T03:48:53.330355",
     "exception": false,
     "start_time": "2022-03-14T03:48:53.263651",
     "status": "completed"
    },
    "tags": []
   },
   "outputs": [],
   "source": [
    "TRAIN_DIR = '../input/shopee-product-matching/train_images'\n",
    "TEST_DIR = '../input/shopee-product-matching/test_images'\n",
    "TRAIN_CSV = '../input/crossvalidationfolds/folds.csv'\n",
    "MODEL_PATH = './'\n",
    "\n",
    "\n",
    "class CFG:\n",
    "    seed = 123 \n",
    "    img_size = 512\n",
    "    classes = 11014\n",
    "    fc_dim = 512\n",
    "    epochs = 15\n",
    "    batch_size = 32\n",
    "    num_workers = 3\n",
    "    model_name = 'tf_efficientnet_b4'\n",
    "    device = 'cuda' if torch.cuda.is_available() else 'cpu'\n",
    "    scheduler_params = {\n",
    "        \"lr_start\": 1e-5,\n",
    "        \"lr_max\": 1e-5 * batch_size,\n",
    "        \"lr_min\": 1e-6,\n",
    "        \"lr_ramp_ep\": 5,\n",
    "        \"lr_sus_ep\": 0,\n",
    "        \"lr_decay\": 0.8,\n",
    "    }\n",
    "    isTraining=False\n",
    "    "
   ]
  },
  {
   "cell_type": "markdown",
   "id": "c730e7fb",
   "metadata": {
    "papermill": {
     "duration": 0.019568,
     "end_time": "2022-03-14T03:48:53.370293",
     "exception": false,
     "start_time": "2022-03-14T03:48:53.350725",
     "status": "completed"
    },
    "tags": []
   },
   "source": [
    "# Create Custom DataSet"
   ]
  },
  {
   "cell_type": "code",
   "execution_count": 9,
   "id": "c844266b",
   "metadata": {
    "execution": {
     "iopub.execute_input": "2022-03-14T03:48:53.418978Z",
     "iopub.status.busy": "2022-03-14T03:48:53.417446Z",
     "iopub.status.idle": "2022-03-14T03:48:53.419591Z",
     "shell.execute_reply": "2022-03-14T03:48:53.420030Z",
     "shell.execute_reply.started": "2022-03-13T21:53:59.615028Z"
    },
    "papermill": {
     "duration": 0.029836,
     "end_time": "2022-03-14T03:48:53.420158",
     "exception": false,
     "start_time": "2022-03-14T03:48:53.390322",
     "status": "completed"
    },
    "tags": []
   },
   "outputs": [],
   "source": [
    "class ShopeeDataset(Dataset):\n",
    "    \n",
    "    def __init__(self, df,root_dir, isTraining=False, transform=None):\n",
    "        self.df = df\n",
    "        self.transform = transform\n",
    "        self.root_dir = root_dir\n",
    "    \n",
    "    def __len__(self):\n",
    "        return len(self.df)\n",
    "    \n",
    "    def __getitem__(self, idx):\n",
    "        # get row at index idx\n",
    "        row = self.df.iloc[idx]\n",
    "        label = row.label_group\n",
    "        image_path = os.path.join(self.root_dir, row.image)\n",
    "        \n",
    "        # read image convert to RGB and apply augmentation\n",
    "        image = cv2.imread(image_path)\n",
    "        image = cv2.cvtColor(image, cv2.COLOR_BGR2RGB)\n",
    "        if self.transform:\n",
    "            aug = self.transform(image=image)\n",
    "            image = aug['image']\n",
    "        \n",
    "        return image, torch.tensor(label).long()\n",
    "            \n",
    "\n",
    "\n"
   ]
  },
  {
   "cell_type": "markdown",
   "id": "08f96c03",
   "metadata": {
    "papermill": {
     "duration": 0.019475,
     "end_time": "2022-03-14T03:48:53.459333",
     "exception": false,
     "start_time": "2022-03-14T03:48:53.439858",
     "status": "completed"
    },
    "tags": []
   },
   "source": [
    "# Create data Augmentation For training and validation Data"
   ]
  },
  {
   "cell_type": "code",
   "execution_count": 10,
   "id": "5dd36310",
   "metadata": {
    "execution": {
     "iopub.execute_input": "2022-03-14T03:48:53.507805Z",
     "iopub.status.busy": "2022-03-14T03:48:53.506265Z",
     "iopub.status.idle": "2022-03-14T03:48:53.508401Z",
     "shell.execute_reply": "2022-03-14T03:48:53.508787Z",
     "shell.execute_reply.started": "2022-03-13T21:54:03.559627Z"
    },
    "papermill": {
     "duration": 0.02981,
     "end_time": "2022-03-14T03:48:53.508943",
     "exception": false,
     "start_time": "2022-03-14T03:48:53.479133",
     "status": "completed"
    },
    "tags": []
   },
   "outputs": [],
   "source": [
    "\n",
    "def getAugmentation(IMG_SIZE, isTraining=False):\n",
    "    \n",
    "    if isTraining:\n",
    "        return albumentations.Compose([\n",
    "            albumentations.Resize(IMG_SIZE, IMG_SIZE, always_apply=True),\n",
    "            albumentations.HorizontalFlip(p=0.5),\n",
    "            albumentations.VerticalFlip(p=0.5),\n",
    "            albumentations.Rotate(limit=120, p=0.75),\n",
    "            albumentations.RandomBrightness(limit=(0.09, 0.6), p=0.5),\n",
    "            albumentations.Normalize(\n",
    "                mean = [0.485, 0.456, 0.406],\n",
    "                std = [0.229, 0.224, 0.225]\n",
    "            ),\n",
    "            ToTensorV2(p=1.0)\n",
    "        ])\n",
    "    else:\n",
    "        return albumentations.Compose([\n",
    "            albumentations.Resize(IMG_SIZE, IMG_SIZE, always_apply=True),\n",
    "            albumentations.Normalize(\n",
    "                mean = [0.485, 0.456, 0.406],\n",
    "                std = [0.229, 0.224, 0.225]\n",
    "            ),\n",
    "            ToTensorV2(p=1.0)\n",
    "        ])"
   ]
  },
  {
   "cell_type": "markdown",
   "id": "4ff4d69b",
   "metadata": {
    "papermill": {
     "duration": 0.01987,
     "end_time": "2022-03-14T03:48:53.548540",
     "exception": false,
     "start_time": "2022-03-14T03:48:53.528670",
     "status": "completed"
    },
    "tags": []
   },
   "source": [
    "# Build Model"
   ]
  },
  {
   "cell_type": "code",
   "execution_count": 11,
   "id": "37fdb250",
   "metadata": {
    "execution": {
     "iopub.execute_input": "2022-03-14T03:48:53.599837Z",
     "iopub.status.busy": "2022-03-14T03:48:53.598993Z",
     "iopub.status.idle": "2022-03-14T03:48:53.601038Z",
     "shell.execute_reply": "2022-03-14T03:48:53.601465Z",
     "shell.execute_reply.started": "2022-03-13T21:54:06.053016Z"
    },
    "papermill": {
     "duration": 0.033174,
     "end_time": "2022-03-14T03:48:53.601609",
     "exception": false,
     "start_time": "2022-03-14T03:48:53.568435",
     "status": "completed"
    },
    "tags": []
   },
   "outputs": [],
   "source": [
    "class ShopeeLabelGroupClassfier(nn.Module):\n",
    "    \n",
    "    def __init__(self,\n",
    "                     model_name='tf_efficientnet_b0',\n",
    "                     loss_fn='softmax',\n",
    "                     classes = CFG.classes,\n",
    "                     fc_dim = CFG.fc_dim,\n",
    "                     pretrained=True,\n",
    "                     use_fc=True,\n",
    "                     isTraining=False\n",
    "                ):\n",
    "        \n",
    "        \n",
    "        super(ShopeeLabelGroupClassfier,self).__init__()\n",
    "        \n",
    "        # create bottlenack backbone network from pretrained model \n",
    "        self.backbone = timm.create_model(model_name, pretrained=pretrained)\n",
    "        in_features = self.backbone.classifier.in_features\n",
    "        # we will put FC layers over backbone to classfy images based on label groups\n",
    "        self.backbone.classifier = nn.Identity()\n",
    "        self.backbone.global_pool = nn.Identity()\n",
    "        self.pooling = nn.AdaptiveAvgPool2d(1)\n",
    "        self.use_fc = use_fc\n",
    "        self.loss_fn =loss_fn\n",
    "        \n",
    "        # build top fc layers\n",
    "        if self.use_fc:\n",
    "            self.dropout = nn.Dropout(0.2)\n",
    "            self.fc = nn.Linear(in_features,fc_dim )\n",
    "            self.bn = nn.BatchNorm1d(fc_dim)\n",
    "            in_features = fc_dim\n",
    "        self.loss_fn = loss_fn\n",
    "        \n",
    "        if self.loss_fn=='softmax':\n",
    "            self.final = nn.Linear(in_features, CFG.classes)\n",
    "    \n",
    "    def forward(self, image, label):\n",
    "        features = self.get_features(image)\n",
    "        \n",
    "        if self.loss_fn=='softmax':\n",
    "            logits = self.final(features)\n",
    "            \n",
    "        return logits\n",
    "    \n",
    "    def get_features(self,inp):\n",
    "        batch_dim = inp.shape[0]\n",
    "        inp = self.backbone(inp)\n",
    "        inp = self.pooling(inp).view(batch_dim, -1)\n",
    "        if self.use_fc:\n",
    "            inp = self.dropout(inp)\n",
    "            inp = self.fc(inp)\n",
    "            inp = self.bn(inp)\n",
    "        \n",
    "        return inp\n",
    "    \n",
    "    \n",
    "# shoppe_label_classfier = ShopeeLabelGroupClassfier()\n"
   ]
  },
  {
   "cell_type": "markdown",
   "id": "112086dc",
   "metadata": {
    "papermill": {
     "duration": 0.01968,
     "end_time": "2022-03-14T03:48:53.641591",
     "exception": false,
     "start_time": "2022-03-14T03:48:53.621911",
     "status": "completed"
    },
    "tags": []
   },
   "source": [
    "# Build training  and validation Loop"
   ]
  },
  {
   "cell_type": "code",
   "execution_count": 12,
   "id": "46a4e4a4",
   "metadata": {
    "execution": {
     "iopub.execute_input": "2022-03-14T03:48:53.694482Z",
     "iopub.status.busy": "2022-03-14T03:48:53.692890Z",
     "iopub.status.idle": "2022-03-14T03:48:53.695070Z",
     "shell.execute_reply": "2022-03-14T03:48:53.695480Z",
     "shell.execute_reply.started": "2022-03-13T21:54:09.861516Z"
    },
    "papermill": {
     "duration": 0.034196,
     "end_time": "2022-03-14T03:48:53.695610",
     "exception": false,
     "start_time": "2022-03-14T03:48:53.661414",
     "status": "completed"
    },
    "tags": []
   },
   "outputs": [],
   "source": [
    "def training_one_epoch(epoch_num,model, dataloader,optimizer, scheduler, device, loss_criteria):\n",
    "    avgloss = 0.0\n",
    "    # put model in traning model\n",
    "    model.train()\n",
    "    tq = tqdm(enumerate(dataloader), total=len(dataloader))\n",
    "    \n",
    "    for idx, data in tq:\n",
    "        batch_size = data[0].shape[0]\n",
    "        images = data[0]\n",
    "        targets = data[1]\n",
    "        # zero out gradient\n",
    "        optimizer.zero_grad()\n",
    "        # put input and target to device\n",
    "        images = images.to(device)\n",
    "        targets = targets.to(device)\n",
    "        # pass input to the model\n",
    "        output = model(images,targets)\n",
    "        # get loss\n",
    "        loss = loss_criteria(output,targets)\n",
    "        # backpropogation \n",
    "        loss.backward()\n",
    "        # update learning rate step\n",
    "        optimizer.step() \n",
    "        # avg loss\n",
    "        avgloss += loss.item() \n",
    "\n",
    "        tq.set_postfix({'loss' : '%.6f' %float(avgloss/(idx+1)), 'LR' : optimizer.param_groups[0]['lr']})\n",
    "        \n",
    "    # lr scheduler step after each epoch\n",
    "    scheduler.step()\n",
    "    return avgloss / len(dataloader)\n",
    "    \n",
    "    \n",
    "    \n",
    "    \n",
    "    \n",
    "\n",
    "\n",
    "def validation_one_epoch(model, dataloader, epoch, device, loss_criteria):\n",
    "    avgloss = 0.0\n",
    "    # put model in traning model\n",
    "    model.eval()\n",
    "    tq = tqdm(enumerate(dataloader), desc = \"Training Epoch { }\" + str(epoch+1))\n",
    "    \n",
    "    #     tq = tqdm(enumerate(dataloader), total=len(dataloader))\n",
    "    with torch.no_grad():\n",
    "        for idx, data in tq:\n",
    "            batch_size = data[0].shape[0]\n",
    "            images = data[0]\n",
    "            targets = data[1]\n",
    "\n",
    "            images = images.to(device)\n",
    "            targets = targets.to(device)\n",
    "\n",
    "            output = model(images,targets)\n",
    "            loss = loss_criteria(output,targets)\n",
    "\n",
    "            avgloss += loss.item() \n",
    "\n",
    "            tq.set_postfix({'validation loss' : '%.6f' %float(avgloss/(idx+1))})\n",
    "\n",
    "    return avgloss / len(dataloader)\n",
    "        \n",
    "        "
   ]
  },
  {
   "cell_type": "code",
   "execution_count": 13,
   "id": "aa742371",
   "metadata": {
    "execution": {
     "iopub.execute_input": "2022-03-14T03:48:53.748907Z",
     "iopub.status.busy": "2022-03-14T03:48:53.748281Z",
     "iopub.status.idle": "2022-03-14T03:48:53.750589Z",
     "shell.execute_reply": "2022-03-14T03:48:53.750989Z",
     "shell.execute_reply.started": "2022-03-13T22:14:37.425847Z"
    },
    "papermill": {
     "duration": 0.035426,
     "end_time": "2022-03-14T03:48:53.751120",
     "exception": false,
     "start_time": "2022-03-14T03:48:53.715694",
     "status": "completed"
    },
    "tags": []
   },
   "outputs": [],
   "source": [
    "def run_training():\n",
    "    data = pd.read_csv('../input/crossvalidationfolds/folds.csv')\n",
    "    \n",
    "    # label encoding\n",
    "    labelencoder= LabelEncoder()\n",
    "    data['label_group'] = labelencoder.fit_transform(data['label_group'])\n",
    "    #data['weights'] = data['label_group'].map(1/data['label_group'].value_counts())\n",
    "    # create training_data and validation data initially not using k fold\n",
    "    train_data = data[data['fold']!=0]\n",
    "    validation_data = data[data['fold']==0]\n",
    "    \n",
    "    # training augmentation\n",
    "    train_aug = getAugmentation(CFG.img_size,isTraining=True )\n",
    "    validation_aug = getAugmentation(CFG.img_size, isTraining=False)\n",
    "    # create custom train and validation dataset\n",
    "    \n",
    "    trainset = ShopeeDataset(train_data, TRAIN_DIR, isTraining=True, transform = train_aug)\n",
    "    validset = ShopeeDataset(validation_data, TRAIN_DIR, isTraining=False, transform = validation_aug)\n",
    "    \n",
    "    # create custom training and validation data loader num_workers=CFG.num_workers,\n",
    "    train_dataloader = DataLoader(trainset, batch_size=CFG.batch_size,\n",
    "                        shuffle=True,  drop_last=True,pin_memory=True)\n",
    "    \n",
    "    validation_dataloader = DataLoader(validset, batch_size=CFG.batch_size,\n",
    "                        shuffle=False, drop_last=True,pin_memory=True)\n",
    "    \n",
    "    \n",
    "    # define loss function\n",
    "    loss_criteria = nn.CrossEntropyLoss()\n",
    "    loss_criteria.to(CFG.device)\n",
    "    # define model\n",
    "    \n",
    "    model = ShopeeLabelGroupClassfier()\n",
    "    model.to(CFG.device)\n",
    "    \n",
    "    # define optimzer\n",
    "    optimizer = torch.optim.Adam(model.parameters(),lr= CFG.scheduler_params['lr_start'])\n",
    "    \n",
    "    # learning rate scheudler\n",
    "    scheduler = lr_scheduler.CosineAnnealingWarmRestarts(optimizer, T_0=5, T_mult=1, eta_min=1e-6, last_epoch=-1)\n",
    "    \n",
    "    history = {'train_loss':[],'validation_loss':[]}\n",
    "    for epoch in range(CFG.epochs):\n",
    "        \n",
    "        # get current epoch training loss\n",
    "        avg_train_loss = training_one_epoch(epoch_num = epoch,\n",
    "                                           model = model,\n",
    "                                           dataloader = train_dataloader,\n",
    "                                           optimizer = optimizer,\n",
    "                                           scheduler = scheduler,\n",
    "                                           device = CFG.device, \n",
    "                                           loss_criteria = loss_criteria)\n",
    "        \n",
    "        # get current epoch validation loss\n",
    "        avg_validation_loss = validation_one_epoch(model = model,\n",
    "                                           dataloader = validation_dataloader,\n",
    "                                           epoch = epoch,\n",
    "                                           device = CFG.device,\n",
    "                                           loss_criteria = loss_criteria)\n",
    "        \n",
    "        \n",
    "        history['train_loss'].append(avg_train_loss)\n",
    "        history['validation_loss'].append(avg_validation_loss)\n",
    "        \n",
    "        # save model\n",
    "        torch.save(model.state_dict(), MODEL_PATH + 'softmax_512x512_{}.pt'.format(CFG.model_name))\n",
    "        torch.save({\n",
    "            'epoch': epoch,\n",
    "            'model_state_dict': model.state_dict(),\n",
    "            'optimizer': optimizer.state_dict(),\n",
    "#             'scheduler': lr_scheduler.state_dict()\n",
    "            },\n",
    "            MODEL_PATH + '1softmax_512x512_{}_checkpoints.pt'.format(CFG.model_name)\n",
    "        )\n",
    "        \n",
    "        return model, history"
   ]
  },
  {
   "cell_type": "code",
   "execution_count": 14,
   "id": "6e47b5d2",
   "metadata": {
    "execution": {
     "iopub.execute_input": "2022-03-14T03:48:53.794338Z",
     "iopub.status.busy": "2022-03-14T03:48:53.793778Z",
     "iopub.status.idle": "2022-03-14T03:48:53.796715Z",
     "shell.execute_reply": "2022-03-14T03:48:53.796302Z",
     "shell.execute_reply.started": "2022-03-14T03:48:09.900995Z"
    },
    "papermill": {
     "duration": 0.026045,
     "end_time": "2022-03-14T03:48:53.796836",
     "exception": false,
     "start_time": "2022-03-14T03:48:53.770791",
     "status": "completed"
    },
    "tags": []
   },
   "outputs": [],
   "source": [
    "if CFG.isTraining:\n",
    "    run_training()"
   ]
  },
  {
   "cell_type": "code",
   "execution_count": 15,
   "id": "b4a66ea6",
   "metadata": {
    "execution": {
     "iopub.execute_input": "2022-03-14T03:48:53.842105Z",
     "iopub.status.busy": "2022-03-14T03:48:53.840566Z",
     "iopub.status.idle": "2022-03-14T03:48:53.842697Z",
     "shell.execute_reply": "2022-03-14T03:48:53.843133Z",
     "shell.execute_reply.started": "2022-03-14T03:46:20.281187Z"
    },
    "papermill": {
     "duration": 0.026719,
     "end_time": "2022-03-14T03:48:53.843254",
     "exception": false,
     "start_time": "2022-03-14T03:48:53.816535",
     "status": "completed"
    },
    "tags": []
   },
   "outputs": [],
   "source": [
    "if CFG.isTraining:\n",
    "    epoch_lst = [ i+1 for i in range(15)]\n",
    "    plt.plot(epoch_lst,history['train_loss'])\n",
    "\n",
    "    plt.xlabel(\"Epoch number\")\n",
    "    plt.ylabel('Training Loss')\n",
    "    plt.title('Training Loss SoftMax Loss Function')\n",
    "    plt.show()"
   ]
  },
  {
   "cell_type": "code",
   "execution_count": 16,
   "id": "b20855ea",
   "metadata": {
    "execution": {
     "iopub.execute_input": "2022-03-14T03:48:53.891700Z",
     "iopub.status.busy": "2022-03-14T03:48:53.890713Z",
     "iopub.status.idle": "2022-03-14T03:48:53.894321Z",
     "shell.execute_reply": "2022-03-14T03:48:53.893865Z",
     "shell.execute_reply.started": "2022-03-14T03:46:42.190528Z"
    },
    "papermill": {
     "duration": 0.029842,
     "end_time": "2022-03-14T03:48:53.894454",
     "exception": false,
     "start_time": "2022-03-14T03:48:53.864612",
     "status": "completed"
    },
    "tags": []
   },
   "outputs": [],
   "source": [
    "if CFG.isTraining:\n",
    "    plt.plot(epoch_lst,history['validation_loss'])\n",
    "    plt.xlabel(\"Epoch number\")\n",
    "    plt.ylabel('Validation Loss')\n",
    "    plt.title('Validation Loss SoftMax Loss Function')\n",
    "    plt.show()"
   ]
  }
 ],
 "metadata": {
  "kernelspec": {
   "display_name": "Python 3",
   "language": "python",
   "name": "python3"
  },
  "language_info": {
   "codemirror_mode": {
    "name": "ipython",
    "version": 3
   },
   "file_extension": ".py",
   "mimetype": "text/x-python",
   "name": "python",
   "nbconvert_exporter": "python",
   "pygments_lexer": "ipython3",
   "version": "3.7.12"
  },
  "papermill": {
   "default_parameters": {},
   "duration": 16.064047,
   "end_time": "2022-03-14T03:48:55.127569",
   "environment_variables": {},
   "exception": null,
   "input_path": "__notebook__.ipynb",
   "output_path": "__notebook__.ipynb",
   "parameters": {},
   "start_time": "2022-03-14T03:48:39.063522",
   "version": "2.3.3"
  }
 },
 "nbformat": 4,
 "nbformat_minor": 5
}
