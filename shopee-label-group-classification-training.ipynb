{
 "cells": [
  {
   "cell_type": "markdown",
   "id": "705e1f45",
   "metadata": {
    "papermill": {
     "duration": 0.076634,
     "end_time": "2022-03-20T19:08:37.804094",
     "exception": false,
     "start_time": "2022-03-20T19:08:37.727460",
     "status": "completed"
    },
    "tags": []
   },
   "source": [
    "# Shopee-Product-Matching\n",
    "![Shopee](https://cdn.lynda.com/course/563030/563030-636270778700233910-16x9.jpg)\n"
   ]
  },
  {
   "cell_type": "markdown",
   "id": "9d427c9e",
   "metadata": {
    "papermill": {
     "duration": 0.049311,
     "end_time": "2022-03-20T19:08:37.909192",
     "exception": false,
     "start_time": "2022-03-20T19:08:37.859881",
     "status": "completed"
    },
    "tags": []
   },
   "source": [
    "1. If you want to learn more about this amazing competition hosted by [Shopee](https://www.kaggle.com/c/shopee-product-matching), Please visit following [Shopee EDA Image AutoEncoder](https://www.kaggle.com/code/chiragtagadiya/shopee-basic-autoencoder).\n",
    "2. This Notebook contains EDA and Image AutoEncoder solution."
   ]
  },
  {
   "cell_type": "code",
   "execution_count": 1,
   "id": "24cd3c05",
   "metadata": {
    "execution": {
     "iopub.execute_input": "2022-03-20T19:08:38.028176Z",
     "iopub.status.busy": "2022-03-20T19:08:38.026112Z",
     "iopub.status.idle": "2022-03-20T19:08:38.049846Z",
     "shell.execute_reply": "2022-03-20T19:08:38.051156Z",
     "shell.execute_reply.started": "2022-03-20T18:49:29.109796Z"
    },
    "papermill": {
     "duration": 0.093195,
     "end_time": "2022-03-20T19:08:38.051499",
     "exception": false,
     "start_time": "2022-03-20T19:08:37.958304",
     "status": "completed"
    },
    "tags": []
   },
   "outputs": [],
   "source": [
    "%config Completer.use_jedi = False"
   ]
  },
  {
   "cell_type": "markdown",
   "id": "f11f5882",
   "metadata": {
    "papermill": {
     "duration": 0.04927,
     "end_time": "2022-03-20T19:08:38.150758",
     "exception": false,
     "start_time": "2022-03-20T19:08:38.101488",
     "status": "completed"
    },
    "tags": []
   },
   "source": [
    "# Import Packages"
   ]
  },
  {
   "cell_type": "code",
   "execution_count": 2,
   "id": "4ec9704d",
   "metadata": {
    "_cell_guid": "b1076dfc-b9ad-4769-8c92-a6c4dae69d19",
    "_uuid": "8f2839f25d086af736a60e9eeb907d3b93b6e0e5",
    "execution": {
     "iopub.execute_input": "2022-03-20T19:08:38.256829Z",
     "iopub.status.busy": "2022-03-20T19:08:38.255771Z",
     "iopub.status.idle": "2022-03-20T19:08:42.057290Z",
     "shell.execute_reply": "2022-03-20T19:08:42.056315Z",
     "shell.execute_reply.started": "2022-03-20T18:49:29.127274Z"
    },
    "papermill": {
     "duration": 3.856737,
     "end_time": "2022-03-20T19:08:42.057439",
     "exception": false,
     "start_time": "2022-03-20T19:08:38.200702",
     "status": "completed"
    },
    "tags": []
   },
   "outputs": [],
   "source": [
    "import sys\n",
    "sys.path.append('../input/timmmaster')\n",
    "import timm"
   ]
  },
  {
   "cell_type": "code",
   "execution_count": 3,
   "id": "c7808745",
   "metadata": {
    "execution": {
     "iopub.execute_input": "2022-03-20T19:08:42.120747Z",
     "iopub.status.busy": "2022-03-20T19:08:42.119571Z",
     "iopub.status.idle": "2022-03-20T19:08:44.385510Z",
     "shell.execute_reply": "2022-03-20T19:08:44.386220Z",
     "shell.execute_reply.started": "2022-03-20T18:49:29.133216Z"
    },
    "papermill": {
     "duration": 2.298595,
     "end_time": "2022-03-20T19:08:44.386396",
     "exception": false,
     "start_time": "2022-03-20T19:08:42.087801",
     "status": "completed"
    },
    "tags": []
   },
   "outputs": [],
   "source": [
    "import math\n",
    "import os\n",
    "import numpy as np\n",
    "import cv2\n",
    "import pandas as pd\n",
    "from sklearn.preprocessing import LabelEncoder\n",
    "from sklearn.model_selection import StratifiedKFold\n",
    "import timm\n",
    "import torch\n",
    "from torch import nn \n",
    "from torch.utils.data import Dataset, DataLoader\n",
    "import torch.nn.functional as F \n",
    "import albumentations\n",
    "from albumentations.pytorch.transforms import ToTensorV2\n",
    "from torch.optim import lr_scheduler\n",
    "from tqdm import tqdm\n",
    "import matplotlib.pyplot as plt\n",
    "from sklearn import metrics\n",
    "from datetime import date\n",
    "from sklearn.metrics import f1_score, accuracy_score"
   ]
  },
  {
   "cell_type": "markdown",
   "id": "f02e971b",
   "metadata": {
    "papermill": {
     "duration": 0.027753,
     "end_time": "2022-03-20T19:08:44.443336",
     "exception": false,
     "start_time": "2022-03-20T19:08:44.415583",
     "status": "completed"
    },
    "tags": []
   },
   "source": [
    "# Configuration Options\n"
   ]
  },
  {
   "cell_type": "code",
   "execution_count": 4,
   "id": "2a5e2046",
   "metadata": {
    "execution": {
     "iopub.execute_input": "2022-03-20T19:08:44.554909Z",
     "iopub.status.busy": "2022-03-20T19:08:44.554218Z",
     "iopub.status.idle": "2022-03-20T19:08:44.558117Z",
     "shell.execute_reply": "2022-03-20T19:08:44.558623Z",
     "shell.execute_reply.started": "2022-03-20T18:49:29.142977Z"
    },
    "papermill": {
     "duration": 0.08704,
     "end_time": "2022-03-20T19:08:44.558821",
     "exception": false,
     "start_time": "2022-03-20T19:08:44.471781",
     "status": "completed"
    },
    "tags": []
   },
   "outputs": [],
   "source": [
    "TRAIN_DIR = '../input/shopee-product-matching/train_images'\n",
    "TEST_DIR = '../input/shopee-product-matching/test_images'\n",
    "TRAIN_CSV = '../input/crossvalidationfolds/folds.csv'\n",
    "MODEL_PATH = './'\n",
    "\n",
    "\n",
    "class CFG:\n",
    "    seed = 123 \n",
    "    img_size = 512\n",
    "    classes = 11014\n",
    "    fc_dim = 512\n",
    "    epochs = 15\n",
    "    batch_size = 32\n",
    "    num_workers = 3\n",
    "    model_name = 'tf_efficientnet_b4'\n",
    "    device = 'cuda' if torch.cuda.is_available() else 'cpu'\n",
    "    scheduler_params = {\n",
    "        \"lr_start\": 1e-3,\n",
    "        \"lr_max\": 1e-5 * batch_size,\n",
    "        \"lr_min\": 1e-6,\n",
    "        \"lr_ramp_ep\": 5,\n",
    "        \"lr_sus_ep\": 0,\n",
    "        \"lr_decay\": 0.8,\n",
    "    }\n",
    "    model_path='../input/21-mar-lr-large/2022-03-20_softmax_512x512_tf_efficientnet_b4.pt'\n",
    "    isTraining=False\n",
    "    "
   ]
  },
  {
   "cell_type": "markdown",
   "id": "01c4ff4f",
   "metadata": {
    "papermill": {
     "duration": 0.028237,
     "end_time": "2022-03-20T19:08:44.614995",
     "exception": false,
     "start_time": "2022-03-20T19:08:44.586758",
     "status": "completed"
    },
    "tags": []
   },
   "source": [
    "# Solution Approach\n",
    "\n",
    "* In this competition it is given that,if two or more images have **same label group** then they are **similar products.** \n",
    "* Basically we can use this information to transfer the business problem into **multi class classification** problem.\n",
    "* From Image EDA, I found out that we have **11400** different classes, and dataset is **not balanced dataset**\n",
    "* If you see below plot, we can clearly see that there are **hardly 1000 data points having more than 10 products per label.*\n",
    "* In this notebook I used **Weighted Sampler technique used in pytorch for handling imbalanced classification problem**\n"
   ]
  },
  {
   "cell_type": "code",
   "execution_count": 5,
   "id": "54f7fd32",
   "metadata": {
    "execution": {
     "iopub.execute_input": "2022-03-20T19:08:44.678260Z",
     "iopub.status.busy": "2022-03-20T19:08:44.677579Z",
     "iopub.status.idle": "2022-03-20T19:08:45.096048Z",
     "shell.execute_reply": "2022-03-20T19:08:45.096696Z",
     "shell.execute_reply.started": "2022-03-20T19:05:44.153081Z"
    },
    "papermill": {
     "duration": 0.453521,
     "end_time": "2022-03-20T19:08:45.096872",
     "exception": false,
     "start_time": "2022-03-20T19:08:44.643351",
     "status": "completed"
    },
    "tags": []
   },
   "outputs": [
    {
     "data": {
      "image/png": "[encoded data removed]",
      "text/plain": [
       "<Figure size 1080x360 with 1 Axes>"
      ]
     },
     "metadata": {
      "needs_background": "light"
     },
     "output_type": "display_data"
    }
   ],
   "source": [
    "train_df=pd.read_csv('../input/shopee-product-matching/train.csv')\n",
    "labelGroups = train_df.label_group.value_counts()\n",
    "# print(labelGroups)\n",
    "plt.figure(figsize=(15,5))\n",
    "plt.plot(np.arange(len(labelGroups)), labelGroups.values)\n",
    "plt.xlabel(\"Index for unique label_group_item\", size=12)\n",
    "plt.ylabel(\"Number of product data for label \", size=12)\n",
    "plt.title(\"label vs label frequency\", size=15)\n",
    "plt.show()"
   ]
  },
  {
   "cell_type": "markdown",
   "id": "c35a1690",
   "metadata": {
    "papermill": {
     "duration": 0.028384,
     "end_time": "2022-03-20T19:08:45.154640",
     "exception": false,
     "start_time": "2022-03-20T19:08:45.126256",
     "status": "completed"
    },
    "tags": []
   },
   "source": [
    "# Create Custom DataSet"
   ]
  },
  {
   "cell_type": "code",
   "execution_count": 6,
   "id": "e932ad8a",
   "metadata": {
    "execution": {
     "iopub.execute_input": "2022-03-20T19:08:45.220936Z",
     "iopub.status.busy": "2022-03-20T19:08:45.220201Z",
     "iopub.status.idle": "2022-03-20T19:08:45.224490Z",
     "shell.execute_reply": "2022-03-20T19:08:45.223970Z",
     "shell.execute_reply.started": "2022-03-20T18:49:29.152443Z"
    },
    "papermill": {
     "duration": 0.040549,
     "end_time": "2022-03-20T19:08:45.224614",
     "exception": false,
     "start_time": "2022-03-20T19:08:45.184065",
     "status": "completed"
    },
    "tags": []
   },
   "outputs": [],
   "source": [
    "class ShopeeDataset(Dataset):\n",
    "    \n",
    "    def __init__(self, df,root_dir, isTraining=False, transform=None):\n",
    "        self.df = df\n",
    "        self.transform = transform\n",
    "        self.root_dir = root_dir\n",
    "    \n",
    "    def __len__(self):\n",
    "        return len(self.df)\n",
    "    \n",
    "    def __getitem__(self, idx):\n",
    "        # get row at index idx\n",
    "#         print(\"idx\",idx)\n",
    "        \n",
    "        row = self.df.iloc[idx]\n",
    "#         print(row)\n",
    "        label = row.label_group\n",
    "        image_path = os.path.join(self.root_dir, row.image)\n",
    "        \n",
    "        # read image convert to RGB and apply augmentation\n",
    "        image = cv2.imread(image_path)\n",
    "        image = cv2.cvtColor(image, cv2.COLOR_BGR2RGB)\n",
    "        if self.transform:\n",
    "            aug = self.transform(image=image)\n",
    "            image = aug['image']\n",
    "        \n",
    "        return image, torch.tensor(label).long()\n",
    "            \n",
    "\n",
    "\n"
   ]
  },
  {
   "cell_type": "markdown",
   "id": "ab23aa00",
   "metadata": {
    "papermill": {
     "duration": 0.028383,
     "end_time": "2022-03-20T19:08:45.281735",
     "exception": false,
     "start_time": "2022-03-20T19:08:45.253352",
     "status": "completed"
    },
    "tags": []
   },
   "source": [
    "# Create Data Augmentation For training and validation Data"
   ]
  },
  {
   "cell_type": "code",
   "execution_count": 7,
   "id": "0dc9ff57",
   "metadata": {
    "execution": {
     "iopub.execute_input": "2022-03-20T19:08:45.350632Z",
     "iopub.status.busy": "2022-03-20T19:08:45.349629Z",
     "iopub.status.idle": "2022-03-20T19:08:45.352917Z",
     "shell.execute_reply": "2022-03-20T19:08:45.352347Z",
     "shell.execute_reply.started": "2022-03-20T18:49:29.163460Z"
    },
    "papermill": {
     "duration": 0.041548,
     "end_time": "2022-03-20T19:08:45.353053",
     "exception": false,
     "start_time": "2022-03-20T19:08:45.311505",
     "status": "completed"
    },
    "tags": []
   },
   "outputs": [],
   "source": [
    "\n",
    "def getAugmentation(IMG_SIZE, isTraining=False):\n",
    "    \n",
    "    if isTraining:\n",
    "        return albumentations.Compose([\n",
    "            albumentations.Resize(IMG_SIZE, IMG_SIZE, always_apply=True),\n",
    "            albumentations.HorizontalFlip(p=0.5),\n",
    "            albumentations.VerticalFlip(p=0.5),\n",
    "            albumentations.Rotate(limit=120, p=0.75),\n",
    "            albumentations.RandomBrightness(limit=(0.09, 0.6), p=0.5),\n",
    "            albumentations.Normalize(\n",
    "                mean = [0.485, 0.456, 0.406],\n",
    "                std = [0.229, 0.224, 0.225]\n",
    "            ),\n",
    "            ToTensorV2(p=1.0)\n",
    "        ])\n",
    "    else:\n",
    "        return albumentations.Compose([\n",
    "            albumentations.Resize(IMG_SIZE, IMG_SIZE, always_apply=True),\n",
    "            albumentations.Normalize(\n",
    "                mean = [0.485, 0.456, 0.406],\n",
    "                std = [0.229, 0.224, 0.225]\n",
    "            ),\n",
    "            ToTensorV2(p=1.0)\n",
    "        ])"
   ]
  },
  {
   "cell_type": "markdown",
   "id": "8a75c47b",
   "metadata": {
    "papermill": {
     "duration": 0.028663,
     "end_time": "2022-03-20T19:08:45.410756",
     "exception": false,
     "start_time": "2022-03-20T19:08:45.382093",
     "status": "completed"
    },
    "tags": []
   },
   "source": [
    "# Build Model"
   ]
  },
  {
   "cell_type": "code",
   "execution_count": 8,
   "id": "da9d7576",
   "metadata": {
    "execution": {
     "iopub.execute_input": "2022-03-20T19:08:45.481421Z",
     "iopub.status.busy": "2022-03-20T19:08:45.475704Z",
     "iopub.status.idle": "2022-03-20T19:08:45.485049Z",
     "shell.execute_reply": "2022-03-20T19:08:45.484522Z",
     "shell.execute_reply.started": "2022-03-20T18:49:29.174995Z"
    },
    "papermill": {
     "duration": 0.045909,
     "end_time": "2022-03-20T19:08:45.485182",
     "exception": false,
     "start_time": "2022-03-20T19:08:45.439273",
     "status": "completed"
    },
    "tags": []
   },
   "outputs": [],
   "source": [
    "class ShopeeLabelGroupClassfier(nn.Module):\n",
    "    \n",
    "    def __init__(self,\n",
    "                     model_name='tf_efficientnet_b0',\n",
    "                     loss_fn='softmax',\n",
    "                     classes = CFG.classes,\n",
    "                     fc_dim = CFG.fc_dim,\n",
    "                     pretrained=True,\n",
    "                     use_fc=True,\n",
    "                     isTraining=False\n",
    "                ):\n",
    "        \n",
    "        \n",
    "        super(ShopeeLabelGroupClassfier,self).__init__()\n",
    "        \n",
    "        # create bottlenack backbone network from pretrained model \n",
    "        self.backbone = timm.create_model(model_name, pretrained=pretrained)\n",
    "        in_features = self.backbone.classifier.in_features\n",
    "        # we will put FC layers over backbone to classfy images based on label groups\n",
    "        self.backbone.classifier = nn.Identity()\n",
    "        self.backbone.global_pool = nn.Identity()\n",
    "        self.pooling = nn.AdaptiveAvgPool2d(1)\n",
    "        self.use_fc = use_fc\n",
    "        self.loss_fn =loss_fn\n",
    "        \n",
    "        # build top fc layers\n",
    "        if self.use_fc:\n",
    "            self.dropout = nn.Dropout(0.2)\n",
    "            self.fc = nn.Linear(in_features,fc_dim )\n",
    "            self.bn = nn.BatchNorm1d(fc_dim)\n",
    "            in_features = fc_dim\n",
    "        self.loss_fn = loss_fn\n",
    "        \n",
    "        if self.loss_fn=='softmax':\n",
    "            self.final = nn.Linear(in_features, CFG.classes)\n",
    "    \n",
    "    def forward(self, image, label):\n",
    "        features = self.get_features(image)\n",
    "        \n",
    "        if self.loss_fn=='softmax':\n",
    "            logits = self.final(features)\n",
    "            \n",
    "        return logits\n",
    "    \n",
    "    def get_features(self,inp):\n",
    "        batch_dim = inp.shape[0]\n",
    "        inp = self.backbone(inp)\n",
    "        inp = self.pooling(inp).view(batch_dim, -1)\n",
    "        if self.use_fc:\n",
    "            inp = self.dropout(inp)\n",
    "            inp = self.fc(inp)\n",
    "            inp = self.bn(inp)\n",
    "        \n",
    "        return inp\n",
    "    \n",
    "    \n",
    "# shoppe_label_classfier = ShopeeLabelGroupClassfier()\n"
   ]
  },
  {
   "cell_type": "markdown",
   "id": "9ff7d80f",
   "metadata": {
    "papermill": {
     "duration": 0.028418,
     "end_time": "2022-03-20T19:08:45.542561",
     "exception": false,
     "start_time": "2022-03-20T19:08:45.514143",
     "status": "completed"
    },
    "tags": []
   },
   "source": [
    "# Training  Single Epoch\n"
   ]
  },
  {
   "cell_type": "code",
   "execution_count": 9,
   "id": "e7d7b451",
   "metadata": {
    "execution": {
     "iopub.execute_input": "2022-03-20T19:08:45.613235Z",
     "iopub.status.busy": "2022-03-20T19:08:45.611019Z",
     "iopub.status.idle": "2022-03-20T19:08:45.613984Z",
     "shell.execute_reply": "2022-03-20T19:08:45.614481Z",
     "shell.execute_reply.started": "2022-03-20T18:49:29.202415Z"
    },
    "papermill": {
     "duration": 0.041741,
     "end_time": "2022-03-20T19:08:45.614623",
     "exception": false,
     "start_time": "2022-03-20T19:08:45.572882",
     "status": "completed"
    },
    "tags": []
   },
   "outputs": [],
   "source": [
    "def training_one_epoch(epoch_num,model, dataloader,optimizer, scheduler, device, loss_criteria):\n",
    "    avgloss = 0.0\n",
    "    # put model in traning model\n",
    "    model.train()\n",
    "    tq = tqdm(enumerate(dataloader), total=len(dataloader))\n",
    "    \n",
    "    for idx, data in tq:\n",
    "        batch_size = data[0].shape[0]\n",
    "        images = data[0]\n",
    "        targets = data[1]\n",
    "        # zero out gradient\n",
    "        optimizer.zero_grad()\n",
    "        # put input and target to device\n",
    "        images = images.to(device)\n",
    "        targets = targets.to(device)\n",
    "        # pass input to the model\n",
    "        output = model(images,targets)\n",
    "        # get loss\n",
    "        loss = loss_criteria(output,targets)\n",
    "        # backpropogation \n",
    "        loss.backward()\n",
    "        # update learning rate step\n",
    "        optimizer.step() \n",
    "        # avg loss\n",
    "        avgloss += loss.item() \n",
    "\n",
    "        tq.set_postfix({'loss' : '%.6f' %float(avgloss/(idx+1)), 'LR' : optimizer.param_groups[0]['lr']})\n",
    "        \n",
    "    # lr scheduler step after each epoch\n",
    "    scheduler.step()\n",
    "    return avgloss / len(dataloader)\n",
    "    \n",
    "    \n",
    "    \n",
    "    \n",
    "    \n",
    "    "
   ]
  },
  {
   "cell_type": "markdown",
   "id": "71d61426",
   "metadata": {
    "papermill": {
     "duration": 0.031566,
     "end_time": "2022-03-20T19:08:45.675895",
     "exception": false,
     "start_time": "2022-03-20T19:08:45.644329",
     "status": "completed"
    },
    "tags": []
   },
   "source": [
    "# Validating Single Epoch"
   ]
  },
  {
   "cell_type": "code",
   "execution_count": 10,
   "id": "9c674ee1",
   "metadata": {
    "execution": {
     "iopub.execute_input": "2022-03-20T19:08:45.755253Z",
     "iopub.status.busy": "2022-03-20T19:08:45.754209Z",
     "iopub.status.idle": "2022-03-20T19:08:45.759772Z",
     "shell.execute_reply": "2022-03-20T19:08:45.760275Z",
     "shell.execute_reply.started": "2022-03-20T18:49:29.213796Z"
    },
    "papermill": {
     "duration": 0.043497,
     "end_time": "2022-03-20T19:08:45.760420",
     "exception": false,
     "start_time": "2022-03-20T19:08:45.716923",
     "status": "completed"
    },
    "tags": []
   },
   "outputs": [],
   "source": [
    "\n",
    "\n",
    "def validation_one_epoch(model, dataloader, epoch, device, loss_criteria):\n",
    "    avgloss = 0.0\n",
    "    # put model in traning model\n",
    "    model.eval()\n",
    "    tq = tqdm(enumerate(dataloader), desc = \"Training Epoch { }\" + str(epoch+1))\n",
    "    \n",
    "    y_true=[]\n",
    "    y_pred=[]\n",
    "    with torch.no_grad():\n",
    "        for idx, data in tq:\n",
    "            batch_size = data[0].shape[0]\n",
    "            images = data[0]\n",
    "            targets = data[1]\n",
    "\n",
    "            images = images.to(device)\n",
    "            targets = targets.to(device)\n",
    "            output = model(images,targets)\n",
    "            predicted_label=torch.argmax(output,1)\n",
    "            y_true.extend(targets.detach().cpu().numpy())\n",
    "            y_pred.extend(predicted_label.detach().cpu().numpy())\n",
    "            loss = loss_criteria(output,targets)\n",
    "\n",
    "            avgloss += loss.item() \n",
    "\n",
    "            tq.set_postfix({'validation loss' : '%.6f' %float(avgloss/(idx+1))})\n",
    "    f1_score_metric = f1_score(y_true, y_pred, average='micro')\n",
    "    tq.set_postfix({'validation f1 score' : '%.6f' %float(f1_score_metric)})\n",
    "    return avgloss / len(dataloader),f1_score_metric\n",
    "        \n"
   ]
  },
  {
   "cell_type": "markdown",
   "id": "3e4b8d40",
   "metadata": {
    "papermill": {
     "duration": 0.030367,
     "end_time": "2022-03-20T19:08:45.823460",
     "exception": false,
     "start_time": "2022-03-20T19:08:45.793093",
     "status": "completed"
    },
    "tags": []
   },
   "source": [
    "## Helper Function for Handling class imbalanced data"
   ]
  },
  {
   "cell_type": "code",
   "execution_count": 11,
   "id": "69860c08",
   "metadata": {
    "execution": {
     "iopub.execute_input": "2022-03-20T19:08:45.891829Z",
     "iopub.status.busy": "2022-03-20T19:08:45.890697Z",
     "iopub.status.idle": "2022-03-20T19:08:45.894091Z",
     "shell.execute_reply": "2022-03-20T19:08:45.893510Z",
     "shell.execute_reply.started": "2022-03-20T18:49:29.226762Z"
    },
    "papermill": {
     "duration": 0.040481,
     "end_time": "2022-03-20T19:08:45.894220",
     "exception": false,
     "start_time": "2022-03-20T19:08:45.853739",
     "status": "completed"
    },
    "tags": []
   },
   "outputs": [],
   "source": [
    "import numpy as np \n",
    "def get_class_weights(data):\n",
    "    weight_dict=dict()\n",
    "    # Format of row : PostingId, Image, ImageHash, Title, LabelGroup\n",
    "    # LabelGroup index is 4 and it is representating class information\n",
    "    for row in data.values:\n",
    "        weight_dict[row[4]]=0\n",
    "    # Word dictionary keys will be label and value will be frequency of label in dataset\n",
    "    for row in data.values:\n",
    "        weight_dict[row[4]]+=1\n",
    "    # for each data point get label count data\n",
    "    class_sample_count= np.array([weight_dict[row[4]] for row in data.values])\n",
    "    # each data point weight will be inverse of frequency\n",
    "    weight = 1. / class_sample_count\n",
    "    weight=torch.from_numpy(weight)\n",
    "    return weight"
   ]
  },
  {
   "cell_type": "markdown",
   "id": "7fca6446",
   "metadata": {
    "papermill": {
     "duration": 0.029832,
     "end_time": "2022-03-20T19:08:45.954152",
     "exception": false,
     "start_time": "2022-03-20T19:08:45.924320",
     "status": "completed"
    },
    "tags": []
   },
   "source": [
    "# Training Loop"
   ]
  },
  {
   "cell_type": "code",
   "execution_count": 12,
   "id": "e134244f",
   "metadata": {
    "execution": {
     "iopub.execute_input": "2022-03-20T19:08:46.032634Z",
     "iopub.status.busy": "2022-03-20T19:08:46.031518Z",
     "iopub.status.idle": "2022-03-20T19:08:46.034188Z",
     "shell.execute_reply": "2022-03-20T19:08:46.034663Z",
     "shell.execute_reply.started": "2022-03-20T18:49:29.237935Z"
    },
    "papermill": {
     "duration": 0.051037,
     "end_time": "2022-03-20T19:08:46.034858",
     "exception": false,
     "start_time": "2022-03-20T19:08:45.983821",
     "status": "completed"
    },
    "tags": []
   },
   "outputs": [],
   "source": [
    "def run_training():\n",
    "    data = pd.read_csv('../input/crossvalidationfolds/folds.csv')\n",
    "    \n",
    "    # label encoding\n",
    "    labelencoder= LabelEncoder()\n",
    "    data['label_group_original']=data['label_group']\n",
    "    data['label_group'] = labelencoder.fit_transform(data['label_group'])\n",
    "    #data['weights'] = data['label_group'].map(1/data['label_group'].value_counts())\n",
    "    # create training_data and validation data initially not using k fold\n",
    "    train_data = data[data['fold']!=0]\n",
    "    # get weights for  classes\n",
    "    samples_weight=get_class_weights(train_data)\n",
    "    \n",
    "    print(\"samples_weight\", len(samples_weight))\n",
    "    validation_data = data[data['fold']==0]\n",
    "    \n",
    "    # training augmentation\n",
    "    train_aug = getAugmentation(CFG.img_size,isTraining=True )\n",
    "    validation_aug = getAugmentation(CFG.img_size, isTraining=False)\n",
    "    # create custom train and validation dataset\n",
    "    \n",
    "    trainset = ShopeeDataset(train_data, TRAIN_DIR, isTraining=True, transform = train_aug)\n",
    "    validset = ShopeeDataset(validation_data, TRAIN_DIR, isTraining=False, transform = validation_aug)\n",
    "    print(len(data), len(samples_weight))\n",
    "    print(len(trainset))\n",
    "    # create data sampler\n",
    "                  \n",
    "    sampler = torch.utils.data.sampler.WeightedRandomSampler(samples_weight, num_samples=len(samples_weight))   \n",
    "    \n",
    "    # create custom training and validation data loader num_workers=CFG.num_workers,\n",
    "    train_dataloader = DataLoader(trainset, batch_size=CFG.batch_size,\n",
    "                          drop_last=True,pin_memory=True, sampler=sampler)\n",
    "    \n",
    "    validation_dataloader = DataLoader(validset, batch_size=CFG.batch_size,\n",
    "                         drop_last=True,pin_memory=True)\n",
    "    \n",
    "    \n",
    "    # define loss function\n",
    "    loss_criteria = nn.CrossEntropyLoss()\n",
    "    loss_criteria.to(CFG.device)\n",
    "    # define model\n",
    "    \n",
    "    model = ShopeeLabelGroupClassfier()\n",
    "    model.to(CFG.device)\n",
    "    \n",
    "    # define optimzer\n",
    "    optimizer = torch.optim.Adam(model.parameters(),lr= CFG.scheduler_params['lr_start'])\n",
    "    \n",
    "    # learning rate scheudler\n",
    "    scheduler = lr_scheduler.CosineAnnealingWarmRestarts(optimizer, T_0=7, T_mult=1, eta_min=1e-6, last_epoch=-1)\n",
    "    \n",
    "    history = {'train_loss':[],'validation_loss':[]}\n",
    "    for epoch in range(CFG.epochs):\n",
    "        \n",
    "        # get current epoch training loss\n",
    "        avg_train_loss = training_one_epoch(epoch_num = epoch,\n",
    "                                           model = model,\n",
    "                                           dataloader = train_dataloader,\n",
    "                                           optimizer = optimizer,\n",
    "                                           scheduler = scheduler,\n",
    "                                           device = CFG.device, \n",
    "                                           loss_criteria = loss_criteria)\n",
    "        \n",
    "        # get current epoch validation loss\n",
    "        avg_validation_loss = validation_one_epoch(model = model,\n",
    "                                           dataloader = validation_dataloader,\n",
    "                                           epoch = epoch,\n",
    "                                           device = CFG.device,\n",
    "                                           loss_criteria = loss_criteria)\n",
    "        \n",
    "        \n",
    "        history['train_loss'].append(avg_train_loss)\n",
    "        history['validation_loss'].append(avg_validation_loss)\n",
    "        \n",
    "        # save model\n",
    "        torch.save(model.state_dict(), MODEL_PATH + str(date.today()) +'_softmax_512x512_{}.pt'.format(CFG.model_name))\n",
    "        torch.save({\n",
    "            'epoch': epoch,\n",
    "            'model_state_dict': model.state_dict(),\n",
    "            'optimizer': optimizer.state_dict(),\n",
    "#             'scheduler': lr_scheduler.state_dict()\n",
    "            },\n",
    "            MODEL_PATH + str(date.today()) +'_softmax_512x512_{}_checkpoints.pt'.format(CFG.model_name)\n",
    "        )\n",
    "        \n",
    "    return model, history"
   ]
  },
  {
   "cell_type": "code",
   "execution_count": 13,
   "id": "12b18d67",
   "metadata": {
    "execution": {
     "iopub.execute_input": "2022-03-20T19:08:46.097503Z",
     "iopub.status.busy": "2022-03-20T19:08:46.096328Z",
     "iopub.status.idle": "2022-03-20T19:08:46.101342Z",
     "shell.execute_reply": "2022-03-20T19:08:46.101920Z",
     "shell.execute_reply.started": "2022-03-20T18:49:29.257434Z"
    },
    "papermill": {
     "duration": 0.037948,
     "end_time": "2022-03-20T19:08:46.102063",
     "exception": false,
     "start_time": "2022-03-20T19:08:46.064115",
     "status": "completed"
    },
    "tags": []
   },
   "outputs": [],
   "source": [
    "history=None\n",
    "if CFG.isTraining:\n",
    "    model, history = run_training()\n",
    "    "
   ]
  },
  {
   "cell_type": "markdown",
   "id": "66182def",
   "metadata": {
    "papermill": {
     "duration": 0.029053,
     "end_time": "2022-03-20T19:08:46.161017",
     "exception": false,
     "start_time": "2022-03-20T19:08:46.131964",
     "status": "completed"
    },
    "tags": []
   },
   "source": [
    "# Plot Training and Validation Loss and Accuracy"
   ]
  },
  {
   "cell_type": "code",
   "execution_count": 14,
   "id": "994cc8ac",
   "metadata": {
    "execution": {
     "iopub.execute_input": "2022-03-20T19:08:46.226527Z",
     "iopub.status.busy": "2022-03-20T19:08:46.225574Z",
     "iopub.status.idle": "2022-03-20T19:08:46.229055Z",
     "shell.execute_reply": "2022-03-20T19:08:46.228451Z",
     "shell.execute_reply.started": "2022-03-20T18:49:29.264019Z"
    },
    "papermill": {
     "duration": 0.038542,
     "end_time": "2022-03-20T19:08:46.229187",
     "exception": false,
     "start_time": "2022-03-20T19:08:46.190645",
     "status": "completed"
    },
    "tags": []
   },
   "outputs": [],
   "source": [
    "if CFG.isTraining:\n",
    "    epoch_lst = [ i+1 for i in range(15)]\n",
    "    plt.plot(epoch_lst,history['train_loss'])\n",
    "\n",
    "    plt.xlabel(\"Epoch number\")\n",
    "    plt.ylabel('Training Loss')\n",
    "    plt.title('Training Loss SoftMax Loss Function')\n",
    "    plt.show()"
   ]
  },
  {
   "cell_type": "code",
   "execution_count": 15,
   "id": "0c00f1da",
   "metadata": {
    "execution": {
     "iopub.execute_input": "2022-03-20T19:08:46.295174Z",
     "iopub.status.busy": "2022-03-20T19:08:46.294056Z",
     "iopub.status.idle": "2022-03-20T19:08:46.296530Z",
     "shell.execute_reply": "2022-03-20T19:08:46.297075Z",
     "shell.execute_reply.started": "2022-03-20T18:49:29.271952Z"
    },
    "papermill": {
     "duration": 0.038288,
     "end_time": "2022-03-20T19:08:46.297223",
     "exception": false,
     "start_time": "2022-03-20T19:08:46.258935",
     "status": "completed"
    },
    "tags": []
   },
   "outputs": [],
   "source": [
    "if CFG.isTraining:\n",
    "    plt.plot(epoch_lst,history['validation_loss'])\n",
    "    plt.xlabel(\"Epoch number\")\n",
    "    plt.ylabel('Validation Loss')\n",
    "    plt.title('Validation Loss SoftMax Loss Function')\n",
    "    plt.show()"
   ]
  },
  {
   "cell_type": "markdown",
   "id": "4fa3a90e",
   "metadata": {
    "papermill": {
     "duration": 0.030277,
     "end_time": "2022-03-20T19:08:46.357649",
     "exception": false,
     "start_time": "2022-03-20T19:08:46.327372",
     "status": "completed"
    },
    "tags": []
   },
   "source": [
    "# Prediction "
   ]
  },
  {
   "cell_type": "code",
   "execution_count": 16,
   "id": "10839ea4",
   "metadata": {
    "execution": {
     "iopub.execute_input": "2022-03-20T19:08:46.428925Z",
     "iopub.status.busy": "2022-03-20T19:08:46.422748Z",
     "iopub.status.idle": "2022-03-20T19:08:46.431938Z",
     "shell.execute_reply": "2022-03-20T19:08:46.431409Z",
     "shell.execute_reply.started": "2022-03-20T18:49:29.280581Z"
    },
    "papermill": {
     "duration": 0.04387,
     "end_time": "2022-03-20T19:08:46.432080",
     "exception": false,
     "start_time": "2022-03-20T19:08:46.388210",
     "status": "completed"
    },
    "tags": []
   },
   "outputs": [],
   "source": [
    "def prediction(model):\n",
    "    data = pd.read_csv('../input/crossvalidationfolds/folds.csv')\n",
    "\n",
    "    # label encoding\n",
    "    labelencoder= LabelEncoder()\n",
    "    data['label_group'] = labelencoder.fit_transform(data['label_group'])\n",
    "    # Prepare Validation data\n",
    "    validation_data = data[data['fold']==0]\n",
    "    validation_aug = getAugmentation(CFG.img_size,isTraining=False)\n",
    "    validset = ShopeeDataset(validation_data, TRAIN_DIR, isTraining=False, transform = validation_aug)\n",
    "    test_data_loader = torch.utils.data.DataLoader(validset,batch_size=CFG.batch_size)\n",
    "    \n",
    "    # put model in evalution mode\n",
    "    \n",
    "    model.eval()\n",
    "    \n",
    "    tq = tqdm(enumerate(test_data_loader))\n",
    "    y_true=[]\n",
    "    y_pred=[]\n",
    "    with torch.no_grad():\n",
    "        for idx, data in tq:\n",
    "            images = data[0]\n",
    "            targets = data[1]\n",
    "            \n",
    "            images = images.to(CFG.device)\n",
    "            targets = targets.to(CFG.device)\n",
    "            y_true.extend(targets.detach().cpu().numpy())\n",
    "            output = model(images,targets)\n",
    "            outputs=torch.argmax(output,1)\n",
    "            y_pred.extend(outputs.detach().cpu().numpy())\n",
    "        \n",
    "    f1_score_metric = f1_score(y_true, y_pred, average='micro')\n",
    "    return f1_score_metric\n",
    "    "
   ]
  },
  {
   "cell_type": "code",
   "execution_count": 17,
   "id": "3ab40d8a",
   "metadata": {
    "execution": {
     "iopub.execute_input": "2022-03-20T19:08:46.500050Z",
     "iopub.status.busy": "2022-03-20T19:08:46.499280Z",
     "iopub.status.idle": "2022-03-20T19:12:06.546993Z",
     "shell.execute_reply": "2022-03-20T19:12:06.547849Z",
     "shell.execute_reply.started": "2022-03-20T18:49:29.292604Z"
    },
    "papermill": {
     "duration": 200.086114,
     "end_time": "2022-03-20T19:12:06.548145",
     "exception": false,
     "start_time": "2022-03-20T19:08:46.462031",
     "status": "completed"
    },
    "tags": []
   },
   "outputs": [
    {
     "name": "stderr",
     "output_type": "stream",
     "text": [
      "215it [03:15,  1.10it/s]"
     ]
    },
    {
     "name": "stdout",
     "output_type": "stream",
     "text": [
      "F1 score 0.6274452554744525\n"
     ]
    },
    {
     "name": "stderr",
     "output_type": "stream",
     "text": [
      "\n"
     ]
    }
   ],
   "source": [
    "if not CFG.isTraining:\n",
    "    model = ShopeeLabelGroupClassfier(pretrained=False).to(CFG.device)\n",
    "    model.load_state_dict(torch.load(CFG.model_path))\n",
    "    f1=prediction(model)\n",
    "    print(\"F1 score {}\".format(f1))"
   ]
  }
 ],
 "metadata": {
  "kernelspec": {
   "display_name": "Python 3",
   "language": "python",
   "name": "python3"
  },
  "language_info": {
   "codemirror_mode": {
    "name": "ipython",
    "version": 3
   },
   "file_extension": ".py",
   "mimetype": "text/x-python",
   "name": "python",
   "nbconvert_exporter": "python",
   "pygments_lexer": "ipython3",
   "version": "3.7.12"
  },
  "papermill": {
   "default_parameters": {},
   "duration": 221.802351,
   "end_time": "2022-03-20T19:12:09.654462",
   "environment_variables": {},
   "exception": null,
   "input_path": "__notebook__.ipynb",
   "output_path": "__notebook__.ipynb",
   "parameters": {},
   "start_time": "2022-03-20T19:08:27.852111",
   "version": "2.3.3"
  }
 },
 "nbformat": 4,
 "nbformat_minor": 5
}
